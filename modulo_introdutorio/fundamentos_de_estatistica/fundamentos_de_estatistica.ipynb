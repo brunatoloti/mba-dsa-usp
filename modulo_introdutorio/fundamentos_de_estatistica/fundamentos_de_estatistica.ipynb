{
 "cells": [
  {
   "cell_type": "markdown",
   "id": "eef3a463",
   "metadata": {},
   "source": [
    "# Resolução da lista de exercícios\n",
    "\n",
    "Aula de Fundamentos de Estatística do MBA em Data Science e Analytics da USP/ESALQ"
   ]
  },
  {
   "cell_type": "code",
   "execution_count": 1,
   "id": "f3cca6db",
   "metadata": {},
   "outputs": [],
   "source": [
    "import pandas as pd\n",
    "import numpy as np\n",
    "import math"
   ]
  },
  {
   "cell_type": "markdown",
   "id": "e8afad2f",
   "metadata": {},
   "source": [
    "--------------------------------------------------------------------------------------------------------------------------------"
   ]
  },
  {
   "cell_type": "markdown",
   "id": "71f02c47",
   "metadata": {},
   "source": [
    "**1)** Na análise de concessão de empréstimos, uma variável potencialmente importante é a\n",
    "renda da pessoa. O gerente de um banco coleta uma base de dados de seus correntistas e\n",
    "extrai a variável “renda mensal (R$)” para 50 pessoas. Embora se trate de uma variável\n",
    "quantitativa, deseja realizar uma análise por meio de tabela de frequências. Neste sentido,\n",
    "pede-se:\n",
    "\n",
    "a)Classifique os correntistas em faixas de renda, sendo: 0-2.000; 2.001-4.000; 4.001-\n",
    "6.000; 6.001-8.000; 8.001-10.000 e 10.001-12.000.\n",
    "\n",
    "b) Em seguida, elabore a tabela de frequências para as faixas de renda acima"
   ]
  },
  {
   "cell_type": "code",
   "execution_count": 2,
   "id": "04057054",
   "metadata": {},
   "outputs": [
    {
     "name": "stdout",
     "output_type": "stream",
     "text": [
      "[1, 2, 3, 4, 5, 6, 7, 8, 9, 10, 11, 12, 13, 14, 15, 16, 17, 18, 19, 20, 21, 22, 23, 24, 25, 26, 27, 28, 29, 30, 31, 32, 33, 34, 35, 36, 37, 38, 39, 40, 41, 42, 43, 44, 45, 46, 47, 48, 49, 50]\n"
     ]
    }
   ],
   "source": [
    "observacoes = [i for i in range(1,51)]\n",
    "print(observacoes)"
   ]
  },
  {
   "cell_type": "code",
   "execution_count": 3,
   "id": "7adc5e92",
   "metadata": {},
   "outputs": [],
   "source": [
    "renda = [2893.70,3448.38,1460.81,2223.70,2500.70,1100.25,3560.10,5510.76,2900.90,10127.50,1855.00,3160.50,8630.00,6200.73,4129.99,2735.60,4448.00,2150.20,4595.10,5560.60,2800.00,9538.33,2000.00,3225.74,1900.25,7664.72,3890.00,6589.90,1240.50,1720.20,2555.60,4730.00,4745.40,8550.00,3860.10,11320.00,6125.00,5605.75,3250.00,1500.00,9215.55,4999.20,3900.00,7000.20,3508.37,1130.00,4120.60,2600.50,2900.77,4870.60]"
   ]
  },
  {
   "cell_type": "code",
   "execution_count": 4,
   "id": "677e0526",
   "metadata": {},
   "outputs": [
    {
     "data": {
      "text/html": [
       "<div>\n",
       "<style scoped>\n",
       "    .dataframe tbody tr th:only-of-type {\n",
       "        vertical-align: middle;\n",
       "    }\n",
       "\n",
       "    .dataframe tbody tr th {\n",
       "        vertical-align: top;\n",
       "    }\n",
       "\n",
       "    .dataframe thead th {\n",
       "        text-align: right;\n",
       "    }\n",
       "</style>\n",
       "<table border=\"1\" class=\"dataframe\">\n",
       "  <thead>\n",
       "    <tr style=\"text-align: right;\">\n",
       "      <th></th>\n",
       "      <th>Observação</th>\n",
       "      <th>Renda</th>\n",
       "    </tr>\n",
       "  </thead>\n",
       "  <tbody>\n",
       "    <tr>\n",
       "      <th>0</th>\n",
       "      <td>1</td>\n",
       "      <td>2893.70</td>\n",
       "    </tr>\n",
       "    <tr>\n",
       "      <th>1</th>\n",
       "      <td>2</td>\n",
       "      <td>3448.38</td>\n",
       "    </tr>\n",
       "    <tr>\n",
       "      <th>2</th>\n",
       "      <td>3</td>\n",
       "      <td>1460.81</td>\n",
       "    </tr>\n",
       "    <tr>\n",
       "      <th>3</th>\n",
       "      <td>4</td>\n",
       "      <td>2223.70</td>\n",
       "    </tr>\n",
       "    <tr>\n",
       "      <th>4</th>\n",
       "      <td>5</td>\n",
       "      <td>2500.70</td>\n",
       "    </tr>\n",
       "  </tbody>\n",
       "</table>\n",
       "</div>"
      ],
      "text/plain": [
       "   Observação    Renda\n",
       "0           1  2893.70\n",
       "1           2  3448.38\n",
       "2           3  1460.81\n",
       "3           4  2223.70\n",
       "4           5  2500.70"
      ]
     },
     "execution_count": 4,
     "metadata": {},
     "output_type": "execute_result"
    }
   ],
   "source": [
    "df = pd.DataFrame({'Observação': observacoes, 'Renda': renda})\n",
    "df.head()"
   ]
  },
  {
   "cell_type": "code",
   "execution_count": 5,
   "id": "6a3295fb",
   "metadata": {},
   "outputs": [
    {
     "data": {
      "text/plain": [
       "[0, 2000, 4000, 6000, 8000, 10000, 12000]"
      ]
     },
     "execution_count": 5,
     "metadata": {},
     "output_type": "execute_result"
    }
   ],
   "source": [
    "classes_renda = [0, 2000, 4000, 6000, 8000, 10000, 12000]\n",
    "classes_renda"
   ]
  },
  {
   "cell_type": "code",
   "execution_count": 6,
   "id": "0eb8cf0b",
   "metadata": {},
   "outputs": [],
   "source": [
    "labels_renda = ['0-2.000', '2.001-4.000', '4.001-6.000', '6.001-8.000', '8.001-10.000', '10.001-12.000']"
   ]
  },
  {
   "cell_type": "code",
   "execution_count": 7,
   "id": "68115c22",
   "metadata": {},
   "outputs": [
    {
     "data": {
      "text/plain": [
       "2.001-4.000      19\n",
       "4.001-6.000      11\n",
       "0-2.000           9\n",
       "6.001-8.000       5\n",
       "8.001-10.000      4\n",
       "10.001-12.000     2\n",
       "Name: Renda, dtype: int64"
      ]
     },
     "execution_count": 7,
     "metadata": {},
     "output_type": "execute_result"
    }
   ],
   "source": [
    "freq_renda = pd.value_counts(\n",
    "                pd.cut(x = df.Renda,\n",
    "                       bins = classes_renda,\n",
    "                       labels = labels_renda,\n",
    "                       include_lowest = True)\n",
    "            )\n",
    "freq_renda"
   ]
  },
  {
   "cell_type": "code",
   "execution_count": 8,
   "id": "7beb6dfb",
   "metadata": {},
   "outputs": [
    {
     "data": {
      "text/plain": [
       "2.001-4.000      0.38\n",
       "4.001-6.000      0.22\n",
       "0-2.000          0.18\n",
       "6.001-8.000      0.10\n",
       "8.001-10.000     0.08\n",
       "10.001-12.000    0.04\n",
       "Name: Renda, dtype: float64"
      ]
     },
     "execution_count": 8,
     "metadata": {},
     "output_type": "execute_result"
    }
   ],
   "source": [
    "perc_renda = pd.value_counts(\n",
    "                pd.cut(x = df.Renda,\n",
    "                       bins = classes_renda,\n",
    "                       labels = labels_renda,\n",
    "                       include_lowest = True),\n",
    "                normalize = True\n",
    "            )\n",
    "perc_renda"
   ]
  },
  {
   "cell_type": "code",
   "execution_count": 9,
   "id": "75b733cc",
   "metadata": {},
   "outputs": [
    {
     "data": {
      "text/html": [
       "<div>\n",
       "<style scoped>\n",
       "    .dataframe tbody tr th:only-of-type {\n",
       "        vertical-align: middle;\n",
       "    }\n",
       "\n",
       "    .dataframe tbody tr th {\n",
       "        vertical-align: top;\n",
       "    }\n",
       "\n",
       "    .dataframe thead th {\n",
       "        text-align: right;\n",
       "    }\n",
       "</style>\n",
       "<table border=\"1\" class=\"dataframe\">\n",
       "  <thead>\n",
       "    <tr style=\"text-align: right;\">\n",
       "      <th></th>\n",
       "      <th>frequencia</th>\n",
       "      <th>porcentagem</th>\n",
       "    </tr>\n",
       "  </thead>\n",
       "  <tbody>\n",
       "    <tr>\n",
       "      <th>2.001-4.000</th>\n",
       "      <td>19</td>\n",
       "      <td>0.38</td>\n",
       "    </tr>\n",
       "    <tr>\n",
       "      <th>4.001-6.000</th>\n",
       "      <td>11</td>\n",
       "      <td>0.22</td>\n",
       "    </tr>\n",
       "    <tr>\n",
       "      <th>0-2.000</th>\n",
       "      <td>9</td>\n",
       "      <td>0.18</td>\n",
       "    </tr>\n",
       "    <tr>\n",
       "      <th>6.001-8.000</th>\n",
       "      <td>5</td>\n",
       "      <td>0.10</td>\n",
       "    </tr>\n",
       "    <tr>\n",
       "      <th>8.001-10.000</th>\n",
       "      <td>4</td>\n",
       "      <td>0.08</td>\n",
       "    </tr>\n",
       "    <tr>\n",
       "      <th>10.001-12.000</th>\n",
       "      <td>2</td>\n",
       "      <td>0.04</td>\n",
       "    </tr>\n",
       "  </tbody>\n",
       "</table>\n",
       "</div>"
      ],
      "text/plain": [
       "               frequencia  porcentagem\n",
       "2.001-4.000            19         0.38\n",
       "4.001-6.000            11         0.22\n",
       "0-2.000                 9         0.18\n",
       "6.001-8.000             5         0.10\n",
       "8.001-10.000            4         0.08\n",
       "10.001-12.000           2         0.04"
      ]
     },
     "execution_count": 9,
     "metadata": {},
     "output_type": "execute_result"
    }
   ],
   "source": [
    "dist_freq_quanti_personalizadas = pd.DataFrame({'frequencia': freq_renda, 'porcentagem': perc_renda})\n",
    "dist_freq_quanti_personalizadas"
   ]
  },
  {
   "cell_type": "markdown",
   "id": "ddc5e7c9",
   "metadata": {},
   "source": [
    "--------------------------------------------------------------------------------------------------------------------------------"
   ]
  },
  {
   "cell_type": "markdown",
   "id": "81e1ec92",
   "metadata": {},
   "source": [
    "**2)** Um analista do mercado acionário coletou os retornos mensais de duas ações que\n",
    "pretende indicar aos seus clientes. Calcule as estatísticas descritivas para as duas\n",
    "variáveis, incluindo o coeficiente de correlação entre os retornos."
   ]
  },
  {
   "cell_type": "code",
   "execution_count": 212,
   "id": "180746ef",
   "metadata": {},
   "outputs": [
    {
     "name": "stdout",
     "output_type": "stream",
     "text": [
      "[1, 2, 3, 4, 5, 6, 7, 8, 9, 10, 11, 12, 13, 14, 15, 16, 17, 18, 19, 20, 21, 22, 23]\n"
     ]
    }
   ],
   "source": [
    "meses = [i for i in range(1, 24)]\n",
    "print(meses)"
   ]
  },
  {
   "cell_type": "code",
   "execution_count": 213,
   "id": "d140a48d",
   "metadata": {},
   "outputs": [
    {
     "name": "stdout",
     "output_type": "stream",
     "text": [
      "[-0.0212, 0.2438, 0.2296, -0.2018, 0.1296, 0.0615, -0.1591, -0.1001, -0.0265, 0.0776, 0.037, 0.1116, -0.0667, -0.0082, 0.0119, 0.1205, 0.0477, 0.2814, -0.0674, 0.0762, -0.1111, -0.0557, 0.1991]\n"
     ]
    }
   ],
   "source": [
    "acao1 = [-0.0212,0.2438,0.2296,-0.2018,0.1296,0.0615,-0.1591,-0.1001,-0.0265,0.0776,0.0370,0.1116,-0.0667,-0.0082,0.0119,0.1205,0.0477,0.2814,-0.0674,0.0762,-0.1111,-0.0557,0.1991]\n",
    "print(acao1)"
   ]
  },
  {
   "cell_type": "code",
   "execution_count": 214,
   "id": "b4752645",
   "metadata": {},
   "outputs": [
    {
     "name": "stdout",
     "output_type": "stream",
     "text": [
      "[0.2645, 0.2086, 0.1248, 0.0209, 0.2055, 0.626, -0.149, 0.258, 0.1722, 0.0199, 0.4331, 0.5482, 0.0452, -0.141, -0.1059, 0.4074, -0.0056, 0.1482, 0.0753, 0.0899, 0.016, 0.1805, 0.0334]\n"
     ]
    }
   ],
   "source": [
    "acao2 = [0.2645,0.2086,0.1248,0.0209,0.2055,0.6260,-0.1490,0.2580,0.1722,0.0199,0.4331,0.5482,0.0452,-0.1410,-0.1059,0.4074,-0.0056,0.1482,0.0753,0.0899,0.0160,0.1805,0.0334]\n",
    "print(acao2)"
   ]
  },
  {
   "cell_type": "code",
   "execution_count": 215,
   "id": "daf1ea5f",
   "metadata": {},
   "outputs": [
    {
     "data": {
      "text/html": [
       "<div>\n",
       "<style scoped>\n",
       "    .dataframe tbody tr th:only-of-type {\n",
       "        vertical-align: middle;\n",
       "    }\n",
       "\n",
       "    .dataframe tbody tr th {\n",
       "        vertical-align: top;\n",
       "    }\n",
       "\n",
       "    .dataframe thead th {\n",
       "        text-align: right;\n",
       "    }\n",
       "</style>\n",
       "<table border=\"1\" class=\"dataframe\">\n",
       "  <thead>\n",
       "    <tr style=\"text-align: right;\">\n",
       "      <th></th>\n",
       "      <th>Meses</th>\n",
       "      <th>Ação 1</th>\n",
       "      <th>Ação 2</th>\n",
       "    </tr>\n",
       "  </thead>\n",
       "  <tbody>\n",
       "    <tr>\n",
       "      <th>0</th>\n",
       "      <td>1</td>\n",
       "      <td>-0.0212</td>\n",
       "      <td>0.2645</td>\n",
       "    </tr>\n",
       "    <tr>\n",
       "      <th>1</th>\n",
       "      <td>2</td>\n",
       "      <td>0.2438</td>\n",
       "      <td>0.2086</td>\n",
       "    </tr>\n",
       "    <tr>\n",
       "      <th>2</th>\n",
       "      <td>3</td>\n",
       "      <td>0.2296</td>\n",
       "      <td>0.1248</td>\n",
       "    </tr>\n",
       "    <tr>\n",
       "      <th>3</th>\n",
       "      <td>4</td>\n",
       "      <td>-0.2018</td>\n",
       "      <td>0.0209</td>\n",
       "    </tr>\n",
       "    <tr>\n",
       "      <th>4</th>\n",
       "      <td>5</td>\n",
       "      <td>0.1296</td>\n",
       "      <td>0.2055</td>\n",
       "    </tr>\n",
       "    <tr>\n",
       "      <th>5</th>\n",
       "      <td>6</td>\n",
       "      <td>0.0615</td>\n",
       "      <td>0.6260</td>\n",
       "    </tr>\n",
       "    <tr>\n",
       "      <th>6</th>\n",
       "      <td>7</td>\n",
       "      <td>-0.1591</td>\n",
       "      <td>-0.1490</td>\n",
       "    </tr>\n",
       "    <tr>\n",
       "      <th>7</th>\n",
       "      <td>8</td>\n",
       "      <td>-0.1001</td>\n",
       "      <td>0.2580</td>\n",
       "    </tr>\n",
       "    <tr>\n",
       "      <th>8</th>\n",
       "      <td>9</td>\n",
       "      <td>-0.0265</td>\n",
       "      <td>0.1722</td>\n",
       "    </tr>\n",
       "    <tr>\n",
       "      <th>9</th>\n",
       "      <td>10</td>\n",
       "      <td>0.0776</td>\n",
       "      <td>0.0199</td>\n",
       "    </tr>\n",
       "    <tr>\n",
       "      <th>10</th>\n",
       "      <td>11</td>\n",
       "      <td>0.0370</td>\n",
       "      <td>0.4331</td>\n",
       "    </tr>\n",
       "    <tr>\n",
       "      <th>11</th>\n",
       "      <td>12</td>\n",
       "      <td>0.1116</td>\n",
       "      <td>0.5482</td>\n",
       "    </tr>\n",
       "    <tr>\n",
       "      <th>12</th>\n",
       "      <td>13</td>\n",
       "      <td>-0.0667</td>\n",
       "      <td>0.0452</td>\n",
       "    </tr>\n",
       "    <tr>\n",
       "      <th>13</th>\n",
       "      <td>14</td>\n",
       "      <td>-0.0082</td>\n",
       "      <td>-0.1410</td>\n",
       "    </tr>\n",
       "    <tr>\n",
       "      <th>14</th>\n",
       "      <td>15</td>\n",
       "      <td>0.0119</td>\n",
       "      <td>-0.1059</td>\n",
       "    </tr>\n",
       "    <tr>\n",
       "      <th>15</th>\n",
       "      <td>16</td>\n",
       "      <td>0.1205</td>\n",
       "      <td>0.4074</td>\n",
       "    </tr>\n",
       "    <tr>\n",
       "      <th>16</th>\n",
       "      <td>17</td>\n",
       "      <td>0.0477</td>\n",
       "      <td>-0.0056</td>\n",
       "    </tr>\n",
       "    <tr>\n",
       "      <th>17</th>\n",
       "      <td>18</td>\n",
       "      <td>0.2814</td>\n",
       "      <td>0.1482</td>\n",
       "    </tr>\n",
       "    <tr>\n",
       "      <th>18</th>\n",
       "      <td>19</td>\n",
       "      <td>-0.0674</td>\n",
       "      <td>0.0753</td>\n",
       "    </tr>\n",
       "    <tr>\n",
       "      <th>19</th>\n",
       "      <td>20</td>\n",
       "      <td>0.0762</td>\n",
       "      <td>0.0899</td>\n",
       "    </tr>\n",
       "    <tr>\n",
       "      <th>20</th>\n",
       "      <td>21</td>\n",
       "      <td>-0.1111</td>\n",
       "      <td>0.0160</td>\n",
       "    </tr>\n",
       "    <tr>\n",
       "      <th>21</th>\n",
       "      <td>22</td>\n",
       "      <td>-0.0557</td>\n",
       "      <td>0.1805</td>\n",
       "    </tr>\n",
       "    <tr>\n",
       "      <th>22</th>\n",
       "      <td>23</td>\n",
       "      <td>0.1991</td>\n",
       "      <td>0.0334</td>\n",
       "    </tr>\n",
       "  </tbody>\n",
       "</table>\n",
       "</div>"
      ],
      "text/plain": [
       "    Meses  Ação 1  Ação 2\n",
       "0       1 -0.0212  0.2645\n",
       "1       2  0.2438  0.2086\n",
       "2       3  0.2296  0.1248\n",
       "3       4 -0.2018  0.0209\n",
       "4       5  0.1296  0.2055\n",
       "5       6  0.0615  0.6260\n",
       "6       7 -0.1591 -0.1490\n",
       "7       8 -0.1001  0.2580\n",
       "8       9 -0.0265  0.1722\n",
       "9      10  0.0776  0.0199\n",
       "10     11  0.0370  0.4331\n",
       "11     12  0.1116  0.5482\n",
       "12     13 -0.0667  0.0452\n",
       "13     14 -0.0082 -0.1410\n",
       "14     15  0.0119 -0.1059\n",
       "15     16  0.1205  0.4074\n",
       "16     17  0.0477 -0.0056\n",
       "17     18  0.2814  0.1482\n",
       "18     19 -0.0674  0.0753\n",
       "19     20  0.0762  0.0899\n",
       "20     21 -0.1111  0.0160\n",
       "21     22 -0.0557  0.1805\n",
       "22     23  0.1991  0.0334"
      ]
     },
     "execution_count": 215,
     "metadata": {},
     "output_type": "execute_result"
    }
   ],
   "source": [
    "df = pd.DataFrame({'Meses': meses, 'Ação 1': acao1, 'Ação 2': acao2})\n",
    "df"
   ]
  },
  {
   "cell_type": "markdown",
   "id": "e63be302",
   "metadata": {},
   "source": [
    "Uma forma de calcular algumas estatísticas descritivas das variáveis é usando o método *describe()* do pandas.\n",
    "\n",
    "Vejamos isso:"
   ]
  },
  {
   "cell_type": "code",
   "execution_count": 216,
   "id": "c0d0bedf",
   "metadata": {},
   "outputs": [
    {
     "data": {
      "text/html": [
       "<div>\n",
       "<style scoped>\n",
       "    .dataframe tbody tr th:only-of-type {\n",
       "        vertical-align: middle;\n",
       "    }\n",
       "\n",
       "    .dataframe tbody tr th {\n",
       "        vertical-align: top;\n",
       "    }\n",
       "\n",
       "    .dataframe thead th {\n",
       "        text-align: right;\n",
       "    }\n",
       "</style>\n",
       "<table border=\"1\" class=\"dataframe\">\n",
       "  <thead>\n",
       "    <tr style=\"text-align: right;\">\n",
       "      <th></th>\n",
       "      <th>Ação 1</th>\n",
       "      <th>Ação 2</th>\n",
       "    </tr>\n",
       "  </thead>\n",
       "  <tbody>\n",
       "    <tr>\n",
       "      <th>count</th>\n",
       "      <td>23.000000</td>\n",
       "      <td>23.000000</td>\n",
       "    </tr>\n",
       "    <tr>\n",
       "      <th>mean</th>\n",
       "      <td>0.035204</td>\n",
       "      <td>0.151135</td>\n",
       "    </tr>\n",
       "    <tr>\n",
       "      <th>std</th>\n",
       "      <td>0.129221</td>\n",
       "      <td>0.203822</td>\n",
       "    </tr>\n",
       "    <tr>\n",
       "      <th>min</th>\n",
       "      <td>-0.201800</td>\n",
       "      <td>-0.149000</td>\n",
       "    </tr>\n",
       "    <tr>\n",
       "      <th>25%</th>\n",
       "      <td>-0.061200</td>\n",
       "      <td>0.020400</td>\n",
       "    </tr>\n",
       "    <tr>\n",
       "      <th>27%</th>\n",
       "      <td>-0.056360</td>\n",
       "      <td>0.020840</td>\n",
       "    </tr>\n",
       "    <tr>\n",
       "      <th>50%</th>\n",
       "      <td>0.037000</td>\n",
       "      <td>0.124800</td>\n",
       "    </tr>\n",
       "    <tr>\n",
       "      <th>64%</th>\n",
       "      <td>0.076312</td>\n",
       "      <td>0.182500</td>\n",
       "    </tr>\n",
       "    <tr>\n",
       "      <th>75%</th>\n",
       "      <td>0.116050</td>\n",
       "      <td>0.233300</td>\n",
       "    </tr>\n",
       "    <tr>\n",
       "      <th>80%</th>\n",
       "      <td>0.125960</td>\n",
       "      <td>0.261900</td>\n",
       "    </tr>\n",
       "    <tr>\n",
       "      <th>90%</th>\n",
       "      <td>0.223500</td>\n",
       "      <td>0.427960</td>\n",
       "    </tr>\n",
       "    <tr>\n",
       "      <th>max</th>\n",
       "      <td>0.281400</td>\n",
       "      <td>0.626000</td>\n",
       "    </tr>\n",
       "  </tbody>\n",
       "</table>\n",
       "</div>"
      ],
      "text/plain": [
       "          Ação 1     Ação 2\n",
       "count  23.000000  23.000000\n",
       "mean    0.035204   0.151135\n",
       "std     0.129221   0.203822\n",
       "min    -0.201800  -0.149000\n",
       "25%    -0.061200   0.020400\n",
       "27%    -0.056360   0.020840\n",
       "50%     0.037000   0.124800\n",
       "64%     0.076312   0.182500\n",
       "75%     0.116050   0.233300\n",
       "80%     0.125960   0.261900\n",
       "90%     0.223500   0.427960\n",
       "max     0.281400   0.626000"
      ]
     },
     "execution_count": 216,
     "metadata": {},
     "output_type": "execute_result"
    }
   ],
   "source": [
    "df[['Ação 1', 'Ação 2']].describe(percentiles=[0.25, 0.5, 0.75, 0.8, 0.9, 0.27, 0.64])"
   ]
  },
  {
   "cell_type": "markdown",
   "id": "7c82e8e6",
   "metadata": {},
   "source": [
    "Algumas medidas não aparecem no *describe()*. Calculando elas e as que já apareceram pelas fórmulas python:"
   ]
  },
  {
   "cell_type": "markdown",
   "id": "4eeea0e5",
   "metadata": {},
   "source": [
    "**Número de observações**"
   ]
  },
  {
   "cell_type": "code",
   "execution_count": 15,
   "id": "84f24059",
   "metadata": {},
   "outputs": [],
   "source": [
    "n_observacoes_acao1 = df['Ação 1'].count()\n",
    "n_observacoes_acao2 = df['Ação 2'].count()"
   ]
  },
  {
   "cell_type": "code",
   "execution_count": 16,
   "id": "b7f717ee",
   "metadata": {},
   "outputs": [
    {
     "name": "stdout",
     "output_type": "stream",
     "text": [
      "Número de observações ação 1: 23\n",
      "Número de observações ação 2: 23\n"
     ]
    }
   ],
   "source": [
    "print(f\"Número de observações ação 1: {n_observacoes_acao1}\")\n",
    "print(f\"Número de observações ação 2: {n_observacoes_acao2}\")"
   ]
  },
  {
   "cell_type": "markdown",
   "id": "165247c7",
   "metadata": {},
   "source": [
    "**Média**"
   ]
  },
  {
   "cell_type": "code",
   "execution_count": 17,
   "id": "7dcad266",
   "metadata": {},
   "outputs": [],
   "source": [
    "media_acao1 = df['Ação 1'].mean()\n",
    "media_acao2 = df['Ação 2'].mean()"
   ]
  },
  {
   "cell_type": "code",
   "execution_count": 18,
   "id": "b757d52e",
   "metadata": {},
   "outputs": [
    {
     "name": "stdout",
     "output_type": "stream",
     "text": [
      "Média ação 1: 0.03520434782608696\n",
      "Média ação 2: 0.15113478260869564\n"
     ]
    }
   ],
   "source": [
    "print(f\"Média ação 1: {media_acao1}\")\n",
    "print(f\"Média ação 2: {media_acao2}\")"
   ]
  },
  {
   "cell_type": "markdown",
   "id": "6ea45f8f",
   "metadata": {},
   "source": [
    "**Mediana**"
   ]
  },
  {
   "cell_type": "code",
   "execution_count": 19,
   "id": "c5c69c5f",
   "metadata": {},
   "outputs": [],
   "source": [
    "mediana_acao1 = df['Ação 1'].median()\n",
    "mediana_acao2 = df['Ação 2'].median()"
   ]
  },
  {
   "cell_type": "code",
   "execution_count": 20,
   "id": "749778fe",
   "metadata": {},
   "outputs": [
    {
     "name": "stdout",
     "output_type": "stream",
     "text": [
      "Mediana ação 1: 0.037\n",
      "Mediana ação 2: 0.1248\n"
     ]
    }
   ],
   "source": [
    "print(f\"Mediana ação 1: {mediana_acao1}\")\n",
    "print(f\"Mediana ação 2: {mediana_acao2}\")"
   ]
  },
  {
   "cell_type": "markdown",
   "id": "ca6666ce",
   "metadata": {},
   "source": [
    "**Primeiro quartil**"
   ]
  },
  {
   "cell_type": "markdown",
   "id": "57480e29",
   "metadata": {},
   "source": [
    "Corresponde ao percentil 25"
   ]
  },
  {
   "cell_type": "code",
   "execution_count": 21,
   "id": "3332b734",
   "metadata": {},
   "outputs": [],
   "source": [
    "quartil1_acao1 = df['Ação 1'].quantile([0.25])\n",
    "quartil1_acao2 = df['Ação 2'].quantile([0.25])"
   ]
  },
  {
   "cell_type": "code",
   "execution_count": 22,
   "id": "d43d88e5",
   "metadata": {},
   "outputs": [
    {
     "name": "stdout",
     "output_type": "stream",
     "text": [
      "Primeiro quartil ação 1: 0.25   -0.0612\n",
      "Name: Ação 1, dtype: float64\n",
      "\n",
      "\n",
      "Primeiro quartil ação 2: 0.25    0.0204\n",
      "Name: Ação 2, dtype: float64\n"
     ]
    }
   ],
   "source": [
    "print(f\"Primeiro quartil ação 1: {quartil1_acao1}\")\n",
    "print('\\n')\n",
    "print(f\"Primeiro quartil ação 2: {quartil1_acao2}\")"
   ]
  },
  {
   "cell_type": "markdown",
   "id": "8e97753a",
   "metadata": {},
   "source": [
    "**Terceiro quartil**\n",
    "\n",
    "Corresponde ao percentil 75"
   ]
  },
  {
   "cell_type": "code",
   "execution_count": 23,
   "id": "299b4551",
   "metadata": {},
   "outputs": [],
   "source": [
    "quartil3_acao1 = df['Ação 1'].quantile([0.75])\n",
    "quartil3_acao2 = df['Ação 2'].quantile([0.75])"
   ]
  },
  {
   "cell_type": "code",
   "execution_count": 24,
   "id": "763f1059",
   "metadata": {},
   "outputs": [
    {
     "name": "stdout",
     "output_type": "stream",
     "text": [
      "Terceiro quartil ação 1: 0.75    0.11605\n",
      "Name: Ação 1, dtype: float64\n",
      "\n",
      "\n",
      "Terceiro quartil ação 2: 0.75    0.2333\n",
      "Name: Ação 2, dtype: float64\n"
     ]
    }
   ],
   "source": [
    "print(f\"Terceiro quartil ação 1: {quartil3_acao1}\")\n",
    "print('\\n')\n",
    "print(f\"Terceiro quartil ação 2: {quartil3_acao2}\")"
   ]
  },
  {
   "cell_type": "markdown",
   "id": "6549be11",
   "metadata": {},
   "source": [
    "**Oitavo decil**\n",
    "\n",
    "Corresponde ao percentil 80"
   ]
  },
  {
   "cell_type": "code",
   "execution_count": 25,
   "id": "942b5841",
   "metadata": {},
   "outputs": [],
   "source": [
    "decil8_acao1 = df['Ação 1'].quantile([0.8])\n",
    "decil8_acao2 = df['Ação 2'].quantile([0.8])"
   ]
  },
  {
   "cell_type": "code",
   "execution_count": 26,
   "id": "0257fc95",
   "metadata": {},
   "outputs": [
    {
     "name": "stdout",
     "output_type": "stream",
     "text": [
      "Oitavo decil ação 1: 0.8    0.12596\n",
      "Name: Ação 1, dtype: float64\n",
      "\n",
      "\n",
      "Oitavo decil ação 2: 0.8    0.2619\n",
      "Name: Ação 2, dtype: float64\n"
     ]
    }
   ],
   "source": [
    "print(f\"Oitavo decil ação 1: {decil8_acao1}\")\n",
    "print('\\n')\n",
    "print(f\"Oitavo decil ação 2: {decil8_acao2}\")"
   ]
  },
  {
   "cell_type": "markdown",
   "id": "b47fbfc3",
   "metadata": {},
   "source": [
    "**Nono decil**\n",
    "\n",
    "Corresponde ao percentil 90"
   ]
  },
  {
   "cell_type": "code",
   "execution_count": 27,
   "id": "40ac9a38",
   "metadata": {},
   "outputs": [],
   "source": [
    "decil9_acao1 = df['Ação 1'].quantile([0.9])\n",
    "decil9_acao2 = df['Ação 2'].quantile([0.9])"
   ]
  },
  {
   "cell_type": "code",
   "execution_count": 28,
   "id": "01222ca9",
   "metadata": {},
   "outputs": [
    {
     "name": "stdout",
     "output_type": "stream",
     "text": [
      "Nono decil ação 1: 0.9    0.2235\n",
      "Name: Ação 1, dtype: float64\n",
      "\n",
      "\n",
      "Nono decil ação 2: 0.9    0.42796\n",
      "Name: Ação 2, dtype: float64\n"
     ]
    }
   ],
   "source": [
    "print(f\"Nono decil ação 1: {decil9_acao1}\")\n",
    "print('\\n')\n",
    "print(f\"Nono decil ação 2: {decil9_acao2}\")"
   ]
  },
  {
   "cell_type": "markdown",
   "id": "73056146",
   "metadata": {},
   "source": [
    "**27º percentil**"
   ]
  },
  {
   "cell_type": "code",
   "execution_count": 29,
   "id": "ba2a7eeb",
   "metadata": {},
   "outputs": [],
   "source": [
    "percentil27_acao1 = df['Ação 1'].quantile([0.27])\n",
    "percentil27_acao2 = df['Ação 2'].quantile([0.27])"
   ]
  },
  {
   "cell_type": "code",
   "execution_count": 30,
   "id": "84399310",
   "metadata": {},
   "outputs": [
    {
     "name": "stdout",
     "output_type": "stream",
     "text": [
      "27º percentil ação 1: 0.27   -0.05636\n",
      "Name: Ação 1, dtype: float64\n",
      "\n",
      "\n",
      "27º percentil ação 2: 0.27    0.02084\n",
      "Name: Ação 2, dtype: float64\n"
     ]
    }
   ],
   "source": [
    "print(f\"27º percentil ação 1: {percentil27_acao1}\")\n",
    "print('\\n')\n",
    "print(f\"27º percentil ação 2: {percentil27_acao2}\")"
   ]
  },
  {
   "cell_type": "markdown",
   "id": "e416a4ba",
   "metadata": {},
   "source": [
    "**64º percentil**"
   ]
  },
  {
   "cell_type": "code",
   "execution_count": 31,
   "id": "9631f9d9",
   "metadata": {},
   "outputs": [],
   "source": [
    "percentil64_acao1 = df['Ação 1'].quantile([0.64])\n",
    "percentil64_acao2 = df['Ação 2'].quantile([0.64])"
   ]
  },
  {
   "cell_type": "code",
   "execution_count": 32,
   "id": "6999d874",
   "metadata": {},
   "outputs": [
    {
     "name": "stdout",
     "output_type": "stream",
     "text": [
      "64º percentil ação 1: 0.64    0.076312\n",
      "Name: Ação 1, dtype: float64\n",
      "\n",
      "\n",
      "64º percentil ação 2: 0.64    0.1825\n",
      "Name: Ação 2, dtype: float64\n"
     ]
    }
   ],
   "source": [
    "print(f\"64º percentil ação 1: {percentil64_acao1}\")\n",
    "print('\\n')\n",
    "print(f\"64º percentil ação 2: {percentil64_acao2}\")"
   ]
  },
  {
   "cell_type": "markdown",
   "id": "09b248a9",
   "metadata": {},
   "source": [
    "**Valor mínimo**"
   ]
  },
  {
   "cell_type": "code",
   "execution_count": 33,
   "id": "f8d5757d",
   "metadata": {},
   "outputs": [],
   "source": [
    "minimo_acao1 = df['Ação 1'].min()\n",
    "minimo_acao2 = df['Ação 2'].min()"
   ]
  },
  {
   "cell_type": "code",
   "execution_count": 34,
   "id": "2a5c20f7",
   "metadata": {},
   "outputs": [
    {
     "name": "stdout",
     "output_type": "stream",
     "text": [
      "Valor mínimo ação 1: -0.2018\n",
      "Valor mínimo ação 2: -0.149\n"
     ]
    }
   ],
   "source": [
    "print(f\"Valor mínimo ação 1: {minimo_acao1}\")\n",
    "print(f\"Valor mínimo ação 2: {minimo_acao2}\")"
   ]
  },
  {
   "cell_type": "markdown",
   "id": "f349a466",
   "metadata": {},
   "source": [
    "**Valor máximo**"
   ]
  },
  {
   "cell_type": "code",
   "execution_count": 35,
   "id": "d98b94f3",
   "metadata": {},
   "outputs": [],
   "source": [
    "maximo_acao1 = df['Ação 1'].max()\n",
    "maximo_acao2 = df['Ação 2'].max()"
   ]
  },
  {
   "cell_type": "code",
   "execution_count": 36,
   "id": "1fb6f298",
   "metadata": {},
   "outputs": [
    {
     "name": "stdout",
     "output_type": "stream",
     "text": [
      "Valor máximo ação 1: 0.2814\n",
      "Valor máximo ação 2: 0.626\n"
     ]
    }
   ],
   "source": [
    "print(f\"Valor máximo ação 1: {maximo_acao1}\")\n",
    "print(f\"Valor máximo ação 2: {maximo_acao2}\")"
   ]
  },
  {
   "cell_type": "markdown",
   "id": "140da252",
   "metadata": {},
   "source": [
    "**Amplitude**"
   ]
  },
  {
   "cell_type": "code",
   "execution_count": 37,
   "id": "c9e26fa9",
   "metadata": {},
   "outputs": [
    {
     "name": "stdout",
     "output_type": "stream",
     "text": [
      "Amplitude ação 1: 0.48319999999999996\n",
      "Amplitude ação 2: 0.775\n"
     ]
    }
   ],
   "source": [
    "print(f\"Amplitude ação 1: {maximo_acao1 - minimo_acao1}\")\n",
    "print(f\"Amplitude ação 2: {maximo_acao2 - minimo_acao2}\")"
   ]
  },
  {
   "cell_type": "markdown",
   "id": "183f5ba6",
   "metadata": {},
   "source": [
    "**Variância**"
   ]
  },
  {
   "cell_type": "code",
   "execution_count": 38,
   "id": "78ac4a79",
   "metadata": {},
   "outputs": [
    {
     "name": "stdout",
     "output_type": "stream",
     "text": [
      "Variância ação 1: 0.016698003162055334\n",
      "Variância ação 2: 0.041543523280632405\n"
     ]
    }
   ],
   "source": [
    "print(f\"Variância ação 1: {df['Ação 1'].var()}\")\n",
    "print(f\"Variância ação 2: {df['Ação 2'].var()}\")"
   ]
  },
  {
   "cell_type": "markdown",
   "id": "f974ebb7",
   "metadata": {},
   "source": [
    "**Desvio padrão**"
   ]
  },
  {
   "cell_type": "code",
   "execution_count": 39,
   "id": "6af637a1",
   "metadata": {},
   "outputs": [],
   "source": [
    "desvio_padrao_acao1 = math.sqrt(df['Ação 1'].var())\n",
    "desvio_padrao_acao2 = math.sqrt(df['Ação 2'].var())"
   ]
  },
  {
   "cell_type": "code",
   "execution_count": 40,
   "id": "6db219d9",
   "metadata": {},
   "outputs": [
    {
     "name": "stdout",
     "output_type": "stream",
     "text": [
      "Desvio padrão ação 1: 0.12922075360426952\n",
      "Desvio padrão ação 2: 0.20382228357231308\n"
     ]
    }
   ],
   "source": [
    "print(f\"Desvio padrão ação 1: {desvio_padrao_acao1}\")\n",
    "print(f\"Desvio padrão ação 2: {desvio_padrao_acao2}\")"
   ]
  },
  {
   "cell_type": "markdown",
   "id": "d41d37fc",
   "metadata": {},
   "source": [
    "**Erro padrão**"
   ]
  },
  {
   "cell_type": "code",
   "execution_count": 41,
   "id": "07fc1f59",
   "metadata": {},
   "outputs": [],
   "source": [
    "erro_padrao_acao1 = desvio_padrao_acao1/math.sqrt(n_observacoes_acao1)\n",
    "erro_padrao_acao2 = desvio_padrao_acao2/math.sqrt(n_observacoes_acao2)"
   ]
  },
  {
   "cell_type": "code",
   "execution_count": 42,
   "id": "d8b49062",
   "metadata": {},
   "outputs": [
    {
     "name": "stdout",
     "output_type": "stream",
     "text": [
      "Erro padrão ação 1: 0.026944389721807894\n",
      "Erro padrão ação 2: 0.0424998840308558\n"
     ]
    }
   ],
   "source": [
    "print(f\"Erro padrão ação 1: {erro_padrao_acao1}\")\n",
    "print(f\"Erro padrão ação 2: {erro_padrao_acao2}\")"
   ]
  },
  {
   "cell_type": "markdown",
   "id": "82865ee8",
   "metadata": {},
   "source": [
    "**Coeficiente de variação**"
   ]
  },
  {
   "cell_type": "code",
   "execution_count": 43,
   "id": "e7b63e53",
   "metadata": {},
   "outputs": [],
   "source": [
    "coeficiente_variacao_acao1 = desvio_padrao_acao1/media_acao1\n",
    "coeficiente_variacao_acao2 = desvio_padrao_acao2/media_acao2"
   ]
  },
  {
   "cell_type": "code",
   "execution_count": 44,
   "id": "a24f64a2",
   "metadata": {},
   "outputs": [
    {
     "name": "stdout",
     "output_type": "stream",
     "text": [
      "Coeficiente de variação ação 1: 367.0590753239717 %\n",
      "Coeficiente de variação ação 2: 134.8612675746728 %\n"
     ]
    }
   ],
   "source": [
    "print(f\"Coeficiente de variação ação 1: {coeficiente_variacao_acao1*100} %\")\n",
    "print(f\"Coeficiente de variação ação 2: {coeficiente_variacao_acao2*100} %\")"
   ]
  },
  {
   "cell_type": "markdown",
   "id": "92cf5648",
   "metadata": {},
   "source": [
    "**Assimetria**"
   ]
  },
  {
   "cell_type": "code",
   "execution_count": 217,
   "id": "f690197e",
   "metadata": {},
   "outputs": [],
   "source": [
    "assimetria_acao1 = df['Ação 1'].skew()\n",
    "assimetria_acao2 = df['Ação 2'].skew()"
   ]
  },
  {
   "cell_type": "code",
   "execution_count": 218,
   "id": "51e0c760",
   "metadata": {},
   "outputs": [
    {
     "name": "stdout",
     "output_type": "stream",
     "text": [
      "Assimetria ação 1: 0.18837741504861455\n",
      "Assimetria ação 2: 0.7569699320129853\n"
     ]
    }
   ],
   "source": [
    "print(f\"Assimetria ação 1: {assimetria_acao1}\")\n",
    "print(f\"Assimetria ação 2: {assimetria_acao2}\")"
   ]
  },
  {
   "cell_type": "markdown",
   "id": "7faab5c2",
   "metadata": {},
   "source": [
    "**Curtose**"
   ]
  },
  {
   "cell_type": "code",
   "execution_count": 219,
   "id": "ab334f50",
   "metadata": {},
   "outputs": [],
   "source": [
    "curtose_acao1 = df['Ação 1'].kurtosis()\n",
    "curtose_acao2 = df['Ação 2'].kurtosis()"
   ]
  },
  {
   "cell_type": "code",
   "execution_count": 220,
   "id": "37dbb40c",
   "metadata": {},
   "outputs": [
    {
     "name": "stdout",
     "output_type": "stream",
     "text": [
      "Curtose ação 1: -0.5477196357246568\n",
      "Curtose ação 2: 0.291816519420963\n"
     ]
    }
   ],
   "source": [
    "print(f\"Curtose ação 1: {curtose_acao1}\")\n",
    "print(f\"Curtose ação 2: {curtose_acao2}\")"
   ]
  },
  {
   "cell_type": "code",
   "execution_count": 225,
   "id": "a14ba09a",
   "metadata": {},
   "outputs": [
    {
     "data": {
      "text/plain": [
       "<Axes: >"
      ]
     },
     "execution_count": 225,
     "metadata": {},
     "output_type": "execute_result"
    },
    {
     "data": {
      "image/png": "[encoded data removed]",
      "text/plain": [
       "<Figure size 640x480 with 1 Axes>"
      ]
     },
     "metadata": {},
     "output_type": "display_data"
    }
   ],
   "source": [
    "df['Ação 1'].hist(bins=5)"
   ]
  },
  {
   "cell_type": "code",
   "execution_count": 224,
   "id": "da5ac165",
   "metadata": {},
   "outputs": [
    {
     "data": {
      "text/plain": [
       "<Axes: >"
      ]
     },
     "execution_count": 224,
     "metadata": {},
     "output_type": "execute_result"
    },
    {
     "data": {
      "image/png": "[encoded data removed]",
      "text/plain": [
       "<Figure size 640x480 with 1 Axes>"
      ]
     },
     "metadata": {},
     "output_type": "display_data"
    }
   ],
   "source": [
    "df['Ação 2'].hist(bins=5)"
   ]
  },
  {
   "cell_type": "markdown",
   "id": "33b38a39",
   "metadata": {},
   "source": [
    "**Coeficiente de correlação**"
   ]
  },
  {
   "cell_type": "code",
   "execution_count": 45,
   "id": "94a46fd6",
   "metadata": {},
   "outputs": [
    {
     "data": {
      "text/html": [
       "<div>\n",
       "<style scoped>\n",
       "    .dataframe tbody tr th:only-of-type {\n",
       "        vertical-align: middle;\n",
       "    }\n",
       "\n",
       "    .dataframe tbody tr th {\n",
       "        vertical-align: top;\n",
       "    }\n",
       "\n",
       "    .dataframe thead th {\n",
       "        text-align: right;\n",
       "    }\n",
       "</style>\n",
       "<table border=\"1\" class=\"dataframe\">\n",
       "  <thead>\n",
       "    <tr style=\"text-align: right;\">\n",
       "      <th></th>\n",
       "      <th>Ação 1</th>\n",
       "      <th>Ação 2</th>\n",
       "    </tr>\n",
       "  </thead>\n",
       "  <tbody>\n",
       "    <tr>\n",
       "      <th>Ação 1</th>\n",
       "      <td>1.000000</td>\n",
       "      <td>0.290819</td>\n",
       "    </tr>\n",
       "    <tr>\n",
       "      <th>Ação 2</th>\n",
       "      <td>0.290819</td>\n",
       "      <td>1.000000</td>\n",
       "    </tr>\n",
       "  </tbody>\n",
       "</table>\n",
       "</div>"
      ],
      "text/plain": [
       "          Ação 1    Ação 2\n",
       "Ação 1  1.000000  0.290819\n",
       "Ação 2  0.290819  1.000000"
      ]
     },
     "execution_count": 45,
     "metadata": {},
     "output_type": "execute_result"
    }
   ],
   "source": [
    "df[['Ação 1', 'Ação 2']].corr()"
   ]
  },
  {
   "cell_type": "markdown",
   "id": "3346d74f",
   "metadata": {},
   "source": [
    "--------------------------------------------------------------------------------------------------------------------------------"
   ]
  },
  {
   "cell_type": "markdown",
   "id": "2e983923",
   "metadata": {},
   "source": [
    "**3)** Em certo jogo, probabilidade de vitória (sucesso) a cada nova jogada é 1/6. Se forem\n",
    "feitas 10 jogadas, quais são as seguintes probabilidades:\n",
    "\n",
    "a) Ter vitória em 4 jogadas.\n",
    "\n",
    "b) Ter vitória em pelo menos 7 jogadas."
   ]
  },
  {
   "cell_type": "markdown",
   "id": "fb2f3ff7",
   "metadata": {},
   "source": [
    "Observe que estamos com um problema de distribuição binomial."
   ]
  },
  {
   "cell_type": "markdown",
   "id": "977bcebe",
   "metadata": {},
   "source": [
    "A distribuição **binomial** ocorre quando há (n) repetições independentes do \n",
    "experimento de **Bernoulli**.\n",
    "\n",
    "https://docs.scipy.org/doc/scipy/reference/generated/scipy.stats.binom.html\n",
    "\n",
    "Um evento **binomial** é caracterizado pela possibilidade de ocorrência de apenas duas categorias. Estas categorias somadas representam todo o espaço amostral (todas as possibilidades do experimento), sendo também mutuamente excludentes, ou seja, a ocorrência de uma implica na não ocorrência da outra.\n",
    "\n",
    "Em análises estatísticas o uso mais comum da distribuição binomial é na solução de problemas que envolvem situações de **sucesso** e **fracasso**.\n",
    "\n",
    "# $$P(k)=\\binom{n}{k} p^k q^{n-k}$$\n",
    "\n",
    "Onde:\n",
    "\n",
    "$p$ = probabilidade de sucesso\n",
    "\n",
    "$q = (1 - p)$ = probabilidade de fracasso\n",
    "\n",
    "$n$ = número de eventos estudados\n",
    "\n",
    "$k$ = número de eventos desejados que tenham sucesso"
   ]
  },
  {
   "cell_type": "markdown",
   "id": "868fecf4",
   "metadata": {},
   "source": [
    "**Experimento binomial**\n",
    "\n",
    "1. Realização de $n$ ensaios idênticos.\n",
    "\n",
    "2. Os ensaios são independentes.\n",
    "\n",
    "3. Somente dois resultados são possíveis, exemplo: Verdadeiro ou falso; Cara ou coroa; Sucesso ou fracasso.\n",
    "\n",
    "4. A probabilidade de sucesso é representada por $p$ e a de fracasso por $1-p=q$. Estas probabilidades não se modificam de ensaio para ensaio.\n",
    "\n",
    "\n",
    "**Média da distribuição binomial**\n",
    "\n",
    "O valor esperado ou a média da distribuição binomial é igual ao número de experimentos realizados multiplicado pela chance de ocorrência do evento.\n",
    "\n",
    "# $$\\mu = n \\times p$$\n",
    "\n",
    "\n",
    "**Desvio padrão da distribuição binomial**\n",
    "\n",
    "O desvio padrão é o produto entre o número de experimentos, a probabilidade de sucesso e a probabilidade de fracasso.\n",
    "\n",
    "# $$\\sigma = \\sqrt{n \\times p \\times q}$$\n",
    "\n",
    "\n",
    "**Combinações**\n",
    "\n",
    "Número de combinações de $n$ objetos, tomados $k$ a cada vez, é:\n",
    "\n",
    "# $$C_{k}^{n} = \\binom{n}{k} = \\frac{n!}{k!(n - k)!}$$\n",
    "\n",
    "Onde\n",
    "\n",
    "## $$n! = n\\times(n-1)\\times(n-2)\\times...\\times(2)\\times(1)$$\n",
    "## $$k! = k\\times(k-1)\\times(k-2)\\times...\\times(2)\\times(1)$$\n",
    "\n",
    "Por definição\n",
    "\n",
    "## $$0! = 1$$\n",
    "\n",
    "https://docs.scipy.org/doc/scipy/reference/generated/scipy.special.comb.html"
   ]
  },
  {
   "cell_type": "markdown",
   "id": "b2bff4ff",
   "metadata": {},
   "source": [
    "**Resolvendo o problema 3**"
   ]
  },
  {
   "cell_type": "code",
   "execution_count": 46,
   "id": "82b06cd1",
   "metadata": {},
   "outputs": [],
   "source": [
    "from scipy.special import comb\n",
    "from scipy.stats import binom, nbinom"
   ]
  },
  {
   "cell_type": "code",
   "execution_count": 47,
   "id": "9ab4a27f",
   "metadata": {},
   "outputs": [
    {
     "data": {
      "text/plain": [
       "0.16666666666666666"
      ]
     },
     "execution_count": 47,
     "metadata": {},
     "output_type": "execute_result"
    }
   ],
   "source": [
    "p = 1/6\n",
    "p"
   ]
  },
  {
   "cell_type": "code",
   "execution_count": 48,
   "id": "db159ecf",
   "metadata": {},
   "outputs": [
    {
     "data": {
      "text/plain": [
       "10"
      ]
     },
     "execution_count": 48,
     "metadata": {},
     "output_type": "execute_result"
    }
   ],
   "source": [
    "n = 10\n",
    "n"
   ]
  },
  {
   "cell_type": "markdown",
   "id": "ad9674c5",
   "metadata": {},
   "source": [
    "**a)** Ter vitória em 4 jogadas"
   ]
  },
  {
   "cell_type": "code",
   "execution_count": 49,
   "id": "ed5fb508",
   "metadata": {},
   "outputs": [
    {
     "data": {
      "text/plain": [
       "4"
      ]
     },
     "execution_count": 49,
     "metadata": {},
     "output_type": "execute_result"
    }
   ],
   "source": [
    "k = 4\n",
    "k"
   ]
  },
  {
   "cell_type": "markdown",
   "id": "625b98cf",
   "metadata": {},
   "source": [
    "Solução \"manual\""
   ]
  },
  {
   "cell_type": "code",
   "execution_count": 50,
   "id": "7ae63b4c",
   "metadata": {},
   "outputs": [
    {
     "data": {
      "text/plain": [
       "5.426587585098817"
      ]
     },
     "execution_count": 50,
     "metadata": {},
     "output_type": "execute_result"
    }
   ],
   "source": [
    "prob_3a = (comb(n, k) * (p**k) * ((1-p)**(n-k))) * 100\n",
    "prob_3a"
   ]
  },
  {
   "cell_type": "markdown",
   "id": "43e474e1",
   "metadata": {},
   "source": [
    "Solução com funções python"
   ]
  },
  {
   "cell_type": "code",
   "execution_count": 51,
   "id": "d1087a21",
   "metadata": {},
   "outputs": [
    {
     "data": {
      "text/plain": [
       "5.42658758509882"
      ]
     },
     "execution_count": 51,
     "metadata": {},
     "output_type": "execute_result"
    }
   ],
   "source": [
    "prob_3a = binom.pmf(k, n, p) * 100\n",
    "prob_3a"
   ]
  },
  {
   "cell_type": "markdown",
   "id": "2785feeb",
   "metadata": {},
   "source": [
    "**b)** Ter vitória em pelo menos 7 jogadas."
   ]
  },
  {
   "cell_type": "markdown",
   "id": "7d679007",
   "metadata": {},
   "source": [
    "Ter vitória em pelo menos 7 jogadas significa ter vitória em no mínimo 7 jogadas. Como o número de jogadas é 10, então a probabilidade de termos vitória em pelo menos 7 jogadas é ter vitória em 7 jogadas ou 8 jogadas ou 9 jogadas ou 10 jogadas.\n",
    "\n",
    "Como em probabilidade e estatística o ou é o mesmo que +,\n",
    "\n",
    "$$P(vitória >= 7) = P(k = 7) + P(k = 8) + P(k = 9) + P(k = 10)$$"
   ]
  },
  {
   "cell_type": "markdown",
   "id": "64d01acf",
   "metadata": {},
   "source": [
    "Solução \"manual\""
   ]
  },
  {
   "cell_type": "code",
   "execution_count": 52,
   "id": "1f93550c",
   "metadata": {},
   "outputs": [
    {
     "data": {
      "text/plain": [
       "0.026752146522379713"
      ]
     },
     "execution_count": 52,
     "metadata": {},
     "output_type": "execute_result"
    }
   ],
   "source": [
    "prob_3b = ((comb(n, 7) * (p**7) * ((1-p)**(n-7))) + \n",
    "           (comb(n, 8) * (p**8) * ((1-p)**(n-8))) + \n",
    "           (comb(n, 9) * (p**9) * ((1-p)**(n-9))) +\n",
    "           (comb(n, 10) * (p**10) * ((1-p)**(n-10)))) * 100\n",
    "prob_3b"
   ]
  },
  {
   "cell_type": "markdown",
   "id": "84d55caa",
   "metadata": {},
   "source": [
    "Solução com funções python"
   ]
  },
  {
   "cell_type": "markdown",
   "id": "b98d0993",
   "metadata": {},
   "source": [
    "    Solução 1\n",
    "    \n",
    "    Usando a função binom.pmf da scipy e somando os resultados"
   ]
  },
  {
   "cell_type": "code",
   "execution_count": 53,
   "id": "12f1da32",
   "metadata": {},
   "outputs": [
    {
     "data": {
      "text/plain": [
       "0.02675214652237972"
      ]
     },
     "execution_count": 53,
     "metadata": {},
     "output_type": "execute_result"
    }
   ],
   "source": [
    "prob_3b = (binom.pmf(7, n, p) + binom.pmf(8, n, p) + binom.pmf(9, n, p) + binom.pmf(10, n, p)) * 100\n",
    "prob_3b"
   ]
  },
  {
   "cell_type": "markdown",
   "id": "139daace",
   "metadata": {},
   "source": [
    "ou"
   ]
  },
  {
   "cell_type": "code",
   "execution_count": 54,
   "id": "db6992dc",
   "metadata": {},
   "outputs": [
    {
     "data": {
      "text/plain": [
       "0.02675214652237972"
      ]
     },
     "execution_count": 54,
     "metadata": {},
     "output_type": "execute_result"
    }
   ],
   "source": [
    "prob_3b = binom.pmf([7, 8, 9, 10], n, p).sum() * 100\n",
    "prob_3b"
   ]
  },
  {
   "cell_type": "markdown",
   "id": "d815a207",
   "metadata": {},
   "source": [
    "    Solução 2\n",
    "    \n",
    "    Usando a função binom.cdf da scipy. A cdf é a função cumulativa até aquele ponto. Logo, aqui, como queremos a região >= 7, precisamos fazer 1-binom.cdf até 6, pois não queremos a área que está abaixo de 7, ou seja <6"
   ]
  },
  {
   "cell_type": "code",
   "execution_count": 55,
   "id": "b55fcd95",
   "metadata": {},
   "outputs": [
    {
     "data": {
      "text/plain": [
       "0.02675214652237967"
      ]
     },
     "execution_count": 55,
     "metadata": {},
     "output_type": "execute_result"
    }
   ],
   "source": [
    "prob_3b = (1 - binom.cdf(6, n, p)) * 100\n",
    "prob_3b"
   ]
  },
  {
   "cell_type": "markdown",
   "id": "42cfe3b4",
   "metadata": {},
   "source": [
    "--------------------------------------------------------------------------------------------------------------------------------"
   ]
  },
  {
   "cell_type": "markdown",
   "id": "b5481998",
   "metadata": {},
   "source": [
    "**4)** (Fonte: Fávero e Belfiore, 2017, Cap. 5) Suponha que um aluno acerte três questões a\n",
    "cada cinco testes. Seja X o número de tentativas até o décimo segundo acerto. Determine\n",
    "a probabilidade de que o aluno precise fazer 20 questões para acertar 12."
   ]
  },
  {
   "cell_type": "markdown",
   "id": "5cefad1f",
   "metadata": {},
   "source": [
    "Estamos frente a um problema de distribuição de probabilidade binomial negativa."
   ]
  },
  {
   "cell_type": "markdown",
   "id": "cf979043",
   "metadata": {},
   "source": [
    "Na distribuição **binomial negativa**, são realizados x ensaios independentes de **Bernoulli** até que sejam obtidos k sucessos.\n",
    "\n",
    "A probabilidade de sucesso p é constante em todos os ensaios realizados.\n",
    "\n",
    "A  variável no modelo binomial negativa indica a quantidade de ensaios x."
   ]
  },
  {
   "cell_type": "markdown",
   "id": "dad90b91",
   "metadata": {},
   "source": [
    "# $$P(x)=\\binom{x-1}{k-1} p^k q^{x-k}$$\n",
    "\n",
    "Onde:\n",
    "\n",
    "$p$ = probabilidade de sucesso\n",
    "\n",
    "$q = (1 - p)$ = probabilidade de fracasso\n",
    "\n",
    "$x$ = número de ensaios\n",
    "\n",
    "$k$ = número de eventos desejados que tenham sucesso\n",
    "\n",
    "\n",
    "**Combinações**\n",
    "\n",
    "Número de combinações de $x-1$, tomados $k-1$ a cada vez, é:\n",
    "\n",
    "# $$C_{x-1}^{k-1} = \\binom{x-1}{k-1} = \\frac{(x-1)!}{(k-1)![(x-1)-(k-1)]!}$$\n"
   ]
  },
  {
   "cell_type": "markdown",
   "id": "c45dbb8b",
   "metadata": {},
   "source": [
    "**Média da distribuição binomial negativa**\n",
    "\n",
    "# $$\\frac{k}{p}$$\n",
    "\n",
    "\n",
    "**Desvio padrão da distribuição binomial negativa**\n",
    "\n",
    "# $$\\sigma = \\sqrt{\\frac{k(1-p)}{p^2}}$$\n",
    "\n",
    "\n",
    "**Relação entre a distribuição binomial negativa e a binomial**\n",
    "\n",
    "A distribuição binomial negativa está relacionada com a distribuição binomial. Na binomial, devemos fixar o tamanho da amostra (número de ensaios de Bernoulli) e observar o número de sucessos (variável aleatória). Na binomial negativa, devemos fixar o número de sucessos (k) e observar o número de ensaios Bernoulli necessários para obter k sucessos."
   ]
  },
  {
   "cell_type": "markdown",
   "id": "286b01aa",
   "metadata": {},
   "source": [
    "**Resolvendo o problema 4**"
   ]
  },
  {
   "cell_type": "code",
   "execution_count": 56,
   "id": "df37fdc6",
   "metadata": {},
   "outputs": [
    {
     "data": {
      "text/plain": [
       "0.6"
      ]
     },
     "execution_count": 56,
     "metadata": {},
     "output_type": "execute_result"
    }
   ],
   "source": [
    "p = 3/5\n",
    "p"
   ]
  },
  {
   "cell_type": "code",
   "execution_count": 57,
   "id": "264b09f9",
   "metadata": {},
   "outputs": [
    {
     "data": {
      "text/plain": [
       "20"
      ]
     },
     "execution_count": 57,
     "metadata": {},
     "output_type": "execute_result"
    }
   ],
   "source": [
    "x = 20\n",
    "x"
   ]
  },
  {
   "cell_type": "code",
   "execution_count": 58,
   "id": "5398489e",
   "metadata": {},
   "outputs": [
    {
     "data": {
      "text/plain": [
       "12"
      ]
     },
     "execution_count": 58,
     "metadata": {},
     "output_type": "execute_result"
    }
   ],
   "source": [
    "k = 12\n",
    "k"
   ]
  },
  {
   "cell_type": "markdown",
   "id": "14df86e3",
   "metadata": {},
   "source": [
    "Solução \"manual\""
   ]
  },
  {
   "cell_type": "code",
   "execution_count": 59,
   "id": "74caef0a",
   "metadata": {},
   "outputs": [
    {
     "data": {
      "text/plain": [
       "10.782347265281361"
      ]
     },
     "execution_count": 59,
     "metadata": {},
     "output_type": "execute_result"
    }
   ],
   "source": [
    "prob_4 = comb(x-1,k-1) * (p**k) * ((1-p)**(x-k)) * 100\n",
    "prob_4"
   ]
  },
  {
   "cell_type": "markdown",
   "id": "95a0ef48",
   "metadata": {},
   "source": [
    "--------------------------------------------------------------------------------------------------------------------------------"
   ]
  },
  {
   "cell_type": "markdown",
   "id": "da9a77b0",
   "metadata": {},
   "source": [
    "**5)** (Fonte: Fávero e Belfiore, 2017, Cap. 5) Suponha que, em determinado hospital, 3\n",
    "clientes são operados diariamente de cirurgia do estômago, seguindo uma distribuição\n",
    "Poisson. Calcule a probabilidade de que 28 clientes sejam operados na próxima semana\n",
    "(7 dias úteis)."
   ]
  },
  {
   "cell_type": "markdown",
   "id": "f7beb791",
   "metadata": {},
   "source": [
    "Estamos frente a um problema de distribuição de Poisson.\n",
    "\n",
    "https://docs.scipy.org/doc/scipy/reference/generated/scipy.stats.poisson.html"
   ]
  },
  {
   "cell_type": "markdown",
   "id": "71c52df8",
   "metadata": {},
   "source": [
    "É empregada para descrever o número de ocorrências em um intervalo de tempo ou espaço específico. Os eventos são caracterizados pela possibilidade de contagem dos sucessos, mas não a possibilidade de contagem dos fracassos.\n",
    "\n",
    "Como exemplos de processos onde podemos aplicar a distribuição de Poisson temos a determinação do número de clientes que entram em uma loja em determinada hora, o número de carros que chegam em um drive-thru de uma lanchonete na hora do almoço, a determinação do número de acidentes registrados em um trecho de estrada etc.\n",
    "\n",
    "# $$P(k) = \\frac{e^{-\\mu}(\\mu)^k}{k!}$$\n",
    "\n",
    "Onde:\n",
    "\n",
    "$e$ = constante cujo valor aproximado é 2,718281828459045\n",
    "\n",
    "$\\mu$ = representa o número médio de ocorrências em um determinado intervalo de tempo ou espaço\n",
    "\n",
    "$k$ = número de sucessos no intervalo desejado"
   ]
  },
  {
   "cell_type": "markdown",
   "id": "83d6dc5f",
   "metadata": {},
   "source": [
    "**Experimento Poisson**\n",
    "\n",
    "1. A probabilidade de uma ocorrência é a mesma em todo o intervalo observado.\n",
    "\n",
    "2. O número de ocorrências em determinado intervalo é independente do número de ocorrências em outros intervalos.\n",
    "\n",
    "3. A probabilidade de uma ocorrência é a mesma em intervalos de igual comprimento.\n",
    "\n",
    "\n",
    "**Média da distribuição Poisson**\n",
    "\n",
    "# $$\\mu$$\n",
    "\n",
    "\n",
    "**Desvio padrão da distribuição Poisson**\n",
    "\n",
    "# $$\\sigma = \\sqrt{\\mu}$$"
   ]
  },
  {
   "cell_type": "markdown",
   "id": "74f7134f",
   "metadata": {},
   "source": [
    "**Resolvendo o problema 5** "
   ]
  },
  {
   "cell_type": "code",
   "execution_count": 60,
   "id": "e1736d25",
   "metadata": {},
   "outputs": [
    {
     "data": {
      "text/plain": [
       "3"
      ]
     },
     "execution_count": 60,
     "metadata": {},
     "output_type": "execute_result"
    }
   ],
   "source": [
    "mu = 3\n",
    "mu"
   ]
  },
  {
   "cell_type": "code",
   "execution_count": 61,
   "id": "ad481c33",
   "metadata": {},
   "outputs": [
    {
     "data": {
      "text/plain": [
       "4"
      ]
     },
     "execution_count": 61,
     "metadata": {},
     "output_type": "execute_result"
    }
   ],
   "source": [
    "# quero 28 pacientes na próxima semana, mas a minha média de ocorrências está em dias. Logo, como 1 semana tem 7 dias, \n",
    "# transformo o k para uma medida por dia\n",
    "\n",
    "k = int(28/7)\n",
    "k"
   ]
  },
  {
   "cell_type": "markdown",
   "id": "eea10cf0",
   "metadata": {},
   "source": [
    "Solução \"manual\""
   ]
  },
  {
   "cell_type": "code",
   "execution_count": 62,
   "id": "e759e25e",
   "metadata": {},
   "outputs": [
    {
     "data": {
      "text/plain": [
       "16.803135574154084"
      ]
     },
     "execution_count": 62,
     "metadata": {},
     "output_type": "execute_result"
    }
   ],
   "source": [
    "prob_5 = (((np.e)**(-mu)) * (mu)**k)/math.factorial(k)\n",
    "prob_5 = prob_5 * 100\n",
    "prob_5"
   ]
  },
  {
   "cell_type": "markdown",
   "id": "e9a2c5e6",
   "metadata": {},
   "source": [
    "Solução com funções python"
   ]
  },
  {
   "cell_type": "code",
   "execution_count": 63,
   "id": "b1bfc19d",
   "metadata": {},
   "outputs": [],
   "source": [
    "from scipy.stats import poisson"
   ]
  },
  {
   "cell_type": "code",
   "execution_count": 64,
   "id": "95a99242",
   "metadata": {},
   "outputs": [
    {
     "data": {
      "text/plain": [
       "16.803135574154084"
      ]
     },
     "execution_count": 64,
     "metadata": {},
     "output_type": "execute_result"
    }
   ],
   "source": [
    "prob_5 = poisson.pmf(k, mu) * 100\n",
    "prob_5"
   ]
  },
  {
   "cell_type": "code",
   "execution_count": 65,
   "id": "3fa51498",
   "metadata": {},
   "outputs": [
    {
     "data": {
      "text/plain": [
       "16.803135574154084"
      ]
     },
     "execution_count": 65,
     "metadata": {},
     "output_type": "execute_result"
    }
   ],
   "source": [
    "prob_5"
   ]
  },
  {
   "cell_type": "markdown",
   "id": "feb92d37",
   "metadata": {},
   "source": [
    "--------------------------------------------------------------------------------------------------------------------------------"
   ]
  },
  {
   "cell_type": "markdown",
   "id": "17c8ab9e",
   "metadata": {},
   "source": [
    "**6)** Nos últimos meses, foram feitas medições do tempo decorrido entre o início e\n",
    "finalização de uma das etapas do processo de produção de certo produto. O tempo médio\n",
    "foi calculado em 26,5 minutos e o desvio padrão foi de 4,0 minutos. Sabendo que tal\n",
    "variável segue uma distribuição normal, identifique as seguintes informações:\n",
    "\n",
    "a) P(X>37)\n",
    "\n",
    "b) P(X<20)\n",
    "\n",
    "c) P(22<X<28)"
   ]
  },
  {
   "cell_type": "markdown",
   "id": "6f9cbdc4",
   "metadata": {},
   "source": [
    "Estamos frente a um problema cuja variável segue uma distribuição normal.\n",
    "\n",
    "https://docs.scipy.org/doc/scipy/reference/generated/scipy.stats.norm.html"
   ]
  },
  {
   "attachments": {
    "image-2.png": {
     "image/png": "[encoded data removed]"
    },
    "image.png": {
     "image/png": "[encoded data removed]"
    }
   },
   "cell_type": "markdown",
   "id": "0d0c9cf8",
   "metadata": {},
   "source": [
    "A distribuição normal é uma das mais utilizadas em estatística. É uma distribuição contínua, onde a distribuição de frequências de uma variável quantitativa apresenta a forma de sino e é simétrica em relação a sua média.\n",
    "\n",
    "![image.png](attachment:image.png)\n",
    "\n",
    "\n",
    "**Características importantes**\n",
    "\n",
    "1. É simétrica em torno da média;\n",
    "\n",
    "2. A área sob a curva corresponde à proporção 1 ou 100%;\n",
    "\n",
    "3. As medidas de tendência central (média, mediana e moda) apresentam o mesmo valor;\n",
    "\n",
    "4. Os extremos da curva tendem ao infinito em ambas as direções e, teoricamente, jamais tocam o eixo $x$;\n",
    "\n",
    "5. O desvio padrão define o achatamento e largura da distribuição. Curvas mais largas e mais achatadas apresentam valores maiores de desvio padrão;\n",
    "\n",
    "6. A distribuição é definida por sua média e desvio padrão;\n",
    "\n",
    "7. A probabilidade sempre será igual à área sob a curva, delimitada pelos limites inferior e superior.\n",
    "\n",
    "\n",
    "Densidade de probabilidade:\n",
    "\n",
    "# $$f(x) = \\frac{1}{\\sqrt{2\\pi\\sigma}}e^{-\\frac{1}{2}\\left(\\frac{x-\\mu}{\\sigma}\\right)^2}$$\n",
    "\n",
    "Onde:\n",
    "\n",
    "$x$ = variável normal\n",
    "\n",
    "$\\sigma$ = desvio padrão\n",
    "\n",
    "$\\mu$ = média\n",
    "\n",
    "A probabilidade é obtida a partir da área sob a curva, delimitada pelos limites inferior e superior especificados. Um exemplo pode ser visto na figura abaixo.\n",
    "\n",
    "![image-2.png](attachment:image-2.png)\n",
    "\n",
    "Para obter a área acima basta calcular a integral da função para os intervalos determinados. Conforme equação abaixo:\n",
    "\n",
    "# $$P(L_i<x<L_s) = \\int_{L_i}^{L_s}\\frac{1}{\\sqrt{2\\pi\\sigma}}e^{-\\frac{1}{2}\\left(\\frac{x-\\mu}{\\sigma}\\right)^2}$$\n",
    "\n",
    "Onde:\n",
    "\n",
    "$x$ = variável normal\n",
    "\n",
    "$\\sigma$ = desvio padrão\n",
    "\n",
    "$\\mu$ = média\n",
    "\n",
    "$L_i$ = limite inferior\n",
    "\n",
    "$L_s$ = limite superior\n",
    "\n",
    "\n",
    "**Tabelas padronizadas**\n",
    "\n",
    "As tabelas padronizadas foram criadas para facilitar a obtenção dos valores das áreas sob a curva normal e eliminar a necessidade de solucionar integrais definidas.\n",
    "\n",
    "Para consultarmos os valores em uma tabela padronizada basta transformarmos nossa variável em uma variável padronizada $Z$.\n",
    "\n",
    "Esta variável $Z$ representa o afastamento em desvios padrões de um valor da variável original em relação à média.\n",
    "\n",
    "# $$Z = \\frac{x-\\mu}{\\sigma}$$\n",
    "\n",
    "Onde:\n",
    "\n",
    "$x$ = variável normal com média $\\mu$ e desvio padrão $\\sigma$\n",
    "\n",
    "$\\sigma$ = desvio padrão\n",
    "\n",
    "$\\mu$ = média"
   ]
  },
  {
   "cell_type": "code",
   "execution_count": 66,
   "id": "6a1c9df3",
   "metadata": {},
   "outputs": [],
   "source": [
    "from scipy.stats import norm"
   ]
  },
  {
   "cell_type": "markdown",
   "id": "18398d90",
   "metadata": {},
   "source": [
    "**Construindo tabela normal padronizada**\n",
    "\n",
    "https://docs.scipy.org/doc/scipy/reference/generated/scipy.stats.norm.html"
   ]
  },
  {
   "cell_type": "code",
   "execution_count": 67,
   "id": "515ae5b3",
   "metadata": {},
   "outputs": [
    {
     "data": {
      "text/html": [
       "<div>\n",
       "<style scoped>\n",
       "    .dataframe tbody tr th:only-of-type {\n",
       "        vertical-align: middle;\n",
       "    }\n",
       "\n",
       "    .dataframe tbody tr th {\n",
       "        vertical-align: top;\n",
       "    }\n",
       "\n",
       "    .dataframe thead th {\n",
       "        text-align: right;\n",
       "    }\n",
       "</style>\n",
       "<table border=\"1\" class=\"dataframe\">\n",
       "  <thead>\n",
       "    <tr style=\"text-align: right;\">\n",
       "      <th>Z</th>\n",
       "      <th>0.00</th>\n",
       "      <th>0.01</th>\n",
       "      <th>0.02</th>\n",
       "      <th>0.03</th>\n",
       "      <th>0.04</th>\n",
       "      <th>0.05</th>\n",
       "      <th>0.06</th>\n",
       "      <th>0.07</th>\n",
       "      <th>0.08</th>\n",
       "      <th>0.09</th>\n",
       "    </tr>\n",
       "  </thead>\n",
       "  <tbody>\n",
       "    <tr>\n",
       "      <th>0.00</th>\n",
       "      <td>0.5000</td>\n",
       "      <td>0.5040</td>\n",
       "      <td>0.5080</td>\n",
       "      <td>0.5120</td>\n",
       "      <td>0.5160</td>\n",
       "      <td>0.5199</td>\n",
       "      <td>0.5239</td>\n",
       "      <td>0.5279</td>\n",
       "      <td>0.5319</td>\n",
       "      <td>0.5359</td>\n",
       "    </tr>\n",
       "    <tr>\n",
       "      <th>0.10</th>\n",
       "      <td>0.5398</td>\n",
       "      <td>0.5438</td>\n",
       "      <td>0.5478</td>\n",
       "      <td>0.5517</td>\n",
       "      <td>0.5557</td>\n",
       "      <td>0.5596</td>\n",
       "      <td>0.5636</td>\n",
       "      <td>0.5675</td>\n",
       "      <td>0.5714</td>\n",
       "      <td>0.5753</td>\n",
       "    </tr>\n",
       "    <tr>\n",
       "      <th>0.20</th>\n",
       "      <td>0.5793</td>\n",
       "      <td>0.5832</td>\n",
       "      <td>0.5871</td>\n",
       "      <td>0.5910</td>\n",
       "      <td>0.5948</td>\n",
       "      <td>0.5987</td>\n",
       "      <td>0.6026</td>\n",
       "      <td>0.6064</td>\n",
       "      <td>0.6103</td>\n",
       "      <td>0.6141</td>\n",
       "    </tr>\n",
       "    <tr>\n",
       "      <th>0.30</th>\n",
       "      <td>0.6179</td>\n",
       "      <td>0.6217</td>\n",
       "      <td>0.6255</td>\n",
       "      <td>0.6293</td>\n",
       "      <td>0.6331</td>\n",
       "      <td>0.6368</td>\n",
       "      <td>0.6406</td>\n",
       "      <td>0.6443</td>\n",
       "      <td>0.6480</td>\n",
       "      <td>0.6517</td>\n",
       "    </tr>\n",
       "    <tr>\n",
       "      <th>0.40</th>\n",
       "      <td>0.6554</td>\n",
       "      <td>0.6591</td>\n",
       "      <td>0.6628</td>\n",
       "      <td>0.6664</td>\n",
       "      <td>0.6700</td>\n",
       "      <td>0.6736</td>\n",
       "      <td>0.6772</td>\n",
       "      <td>0.6808</td>\n",
       "      <td>0.6844</td>\n",
       "      <td>0.6879</td>\n",
       "    </tr>\n",
       "    <tr>\n",
       "      <th>0.50</th>\n",
       "      <td>0.6915</td>\n",
       "      <td>0.6950</td>\n",
       "      <td>0.6985</td>\n",
       "      <td>0.7019</td>\n",
       "      <td>0.7054</td>\n",
       "      <td>0.7088</td>\n",
       "      <td>0.7123</td>\n",
       "      <td>0.7157</td>\n",
       "      <td>0.7190</td>\n",
       "      <td>0.7224</td>\n",
       "    </tr>\n",
       "    <tr>\n",
       "      <th>0.60</th>\n",
       "      <td>0.7257</td>\n",
       "      <td>0.7291</td>\n",
       "      <td>0.7324</td>\n",
       "      <td>0.7357</td>\n",
       "      <td>0.7389</td>\n",
       "      <td>0.7422</td>\n",
       "      <td>0.7454</td>\n",
       "      <td>0.7486</td>\n",
       "      <td>0.7517</td>\n",
       "      <td>0.7549</td>\n",
       "    </tr>\n",
       "    <tr>\n",
       "      <th>0.70</th>\n",
       "      <td>0.7580</td>\n",
       "      <td>0.7611</td>\n",
       "      <td>0.7642</td>\n",
       "      <td>0.7673</td>\n",
       "      <td>0.7704</td>\n",
       "      <td>0.7734</td>\n",
       "      <td>0.7764</td>\n",
       "      <td>0.7794</td>\n",
       "      <td>0.7823</td>\n",
       "      <td>0.7852</td>\n",
       "    </tr>\n",
       "    <tr>\n",
       "      <th>0.80</th>\n",
       "      <td>0.7881</td>\n",
       "      <td>0.7910</td>\n",
       "      <td>0.7939</td>\n",
       "      <td>0.7967</td>\n",
       "      <td>0.7995</td>\n",
       "      <td>0.8023</td>\n",
       "      <td>0.8051</td>\n",
       "      <td>0.8078</td>\n",
       "      <td>0.8106</td>\n",
       "      <td>0.8133</td>\n",
       "    </tr>\n",
       "    <tr>\n",
       "      <th>0.90</th>\n",
       "      <td>0.8159</td>\n",
       "      <td>0.8186</td>\n",
       "      <td>0.8212</td>\n",
       "      <td>0.8238</td>\n",
       "      <td>0.8264</td>\n",
       "      <td>0.8289</td>\n",
       "      <td>0.8315</td>\n",
       "      <td>0.8340</td>\n",
       "      <td>0.8365</td>\n",
       "      <td>0.8389</td>\n",
       "    </tr>\n",
       "    <tr>\n",
       "      <th>1.00</th>\n",
       "      <td>0.8413</td>\n",
       "      <td>0.8438</td>\n",
       "      <td>0.8461</td>\n",
       "      <td>0.8485</td>\n",
       "      <td>0.8508</td>\n",
       "      <td>0.8531</td>\n",
       "      <td>0.8554</td>\n",
       "      <td>0.8577</td>\n",
       "      <td>0.8599</td>\n",
       "      <td>0.8621</td>\n",
       "    </tr>\n",
       "    <tr>\n",
       "      <th>1.10</th>\n",
       "      <td>0.8643</td>\n",
       "      <td>0.8665</td>\n",
       "      <td>0.8686</td>\n",
       "      <td>0.8708</td>\n",
       "      <td>0.8729</td>\n",
       "      <td>0.8749</td>\n",
       "      <td>0.8770</td>\n",
       "      <td>0.8790</td>\n",
       "      <td>0.8810</td>\n",
       "      <td>0.8830</td>\n",
       "    </tr>\n",
       "    <tr>\n",
       "      <th>1.20</th>\n",
       "      <td>0.8849</td>\n",
       "      <td>0.8869</td>\n",
       "      <td>0.8888</td>\n",
       "      <td>0.8907</td>\n",
       "      <td>0.8925</td>\n",
       "      <td>0.8944</td>\n",
       "      <td>0.8962</td>\n",
       "      <td>0.8980</td>\n",
       "      <td>0.8997</td>\n",
       "      <td>0.9015</td>\n",
       "    </tr>\n",
       "    <tr>\n",
       "      <th>1.30</th>\n",
       "      <td>0.9032</td>\n",
       "      <td>0.9049</td>\n",
       "      <td>0.9066</td>\n",
       "      <td>0.9082</td>\n",
       "      <td>0.9099</td>\n",
       "      <td>0.9115</td>\n",
       "      <td>0.9131</td>\n",
       "      <td>0.9147</td>\n",
       "      <td>0.9162</td>\n",
       "      <td>0.9177</td>\n",
       "    </tr>\n",
       "    <tr>\n",
       "      <th>1.40</th>\n",
       "      <td>0.9192</td>\n",
       "      <td>0.9207</td>\n",
       "      <td>0.9222</td>\n",
       "      <td>0.9236</td>\n",
       "      <td>0.9251</td>\n",
       "      <td>0.9265</td>\n",
       "      <td>0.9279</td>\n",
       "      <td>0.9292</td>\n",
       "      <td>0.9306</td>\n",
       "      <td>0.9319</td>\n",
       "    </tr>\n",
       "    <tr>\n",
       "      <th>1.50</th>\n",
       "      <td>0.9332</td>\n",
       "      <td>0.9345</td>\n",
       "      <td>0.9357</td>\n",
       "      <td>0.9370</td>\n",
       "      <td>0.9382</td>\n",
       "      <td>0.9394</td>\n",
       "      <td>0.9406</td>\n",
       "      <td>0.9418</td>\n",
       "      <td>0.9429</td>\n",
       "      <td>0.9441</td>\n",
       "    </tr>\n",
       "    <tr>\n",
       "      <th>1.60</th>\n",
       "      <td>0.9452</td>\n",
       "      <td>0.9463</td>\n",
       "      <td>0.9474</td>\n",
       "      <td>0.9484</td>\n",
       "      <td>0.9495</td>\n",
       "      <td>0.9505</td>\n",
       "      <td>0.9515</td>\n",
       "      <td>0.9525</td>\n",
       "      <td>0.9535</td>\n",
       "      <td>0.9545</td>\n",
       "    </tr>\n",
       "    <tr>\n",
       "      <th>1.70</th>\n",
       "      <td>0.9554</td>\n",
       "      <td>0.9564</td>\n",
       "      <td>0.9573</td>\n",
       "      <td>0.9582</td>\n",
       "      <td>0.9591</td>\n",
       "      <td>0.9599</td>\n",
       "      <td>0.9608</td>\n",
       "      <td>0.9616</td>\n",
       "      <td>0.9625</td>\n",
       "      <td>0.9633</td>\n",
       "    </tr>\n",
       "    <tr>\n",
       "      <th>1.80</th>\n",
       "      <td>0.9641</td>\n",
       "      <td>0.9649</td>\n",
       "      <td>0.9656</td>\n",
       "      <td>0.9664</td>\n",
       "      <td>0.9671</td>\n",
       "      <td>0.9678</td>\n",
       "      <td>0.9686</td>\n",
       "      <td>0.9693</td>\n",
       "      <td>0.9699</td>\n",
       "      <td>0.9706</td>\n",
       "    </tr>\n",
       "    <tr>\n",
       "      <th>1.90</th>\n",
       "      <td>0.9713</td>\n",
       "      <td>0.9719</td>\n",
       "      <td>0.9726</td>\n",
       "      <td>0.9732</td>\n",
       "      <td>0.9738</td>\n",
       "      <td>0.9744</td>\n",
       "      <td>0.9750</td>\n",
       "      <td>0.9756</td>\n",
       "      <td>0.9761</td>\n",
       "      <td>0.9767</td>\n",
       "    </tr>\n",
       "    <tr>\n",
       "      <th>2.00</th>\n",
       "      <td>0.9772</td>\n",
       "      <td>0.9778</td>\n",
       "      <td>0.9783</td>\n",
       "      <td>0.9788</td>\n",
       "      <td>0.9793</td>\n",
       "      <td>0.9798</td>\n",
       "      <td>0.9803</td>\n",
       "      <td>0.9808</td>\n",
       "      <td>0.9812</td>\n",
       "      <td>0.9817</td>\n",
       "    </tr>\n",
       "    <tr>\n",
       "      <th>2.10</th>\n",
       "      <td>0.9821</td>\n",
       "      <td>0.9826</td>\n",
       "      <td>0.9830</td>\n",
       "      <td>0.9834</td>\n",
       "      <td>0.9838</td>\n",
       "      <td>0.9842</td>\n",
       "      <td>0.9846</td>\n",
       "      <td>0.9850</td>\n",
       "      <td>0.9854</td>\n",
       "      <td>0.9857</td>\n",
       "    </tr>\n",
       "    <tr>\n",
       "      <th>2.20</th>\n",
       "      <td>0.9861</td>\n",
       "      <td>0.9864</td>\n",
       "      <td>0.9868</td>\n",
       "      <td>0.9871</td>\n",
       "      <td>0.9875</td>\n",
       "      <td>0.9878</td>\n",
       "      <td>0.9881</td>\n",
       "      <td>0.9884</td>\n",
       "      <td>0.9887</td>\n",
       "      <td>0.9890</td>\n",
       "    </tr>\n",
       "    <tr>\n",
       "      <th>2.30</th>\n",
       "      <td>0.9893</td>\n",
       "      <td>0.9896</td>\n",
       "      <td>0.9898</td>\n",
       "      <td>0.9901</td>\n",
       "      <td>0.9904</td>\n",
       "      <td>0.9906</td>\n",
       "      <td>0.9909</td>\n",
       "      <td>0.9911</td>\n",
       "      <td>0.9913</td>\n",
       "      <td>0.9916</td>\n",
       "    </tr>\n",
       "    <tr>\n",
       "      <th>2.40</th>\n",
       "      <td>0.9918</td>\n",
       "      <td>0.9920</td>\n",
       "      <td>0.9922</td>\n",
       "      <td>0.9925</td>\n",
       "      <td>0.9927</td>\n",
       "      <td>0.9929</td>\n",
       "      <td>0.9931</td>\n",
       "      <td>0.9932</td>\n",
       "      <td>0.9934</td>\n",
       "      <td>0.9936</td>\n",
       "    </tr>\n",
       "    <tr>\n",
       "      <th>2.50</th>\n",
       "      <td>0.9938</td>\n",
       "      <td>0.9940</td>\n",
       "      <td>0.9941</td>\n",
       "      <td>0.9943</td>\n",
       "      <td>0.9945</td>\n",
       "      <td>0.9946</td>\n",
       "      <td>0.9948</td>\n",
       "      <td>0.9949</td>\n",
       "      <td>0.9951</td>\n",
       "      <td>0.9952</td>\n",
       "    </tr>\n",
       "    <tr>\n",
       "      <th>2.60</th>\n",
       "      <td>0.9953</td>\n",
       "      <td>0.9955</td>\n",
       "      <td>0.9956</td>\n",
       "      <td>0.9957</td>\n",
       "      <td>0.9959</td>\n",
       "      <td>0.9960</td>\n",
       "      <td>0.9961</td>\n",
       "      <td>0.9962</td>\n",
       "      <td>0.9963</td>\n",
       "      <td>0.9964</td>\n",
       "    </tr>\n",
       "    <tr>\n",
       "      <th>2.70</th>\n",
       "      <td>0.9965</td>\n",
       "      <td>0.9966</td>\n",
       "      <td>0.9967</td>\n",
       "      <td>0.9968</td>\n",
       "      <td>0.9969</td>\n",
       "      <td>0.9970</td>\n",
       "      <td>0.9971</td>\n",
       "      <td>0.9972</td>\n",
       "      <td>0.9973</td>\n",
       "      <td>0.9974</td>\n",
       "    </tr>\n",
       "    <tr>\n",
       "      <th>2.80</th>\n",
       "      <td>0.9974</td>\n",
       "      <td>0.9975</td>\n",
       "      <td>0.9976</td>\n",
       "      <td>0.9977</td>\n",
       "      <td>0.9977</td>\n",
       "      <td>0.9978</td>\n",
       "      <td>0.9979</td>\n",
       "      <td>0.9979</td>\n",
       "      <td>0.9980</td>\n",
       "      <td>0.9981</td>\n",
       "    </tr>\n",
       "    <tr>\n",
       "      <th>2.90</th>\n",
       "      <td>0.9981</td>\n",
       "      <td>0.9982</td>\n",
       "      <td>0.9982</td>\n",
       "      <td>0.9983</td>\n",
       "      <td>0.9984</td>\n",
       "      <td>0.9984</td>\n",
       "      <td>0.9985</td>\n",
       "      <td>0.9985</td>\n",
       "      <td>0.9986</td>\n",
       "      <td>0.9986</td>\n",
       "    </tr>\n",
       "    <tr>\n",
       "      <th>3.00</th>\n",
       "      <td>0.9987</td>\n",
       "      <td>0.9987</td>\n",
       "      <td>0.9987</td>\n",
       "      <td>0.9988</td>\n",
       "      <td>0.9988</td>\n",
       "      <td>0.9989</td>\n",
       "      <td>0.9989</td>\n",
       "      <td>0.9989</td>\n",
       "      <td>0.9990</td>\n",
       "      <td>0.9990</td>\n",
       "    </tr>\n",
       "    <tr>\n",
       "      <th>3.10</th>\n",
       "      <td>0.9990</td>\n",
       "      <td>0.9991</td>\n",
       "      <td>0.9991</td>\n",
       "      <td>0.9991</td>\n",
       "      <td>0.9992</td>\n",
       "      <td>0.9992</td>\n",
       "      <td>0.9992</td>\n",
       "      <td>0.9992</td>\n",
       "      <td>0.9993</td>\n",
       "      <td>0.9993</td>\n",
       "    </tr>\n",
       "    <tr>\n",
       "      <th>3.20</th>\n",
       "      <td>0.9993</td>\n",
       "      <td>0.9993</td>\n",
       "      <td>0.9994</td>\n",
       "      <td>0.9994</td>\n",
       "      <td>0.9994</td>\n",
       "      <td>0.9994</td>\n",
       "      <td>0.9994</td>\n",
       "      <td>0.9995</td>\n",
       "      <td>0.9995</td>\n",
       "      <td>0.9995</td>\n",
       "    </tr>\n",
       "    <tr>\n",
       "      <th>3.30</th>\n",
       "      <td>0.9995</td>\n",
       "      <td>0.9995</td>\n",
       "      <td>0.9995</td>\n",
       "      <td>0.9996</td>\n",
       "      <td>0.9996</td>\n",
       "      <td>0.9996</td>\n",
       "      <td>0.9996</td>\n",
       "      <td>0.9996</td>\n",
       "      <td>0.9996</td>\n",
       "      <td>0.9997</td>\n",
       "    </tr>\n",
       "    <tr>\n",
       "      <th>3.40</th>\n",
       "      <td>0.9997</td>\n",
       "      <td>0.9997</td>\n",
       "      <td>0.9997</td>\n",
       "      <td>0.9997</td>\n",
       "      <td>0.9997</td>\n",
       "      <td>0.9997</td>\n",
       "      <td>0.9997</td>\n",
       "      <td>0.9997</td>\n",
       "      <td>0.9997</td>\n",
       "      <td>0.9998</td>\n",
       "    </tr>\n",
       "    <tr>\n",
       "      <th>3.50</th>\n",
       "      <td>0.9998</td>\n",
       "      <td>0.9998</td>\n",
       "      <td>0.9998</td>\n",
       "      <td>0.9998</td>\n",
       "      <td>0.9998</td>\n",
       "      <td>0.9998</td>\n",
       "      <td>0.9998</td>\n",
       "      <td>0.9998</td>\n",
       "      <td>0.9998</td>\n",
       "      <td>0.9998</td>\n",
       "    </tr>\n",
       "    <tr>\n",
       "      <th>3.60</th>\n",
       "      <td>0.9998</td>\n",
       "      <td>0.9998</td>\n",
       "      <td>0.9999</td>\n",
       "      <td>0.9999</td>\n",
       "      <td>0.9999</td>\n",
       "      <td>0.9999</td>\n",
       "      <td>0.9999</td>\n",
       "      <td>0.9999</td>\n",
       "      <td>0.9999</td>\n",
       "      <td>0.9999</td>\n",
       "    </tr>\n",
       "    <tr>\n",
       "      <th>3.70</th>\n",
       "      <td>0.9999</td>\n",
       "      <td>0.9999</td>\n",
       "      <td>0.9999</td>\n",
       "      <td>0.9999</td>\n",
       "      <td>0.9999</td>\n",
       "      <td>0.9999</td>\n",
       "      <td>0.9999</td>\n",
       "      <td>0.9999</td>\n",
       "      <td>0.9999</td>\n",
       "      <td>0.9999</td>\n",
       "    </tr>\n",
       "    <tr>\n",
       "      <th>3.80</th>\n",
       "      <td>0.9999</td>\n",
       "      <td>0.9999</td>\n",
       "      <td>0.9999</td>\n",
       "      <td>0.9999</td>\n",
       "      <td>0.9999</td>\n",
       "      <td>0.9999</td>\n",
       "      <td>0.9999</td>\n",
       "      <td>0.9999</td>\n",
       "      <td>0.9999</td>\n",
       "      <td>0.9999</td>\n",
       "    </tr>\n",
       "    <tr>\n",
       "      <th>3.90</th>\n",
       "      <td>1.0000</td>\n",
       "      <td>1.0000</td>\n",
       "      <td>1.0000</td>\n",
       "      <td>1.0000</td>\n",
       "      <td>1.0000</td>\n",
       "      <td>1.0000</td>\n",
       "      <td>1.0000</td>\n",
       "      <td>1.0000</td>\n",
       "      <td>1.0000</td>\n",
       "      <td>1.0000</td>\n",
       "    </tr>\n",
       "  </tbody>\n",
       "</table>\n",
       "</div>"
      ],
      "text/plain": [
       "Z       0.00    0.01    0.02    0.03    0.04    0.05    0.06    0.07    0.08  \\\n",
       "0.00  0.5000  0.5040  0.5080  0.5120  0.5160  0.5199  0.5239  0.5279  0.5319   \n",
       "0.10  0.5398  0.5438  0.5478  0.5517  0.5557  0.5596  0.5636  0.5675  0.5714   \n",
       "0.20  0.5793  0.5832  0.5871  0.5910  0.5948  0.5987  0.6026  0.6064  0.6103   \n",
       "0.30  0.6179  0.6217  0.6255  0.6293  0.6331  0.6368  0.6406  0.6443  0.6480   \n",
       "0.40  0.6554  0.6591  0.6628  0.6664  0.6700  0.6736  0.6772  0.6808  0.6844   \n",
       "0.50  0.6915  0.6950  0.6985  0.7019  0.7054  0.7088  0.7123  0.7157  0.7190   \n",
       "0.60  0.7257  0.7291  0.7324  0.7357  0.7389  0.7422  0.7454  0.7486  0.7517   \n",
       "0.70  0.7580  0.7611  0.7642  0.7673  0.7704  0.7734  0.7764  0.7794  0.7823   \n",
       "0.80  0.7881  0.7910  0.7939  0.7967  0.7995  0.8023  0.8051  0.8078  0.8106   \n",
       "0.90  0.8159  0.8186  0.8212  0.8238  0.8264  0.8289  0.8315  0.8340  0.8365   \n",
       "1.00  0.8413  0.8438  0.8461  0.8485  0.8508  0.8531  0.8554  0.8577  0.8599   \n",
       "1.10  0.8643  0.8665  0.8686  0.8708  0.8729  0.8749  0.8770  0.8790  0.8810   \n",
       "1.20  0.8849  0.8869  0.8888  0.8907  0.8925  0.8944  0.8962  0.8980  0.8997   \n",
       "1.30  0.9032  0.9049  0.9066  0.9082  0.9099  0.9115  0.9131  0.9147  0.9162   \n",
       "1.40  0.9192  0.9207  0.9222  0.9236  0.9251  0.9265  0.9279  0.9292  0.9306   \n",
       "1.50  0.9332  0.9345  0.9357  0.9370  0.9382  0.9394  0.9406  0.9418  0.9429   \n",
       "1.60  0.9452  0.9463  0.9474  0.9484  0.9495  0.9505  0.9515  0.9525  0.9535   \n",
       "1.70  0.9554  0.9564  0.9573  0.9582  0.9591  0.9599  0.9608  0.9616  0.9625   \n",
       "1.80  0.9641  0.9649  0.9656  0.9664  0.9671  0.9678  0.9686  0.9693  0.9699   \n",
       "1.90  0.9713  0.9719  0.9726  0.9732  0.9738  0.9744  0.9750  0.9756  0.9761   \n",
       "2.00  0.9772  0.9778  0.9783  0.9788  0.9793  0.9798  0.9803  0.9808  0.9812   \n",
       "2.10  0.9821  0.9826  0.9830  0.9834  0.9838  0.9842  0.9846  0.9850  0.9854   \n",
       "2.20  0.9861  0.9864  0.9868  0.9871  0.9875  0.9878  0.9881  0.9884  0.9887   \n",
       "2.30  0.9893  0.9896  0.9898  0.9901  0.9904  0.9906  0.9909  0.9911  0.9913   \n",
       "2.40  0.9918  0.9920  0.9922  0.9925  0.9927  0.9929  0.9931  0.9932  0.9934   \n",
       "2.50  0.9938  0.9940  0.9941  0.9943  0.9945  0.9946  0.9948  0.9949  0.9951   \n",
       "2.60  0.9953  0.9955  0.9956  0.9957  0.9959  0.9960  0.9961  0.9962  0.9963   \n",
       "2.70  0.9965  0.9966  0.9967  0.9968  0.9969  0.9970  0.9971  0.9972  0.9973   \n",
       "2.80  0.9974  0.9975  0.9976  0.9977  0.9977  0.9978  0.9979  0.9979  0.9980   \n",
       "2.90  0.9981  0.9982  0.9982  0.9983  0.9984  0.9984  0.9985  0.9985  0.9986   \n",
       "3.00  0.9987  0.9987  0.9987  0.9988  0.9988  0.9989  0.9989  0.9989  0.9990   \n",
       "3.10  0.9990  0.9991  0.9991  0.9991  0.9992  0.9992  0.9992  0.9992  0.9993   \n",
       "3.20  0.9993  0.9993  0.9994  0.9994  0.9994  0.9994  0.9994  0.9995  0.9995   \n",
       "3.30  0.9995  0.9995  0.9995  0.9996  0.9996  0.9996  0.9996  0.9996  0.9996   \n",
       "3.40  0.9997  0.9997  0.9997  0.9997  0.9997  0.9997  0.9997  0.9997  0.9997   \n",
       "3.50  0.9998  0.9998  0.9998  0.9998  0.9998  0.9998  0.9998  0.9998  0.9998   \n",
       "3.60  0.9998  0.9998  0.9999  0.9999  0.9999  0.9999  0.9999  0.9999  0.9999   \n",
       "3.70  0.9999  0.9999  0.9999  0.9999  0.9999  0.9999  0.9999  0.9999  0.9999   \n",
       "3.80  0.9999  0.9999  0.9999  0.9999  0.9999  0.9999  0.9999  0.9999  0.9999   \n",
       "3.90  1.0000  1.0000  1.0000  1.0000  1.0000  1.0000  1.0000  1.0000  1.0000   \n",
       "\n",
       "Z       0.09  \n",
       "0.00  0.5359  \n",
       "0.10  0.5753  \n",
       "0.20  0.6141  \n",
       "0.30  0.6517  \n",
       "0.40  0.6879  \n",
       "0.50  0.7224  \n",
       "0.60  0.7549  \n",
       "0.70  0.7852  \n",
       "0.80  0.8133  \n",
       "0.90  0.8389  \n",
       "1.00  0.8621  \n",
       "1.10  0.8830  \n",
       "1.20  0.9015  \n",
       "1.30  0.9177  \n",
       "1.40  0.9319  \n",
       "1.50  0.9441  \n",
       "1.60  0.9545  \n",
       "1.70  0.9633  \n",
       "1.80  0.9706  \n",
       "1.90  0.9767  \n",
       "2.00  0.9817  \n",
       "2.10  0.9857  \n",
       "2.20  0.9890  \n",
       "2.30  0.9916  \n",
       "2.40  0.9936  \n",
       "2.50  0.9952  \n",
       "2.60  0.9964  \n",
       "2.70  0.9974  \n",
       "2.80  0.9981  \n",
       "2.90  0.9986  \n",
       "3.00  0.9990  \n",
       "3.10  0.9993  \n",
       "3.20  0.9995  \n",
       "3.30  0.9997  \n",
       "3.40  0.9998  \n",
       "3.50  0.9998  \n",
       "3.60  0.9999  \n",
       "3.70  0.9999  \n",
       "3.80  0.9999  \n",
       "3.90  1.0000  "
      ]
     },
     "execution_count": 67,
     "metadata": {},
     "output_type": "execute_result"
    }
   ],
   "source": [
    "tabela_normal_padronizada = pd.DataFrame(\n",
    "    [], \n",
    "    index=[\"{0:0.2f}\".format(i / 100) for i in range(0, 400, 10)],\n",
    "    columns = [\"{0:0.2f}\".format(i / 100) for i in range(0, 10)]\n",
    ")\n",
    "\n",
    "for index in tabela_normal_padronizada.index:\n",
    "    for column in tabela_normal_padronizada.columns:\n",
    "        Z = np.round(float(index) + float(column), 2)\n",
    "        tabela_normal_padronizada.loc[index, column] = \"{0:0.4f}\".format(norm.cdf(Z))\n",
    "\n",
    "tabela_normal_padronizada.rename_axis('Z', axis = 'columns', inplace = True)\n",
    "\n",
    "tabela_normal_padronizada"
   ]
  },
  {
   "attachments": {
    "image.png": {
     "image/png": "[encoded data removed]"
    }
   },
   "cell_type": "markdown",
   "id": "fb2cf53a",
   "metadata": {},
   "source": [
    "![image.png](attachment:image.png)\n",
    "\n",
    "A tabela acima fornece a área sob a curva entre $-\\infty$ e $Z$ desvios padrão acima da média. Lembrando que por se tratar de valores padronizados temos $\\mu = 0$."
   ]
  },
  {
   "cell_type": "markdown",
   "id": "279ca8b7",
   "metadata": {},
   "source": [
    "**Resolvendo o problema 6**"
   ]
  },
  {
   "cell_type": "code",
   "execution_count": 68,
   "id": "b8a9ca68",
   "metadata": {},
   "outputs": [
    {
     "data": {
      "text/plain": [
       "26.5"
      ]
     },
     "execution_count": 68,
     "metadata": {},
     "output_type": "execute_result"
    }
   ],
   "source": [
    "media = 26.5\n",
    "media"
   ]
  },
  {
   "cell_type": "code",
   "execution_count": 69,
   "id": "bfd099c2",
   "metadata": {},
   "outputs": [
    {
     "data": {
      "text/plain": [
       "4"
      ]
     },
     "execution_count": 69,
     "metadata": {},
     "output_type": "execute_result"
    }
   ],
   "source": [
    "desvio_padrao = 4\n",
    "desvio_padrao"
   ]
  },
  {
   "cell_type": "markdown",
   "id": "d8f3404a",
   "metadata": {},
   "source": [
    "**a)** P(X > 37)"
   ]
  },
  {
   "cell_type": "markdown",
   "id": "d75cba2b",
   "metadata": {},
   "source": [
    "Obtendo a variável padronizada Z"
   ]
  },
  {
   "cell_type": "code",
   "execution_count": 70,
   "id": "edc20ae8",
   "metadata": {},
   "outputs": [
    {
     "data": {
      "text/plain": [
       "2.625"
      ]
     },
     "execution_count": 70,
     "metadata": {},
     "output_type": "execute_result"
    }
   ],
   "source": [
    "Z_a = (37 - media)/desvio_padrao\n",
    "Z_a"
   ]
  },
  {
   "cell_type": "markdown",
   "id": "ebe4d2af",
   "metadata": {},
   "source": [
    "Portanto, P(X > 37) = P(Z > 2.625) = 1 - P(Z < 2.625)"
   ]
  },
  {
   "cell_type": "markdown",
   "id": "858a6c58",
   "metadata": {},
   "source": [
    "Tanto a tabela quanto as fórmulas, nos dão a probabilidade como sendo a área abaixo do gráfico até o valor de Z. Observe que aqui queremos a área do gráfico após o valor de Z (Z > 2.635).\n",
    "\n",
    "Então, usando tanto a tabela quanto a fórmula, precisamos tirar do total (1 ou 100%) a área abaixo de Z."
   ]
  },
  {
   "cell_type": "markdown",
   "id": "f76413c4",
   "metadata": {},
   "source": [
    "Solução usando a tabela"
   ]
  },
  {
   "cell_type": "code",
   "execution_count": 71,
   "id": "1f483538",
   "metadata": {},
   "outputs": [
    {
     "data": {
      "text/plain": [
       "0.0042999999999999705"
      ]
     },
     "execution_count": 71,
     "metadata": {},
     "output_type": "execute_result"
    }
   ],
   "source": [
    "prob_6a = 1 - 0.9957\n",
    "prob_6a"
   ]
  },
  {
   "cell_type": "markdown",
   "id": "553be43a",
   "metadata": {},
   "source": [
    "Solução usando fórmulas Python\n",
    "\n",
    "Aqui precisamos usar a cumulativa"
   ]
  },
  {
   "cell_type": "code",
   "execution_count": 72,
   "id": "857fb195",
   "metadata": {},
   "outputs": [
    {
     "data": {
      "text/plain": [
       "0.004332448363012609"
      ]
     },
     "execution_count": 72,
     "metadata": {},
     "output_type": "execute_result"
    }
   ],
   "source": [
    "prob_6a = 1 - norm.cdf(Z_a)\n",
    "prob_6a"
   ]
  },
  {
   "cell_type": "markdown",
   "id": "da2351bd",
   "metadata": {},
   "source": [
    "**b)** P(X < 20)"
   ]
  },
  {
   "cell_type": "markdown",
   "id": "66d30e22",
   "metadata": {},
   "source": [
    "Obtendo a variável padronizada Z"
   ]
  },
  {
   "cell_type": "code",
   "execution_count": 73,
   "id": "0596317c",
   "metadata": {},
   "outputs": [
    {
     "data": {
      "text/plain": [
       "-1.625"
      ]
     },
     "execution_count": 73,
     "metadata": {},
     "output_type": "execute_result"
    }
   ],
   "source": [
    "Z_b = (20 - media)/desvio_padrao\n",
    "Z_b"
   ]
  },
  {
   "cell_type": "markdown",
   "id": "ec1312f6",
   "metadata": {},
   "source": [
    "Portanto, P(X < 20) = P(Z < -1.625)"
   ]
  },
  {
   "cell_type": "markdown",
   "id": "460406c1",
   "metadata": {},
   "source": [
    "Solução pela tabela"
   ]
  },
  {
   "cell_type": "markdown",
   "id": "b6270e55",
   "metadata": {},
   "source": [
    "P(Z < -1.625) = P(Z > 1.625) = 1 - P(Z < 1.625)"
   ]
  },
  {
   "cell_type": "code",
   "execution_count": 74,
   "id": "905acb74",
   "metadata": {},
   "outputs": [
    {
     "data": {
      "text/plain": [
       "0.05159999999999998"
      ]
     },
     "execution_count": 74,
     "metadata": {},
     "output_type": "execute_result"
    }
   ],
   "source": [
    "prob_6b = 1 - 0.9484\n",
    "prob_6b"
   ]
  },
  {
   "cell_type": "markdown",
   "id": "fe9ad630",
   "metadata": {},
   "source": [
    "Solução usando fórmulas python"
   ]
  },
  {
   "cell_type": "code",
   "execution_count": 75,
   "id": "7cea8363",
   "metadata": {},
   "outputs": [
    {
     "data": {
      "text/plain": [
       "0.05208127941521953"
      ]
     },
     "execution_count": 75,
     "metadata": {},
     "output_type": "execute_result"
    }
   ],
   "source": [
    "prob_6b = norm.cdf(Z_b)\n",
    "prob_6b"
   ]
  },
  {
   "attachments": {
    "image.png": {
     "image/png": "[encoded data removed]"
    }
   },
   "cell_type": "markdown",
   "id": "21e65421",
   "metadata": {},
   "source": [
    "**c)** P(22<X<28)\n",
    "\n",
    "![image.png](attachment:image.png)\n",
    "\n",
    "Queremos a área entre esses dois limites em vermelho. Que nada mais é que P(X<28) - P(X-22)"
   ]
  },
  {
   "cell_type": "markdown",
   "id": "8ccdb67a",
   "metadata": {},
   "source": [
    "Obtendo as variáveis padronizadas Zs"
   ]
  },
  {
   "cell_type": "code",
   "execution_count": 76,
   "id": "c06cbf71",
   "metadata": {},
   "outputs": [
    {
     "data": {
      "text/plain": [
       "-1.125"
      ]
     },
     "execution_count": 76,
     "metadata": {},
     "output_type": "execute_result"
    }
   ],
   "source": [
    "Z_c1 = (22 - media)/desvio_padrao\n",
    "Z_c1"
   ]
  },
  {
   "cell_type": "code",
   "execution_count": 77,
   "id": "510ac57b",
   "metadata": {},
   "outputs": [
    {
     "data": {
      "text/plain": [
       "0.375"
      ]
     },
     "execution_count": 77,
     "metadata": {},
     "output_type": "execute_result"
    }
   ],
   "source": [
    "Z_c2 = (28 - media)/desvio_padrao\n",
    "Z_c2"
   ]
  },
  {
   "cell_type": "markdown",
   "id": "a79c242c",
   "metadata": {},
   "source": [
    "Portanto, P(22<X<28) = P(-1.125<Z<0.375)"
   ]
  },
  {
   "cell_type": "markdown",
   "id": "33f49b54",
   "metadata": {},
   "source": [
    "Solução usando a tabela"
   ]
  },
  {
   "cell_type": "code",
   "execution_count": 78,
   "id": "007131a7",
   "metadata": {},
   "outputs": [
    {
     "data": {
      "text/plain": [
       "0.648"
      ]
     },
     "execution_count": 78,
     "metadata": {},
     "output_type": "execute_result"
    }
   ],
   "source": [
    "# P(Z < 0.375)\n",
    "\n",
    "prob_6c2 = 0.6480\n",
    "prob_6c2"
   ]
  },
  {
   "cell_type": "code",
   "execution_count": 79,
   "id": "b2b54a12",
   "metadata": {},
   "outputs": [
    {
     "data": {
      "text/plain": [
       "0.12919999999999998"
      ]
     },
     "execution_count": 79,
     "metadata": {},
     "output_type": "execute_result"
    }
   ],
   "source": [
    "# P(Z < -1.125) = P(Z > 1.125) = 1 - P(Z < 1.125)\n",
    "\n",
    "prob_6c1 = 1 - 0.8708\n",
    "prob_6c1"
   ]
  },
  {
   "cell_type": "code",
   "execution_count": 80,
   "id": "f65afe28",
   "metadata": {},
   "outputs": [
    {
     "data": {
      "text/plain": [
       "0.5188"
      ]
     },
     "execution_count": 80,
     "metadata": {},
     "output_type": "execute_result"
    }
   ],
   "source": [
    "prob_6c = prob_6c2 - prob_6c1\n",
    "prob_6c"
   ]
  },
  {
   "cell_type": "markdown",
   "id": "906dcd7a",
   "metadata": {},
   "source": [
    "Usando fórmulas python"
   ]
  },
  {
   "cell_type": "code",
   "execution_count": 81,
   "id": "22ecc42e",
   "metadata": {},
   "outputs": [
    {
     "data": {
      "text/plain": [
       "0.5158752495359149"
      ]
     },
     "execution_count": 81,
     "metadata": {},
     "output_type": "execute_result"
    }
   ],
   "source": [
    "prob_6c = norm.cdf(Z_c2) - norm.cdf(Z_c1)\n",
    "prob_6c"
   ]
  },
  {
   "cell_type": "markdown",
   "id": "927626a9",
   "metadata": {},
   "source": [
    "-------------------------------------------------------------------------------------------------------------------------------"
   ]
  },
  {
   "cell_type": "markdown",
   "id": "16fe5397",
   "metadata": {},
   "source": [
    "**7)** (Fonte: Fávero e Belfiore, 2017, Cap. 8) Um grupo de 60 leitores fez uma avaliação de\n",
    "três livros de romance e, ao final, escolheram uma das três opções. Teste a hipótese nula\n",
    "de que não há diferença na preferência dos leitores, ao nível de significância de 5%.\n",
    "\n",
    "Estamos frente a um teste qui-quadrado de uma amostra\n",
    "\n",
    "https://docs.scipy.org/doc/scipy/reference/generated/scipy.stats.chi2.html#scipy.stats.chi2"
   ]
  },
  {
   "cell_type": "code",
   "execution_count": 82,
   "id": "ae261bf0",
   "metadata": {},
   "outputs": [],
   "source": [
    "df  = pd.DataFrame({'Eventos': ['Frequência', 'Proporção'], \n",
    "                    'Livro A': [29, 0.483], \n",
    "                    'Livro B': [15, 0.250],\n",
    "                    'Livro C': [16, 0.267],\n",
    "                    'Total': [60, 1]})"
   ]
  },
  {
   "cell_type": "code",
   "execution_count": 83,
   "id": "1869df58",
   "metadata": {},
   "outputs": [
    {
     "data": {
      "text/html": [
       "<div>\n",
       "<style scoped>\n",
       "    .dataframe tbody tr th:only-of-type {\n",
       "        vertical-align: middle;\n",
       "    }\n",
       "\n",
       "    .dataframe tbody tr th {\n",
       "        vertical-align: top;\n",
       "    }\n",
       "\n",
       "    .dataframe thead th {\n",
       "        text-align: right;\n",
       "    }\n",
       "</style>\n",
       "<table border=\"1\" class=\"dataframe\">\n",
       "  <thead>\n",
       "    <tr style=\"text-align: right;\">\n",
       "      <th></th>\n",
       "      <th>Eventos</th>\n",
       "      <th>Livro A</th>\n",
       "      <th>Livro B</th>\n",
       "      <th>Livro C</th>\n",
       "      <th>Total</th>\n",
       "    </tr>\n",
       "  </thead>\n",
       "  <tbody>\n",
       "    <tr>\n",
       "      <th>0</th>\n",
       "      <td>Frequência</td>\n",
       "      <td>29.000</td>\n",
       "      <td>15.00</td>\n",
       "      <td>16.000</td>\n",
       "      <td>60</td>\n",
       "    </tr>\n",
       "    <tr>\n",
       "      <th>1</th>\n",
       "      <td>Proporção</td>\n",
       "      <td>0.483</td>\n",
       "      <td>0.25</td>\n",
       "      <td>0.267</td>\n",
       "      <td>1</td>\n",
       "    </tr>\n",
       "  </tbody>\n",
       "</table>\n",
       "</div>"
      ],
      "text/plain": [
       "      Eventos  Livro A  Livro B  Livro C  Total\n",
       "0  Frequência   29.000    15.00   16.000     60\n",
       "1   Proporção    0.483     0.25    0.267      1"
      ]
     },
     "execution_count": 83,
     "metadata": {},
     "output_type": "execute_result"
    }
   ],
   "source": [
    "df"
   ]
  },
  {
   "cell_type": "markdown",
   "id": "372cbd8e",
   "metadata": {},
   "source": [
    "Nível de significância de 5%, ou seja,"
   ]
  },
  {
   "cell_type": "code",
   "execution_count": 84,
   "id": "8f02c4d4",
   "metadata": {},
   "outputs": [
    {
     "data": {
      "text/plain": [
       "0.05"
      ]
     },
     "execution_count": 84,
     "metadata": {},
     "output_type": "execute_result"
    }
   ],
   "source": [
    "alpha = 0.05\n",
    "alpha"
   ]
  },
  {
   "cell_type": "code",
   "execution_count": 85,
   "id": "95d63911",
   "metadata": {},
   "outputs": [
    {
     "data": {
      "text/plain": [
       "60"
      ]
     },
     "execution_count": 85,
     "metadata": {},
     "output_type": "execute_result"
    }
   ],
   "source": [
    "n = 60\n",
    "n"
   ]
  },
  {
   "cell_type": "markdown",
   "id": "30bd2038",
   "metadata": {},
   "source": [
    "Precisamos testar:\n",
    "\n",
    "H0: não há diferença na preferência dos leitores (as frequências observadas e esperadas são iguais)\n",
    "\n",
    "H1: há diferença na preferência dos leitores (as frequências observadas e esperadas são diferentes)"
   ]
  },
  {
   "cell_type": "code",
   "execution_count": 86,
   "id": "57501864",
   "metadata": {},
   "outputs": [
    {
     "data": {
      "text/html": [
       "<div>\n",
       "<style scoped>\n",
       "    .dataframe tbody tr th:only-of-type {\n",
       "        vertical-align: middle;\n",
       "    }\n",
       "\n",
       "    .dataframe tbody tr th {\n",
       "        vertical-align: top;\n",
       "    }\n",
       "\n",
       "    .dataframe thead th {\n",
       "        text-align: right;\n",
       "    }\n",
       "</style>\n",
       "<table border=\"1\" class=\"dataframe\">\n",
       "  <thead>\n",
       "    <tr style=\"text-align: right;\">\n",
       "      <th></th>\n",
       "      <th>Livro</th>\n",
       "      <th>Freq Observada</th>\n",
       "      <th>Freq Esperada</th>\n",
       "    </tr>\n",
       "  </thead>\n",
       "  <tbody>\n",
       "    <tr>\n",
       "      <th>0</th>\n",
       "      <td>Livro A</td>\n",
       "      <td>29</td>\n",
       "      <td>20</td>\n",
       "    </tr>\n",
       "    <tr>\n",
       "      <th>1</th>\n",
       "      <td>Livro B</td>\n",
       "      <td>15</td>\n",
       "      <td>20</td>\n",
       "    </tr>\n",
       "    <tr>\n",
       "      <th>2</th>\n",
       "      <td>Livro C</td>\n",
       "      <td>16</td>\n",
       "      <td>20</td>\n",
       "    </tr>\n",
       "  </tbody>\n",
       "</table>\n",
       "</div>"
      ],
      "text/plain": [
       "     Livro  Freq Observada  Freq Esperada\n",
       "0  Livro A              29             20\n",
       "1  Livro B              15             20\n",
       "2  Livro C              16             20"
      ]
     },
     "execution_count": 86,
     "metadata": {},
     "output_type": "execute_result"
    }
   ],
   "source": [
    "df_qui = pd.DataFrame({'Livro': ['Livro A', 'Livro B', 'Livro C'],\n",
    "                       'Freq Observada': [29, 15, 16],\n",
    "                       'Freq Esperada': [int(60/3), int(60/3), int(60/3)]})\n",
    "df_qui"
   ]
  },
  {
   "cell_type": "code",
   "execution_count": 87,
   "id": "b66d8859",
   "metadata": {},
   "outputs": [
    {
     "data": {
      "text/html": [
       "<div>\n",
       "<style scoped>\n",
       "    .dataframe tbody tr th:only-of-type {\n",
       "        vertical-align: middle;\n",
       "    }\n",
       "\n",
       "    .dataframe tbody tr th {\n",
       "        vertical-align: top;\n",
       "    }\n",
       "\n",
       "    .dataframe thead th {\n",
       "        text-align: right;\n",
       "    }\n",
       "</style>\n",
       "<table border=\"1\" class=\"dataframe\">\n",
       "  <thead>\n",
       "    <tr style=\"text-align: right;\">\n",
       "      <th></th>\n",
       "      <th>Livro</th>\n",
       "      <th>Freq Observada</th>\n",
       "      <th>Freq Esperada</th>\n",
       "      <th>Estatistica Qui</th>\n",
       "    </tr>\n",
       "  </thead>\n",
       "  <tbody>\n",
       "    <tr>\n",
       "      <th>0</th>\n",
       "      <td>Livro A</td>\n",
       "      <td>29</td>\n",
       "      <td>20</td>\n",
       "      <td>4.05</td>\n",
       "    </tr>\n",
       "    <tr>\n",
       "      <th>1</th>\n",
       "      <td>Livro B</td>\n",
       "      <td>15</td>\n",
       "      <td>20</td>\n",
       "      <td>1.25</td>\n",
       "    </tr>\n",
       "    <tr>\n",
       "      <th>2</th>\n",
       "      <td>Livro C</td>\n",
       "      <td>16</td>\n",
       "      <td>20</td>\n",
       "      <td>0.80</td>\n",
       "    </tr>\n",
       "  </tbody>\n",
       "</table>\n",
       "</div>"
      ],
      "text/plain": [
       "     Livro  Freq Observada  Freq Esperada  Estatistica Qui\n",
       "0  Livro A              29             20             4.05\n",
       "1  Livro B              15             20             1.25\n",
       "2  Livro C              16             20             0.80"
      ]
     },
     "execution_count": 87,
     "metadata": {},
     "output_type": "execute_result"
    }
   ],
   "source": [
    "df_qui['Estatistica Qui'] = df_qui.apply(lambda x: ((x['Freq Observada'] - x['Freq Esperada'])**2)/x['Freq Esperada'], axis=1)\n",
    "df_qui"
   ]
  },
  {
   "cell_type": "markdown",
   "id": "2f2bd35e",
   "metadata": {},
   "source": [
    "**Fazendo manualmente**"
   ]
  },
  {
   "cell_type": "code",
   "execution_count": 88,
   "id": "1d1a645b",
   "metadata": {},
   "outputs": [
    {
     "data": {
      "text/plain": [
       "6.1"
      ]
     },
     "execution_count": 88,
     "metadata": {},
     "output_type": "execute_result"
    }
   ],
   "source": [
    "estatistica_teste_qui = df_qui['Estatistica Qui'].sum()\n",
    "estatistica_teste_qui"
   ]
  },
  {
   "cell_type": "code",
   "execution_count": 89,
   "id": "f9187368",
   "metadata": {},
   "outputs": [],
   "source": [
    "from scipy.stats import chi2"
   ]
  },
  {
   "cell_type": "markdown",
   "id": "80879fb7",
   "metadata": {},
   "source": [
    "Calculando o p-valor que nada mais é do que a probabilidade associada a estatística de teste calculada. Levando em conta k-1 graus de liberdade, que aqui é 3-1=2"
   ]
  },
  {
   "cell_type": "code",
   "execution_count": 90,
   "id": "26b94d32",
   "metadata": {},
   "outputs": [
    {
     "data": {
      "text/plain": [
       "0.04735892439114098"
      ]
     },
     "execution_count": 90,
     "metadata": {},
     "output_type": "execute_result"
    }
   ],
   "source": [
    "# fazemos 1 menos, pois mesmo sendo um teste bicaudal, na qui² pegamos a cauda à direita, pois quanto mais diferente\n",
    "# mais à direita ficará, dado que a distribuição qui² é assimétrica à direita\n",
    "p_valor = 1 - chi2.cdf(estatistica_teste_qui, 2) #onde 3-1 são os graus de liberdade\n",
    "p_valor"
   ]
  },
  {
   "cell_type": "markdown",
   "id": "e68124b5",
   "metadata": {},
   "source": [
    "Poderíamos usar, ao invés do cdf, a sf"
   ]
  },
  {
   "cell_type": "code",
   "execution_count": 91,
   "id": "502c1fa8",
   "metadata": {},
   "outputs": [
    {
     "data": {
      "text/plain": [
       "0.04735892439114093"
      ]
     },
     "execution_count": 91,
     "metadata": {},
     "output_type": "execute_result"
    }
   ],
   "source": [
    "chi2.sf(estatistica_teste_qui, 2)"
   ]
  },
  {
   "cell_type": "markdown",
   "id": "191dd3d5",
   "metadata": {},
   "source": [
    "Calculando o valor crítico da distribuição Qui² para um nível de significância de 5%.\n",
    "\n",
    "Dado que temos a área de 5%, qual o valor crítico? Precisamos usar a inversa"
   ]
  },
  {
   "cell_type": "code",
   "execution_count": 92,
   "id": "da0dd4a1",
   "metadata": {},
   "outputs": [
    {
     "data": {
      "text/plain": [
       "5.991464547107983"
      ]
     },
     "execution_count": 92,
     "metadata": {},
     "output_type": "execute_result"
    }
   ],
   "source": [
    "valor_critico_dist_qui = chi2.isf(alpha, 2)\n",
    "valor_critico_dist_qui"
   ]
  },
  {
   "cell_type": "markdown",
   "id": "90652a79",
   "metadata": {},
   "source": [
    "**Conclusão:** como estatistica_teste_qui > valor_critico_dist_qui, a estatistica_teste_qui está na região de rejeição. Logo, rejeitamos a hipótese nula. Ou seja, as preferências dos leitores são estatísticamente diferentes.\n",
    "\n",
    "Outra forma de concluirmos isso é usando o p-valor e o nível de significância.\n",
    "Como p-valor < alpha, logo rejeitamos a hipótese nula."
   ]
  },
  {
   "cell_type": "markdown",
   "id": "2eb969a6",
   "metadata": {},
   "source": [
    "-------------------------------------------------------------------------------------------------------------------------------"
   ]
  },
  {
   "cell_type": "markdown",
   "id": "362a58c1",
   "metadata": {},
   "source": [
    "**8)** Foram coletados dados sobre a quantidade de chuva por dia (em milímetros), durante\n",
    "14 dias, para dois locais distintos. O pesquisador notou que o local A aparenta ter maior\n",
    "variabilidade na quantidade de chuva, comparativamente ao local B. Neste sentido, deseja\n",
    "testar a hipótese de que a variabilidade na quantidade de chuva é significativamente maior\n",
    "em A do que em B. Realize o teste F para testar tal hipótese.\n",
    "\n",
    "Estamos frente a um teste F para comparação de variâncias.\n",
    "\n",
    "https://docs.scipy.org/doc/scipy/reference/generated/scipy.stats.f.html#scipy.stats.f"
   ]
  },
  {
   "cell_type": "markdown",
   "id": "63cac248",
   "metadata": {},
   "source": [
    "Precisamos testar:\n",
    "\n",
    "H0: a variabilidade na quantidade de chuva é igual para o local A e para o local B\n",
    "\n",
    "H1: a variabilidade na quantidade de chuva é significativamente maior em A do que em B"
   ]
  },
  {
   "cell_type": "code",
   "execution_count": 93,
   "id": "2fd278ab",
   "metadata": {},
   "outputs": [],
   "source": [
    "local_a = [8.90,7.70,8.60,3.90,7.60,10.20,9.60,8.90,9.60,5.50,0.50,1.50,1.50,4.00]\n",
    "local_b = [5.60,4.90,6.60,5.90,6.50,5.90,3.60,5.60,8.80,7.80,9.90,11.00,8.30,5.50]"
   ]
  },
  {
   "cell_type": "code",
   "execution_count": 94,
   "id": "01af5eee",
   "metadata": {},
   "outputs": [
    {
     "data": {
      "text/html": [
       "<div>\n",
       "<style scoped>\n",
       "    .dataframe tbody tr th:only-of-type {\n",
       "        vertical-align: middle;\n",
       "    }\n",
       "\n",
       "    .dataframe tbody tr th {\n",
       "        vertical-align: top;\n",
       "    }\n",
       "\n",
       "    .dataframe thead th {\n",
       "        text-align: right;\n",
       "    }\n",
       "</style>\n",
       "<table border=\"1\" class=\"dataframe\">\n",
       "  <thead>\n",
       "    <tr style=\"text-align: right;\">\n",
       "      <th></th>\n",
       "      <th>Local A mm</th>\n",
       "      <th>Local B mm</th>\n",
       "    </tr>\n",
       "  </thead>\n",
       "  <tbody>\n",
       "    <tr>\n",
       "      <th>0</th>\n",
       "      <td>8.9</td>\n",
       "      <td>5.6</td>\n",
       "    </tr>\n",
       "    <tr>\n",
       "      <th>1</th>\n",
       "      <td>7.7</td>\n",
       "      <td>4.9</td>\n",
       "    </tr>\n",
       "    <tr>\n",
       "      <th>2</th>\n",
       "      <td>8.6</td>\n",
       "      <td>6.6</td>\n",
       "    </tr>\n",
       "    <tr>\n",
       "      <th>3</th>\n",
       "      <td>3.9</td>\n",
       "      <td>5.9</td>\n",
       "    </tr>\n",
       "    <tr>\n",
       "      <th>4</th>\n",
       "      <td>7.6</td>\n",
       "      <td>6.5</td>\n",
       "    </tr>\n",
       "    <tr>\n",
       "      <th>5</th>\n",
       "      <td>10.2</td>\n",
       "      <td>5.9</td>\n",
       "    </tr>\n",
       "    <tr>\n",
       "      <th>6</th>\n",
       "      <td>9.6</td>\n",
       "      <td>3.6</td>\n",
       "    </tr>\n",
       "    <tr>\n",
       "      <th>7</th>\n",
       "      <td>8.9</td>\n",
       "      <td>5.6</td>\n",
       "    </tr>\n",
       "    <tr>\n",
       "      <th>8</th>\n",
       "      <td>9.6</td>\n",
       "      <td>8.8</td>\n",
       "    </tr>\n",
       "    <tr>\n",
       "      <th>9</th>\n",
       "      <td>5.5</td>\n",
       "      <td>7.8</td>\n",
       "    </tr>\n",
       "    <tr>\n",
       "      <th>10</th>\n",
       "      <td>0.5</td>\n",
       "      <td>9.9</td>\n",
       "    </tr>\n",
       "    <tr>\n",
       "      <th>11</th>\n",
       "      <td>1.5</td>\n",
       "      <td>11.0</td>\n",
       "    </tr>\n",
       "    <tr>\n",
       "      <th>12</th>\n",
       "      <td>1.5</td>\n",
       "      <td>8.3</td>\n",
       "    </tr>\n",
       "    <tr>\n",
       "      <th>13</th>\n",
       "      <td>4.0</td>\n",
       "      <td>5.5</td>\n",
       "    </tr>\n",
       "  </tbody>\n",
       "</table>\n",
       "</div>"
      ],
      "text/plain": [
       "    Local A mm  Local B mm\n",
       "0          8.9         5.6\n",
       "1          7.7         4.9\n",
       "2          8.6         6.6\n",
       "3          3.9         5.9\n",
       "4          7.6         6.5\n",
       "5         10.2         5.9\n",
       "6          9.6         3.6\n",
       "7          8.9         5.6\n",
       "8          9.6         8.8\n",
       "9          5.5         7.8\n",
       "10         0.5         9.9\n",
       "11         1.5        11.0\n",
       "12         1.5         8.3\n",
       "13         4.0         5.5"
      ]
     },
     "execution_count": 94,
     "metadata": {},
     "output_type": "execute_result"
    }
   ],
   "source": [
    "df = pd.DataFrame({'Local A mm': local_a, 'Local B mm': local_b})\n",
    "df"
   ]
  },
  {
   "cell_type": "markdown",
   "id": "99c25b7f",
   "metadata": {},
   "source": [
    "**Fazendo manualmente**"
   ]
  },
  {
   "cell_type": "code",
   "execution_count": 95,
   "id": "cd31a1ef",
   "metadata": {},
   "outputs": [
    {
     "data": {
      "text/plain": [
       "11.604395604395604"
      ]
     },
     "execution_count": 95,
     "metadata": {},
     "output_type": "execute_result"
    }
   ],
   "source": [
    "variancia_local_a = df['Local A mm'].var()\n",
    "variancia_local_a"
   ]
  },
  {
   "cell_type": "code",
   "execution_count": 96,
   "id": "45d84c75",
   "metadata": {},
   "outputs": [
    {
     "data": {
      "text/plain": [
       "4.202692307692308"
      ]
     },
     "execution_count": 96,
     "metadata": {},
     "output_type": "execute_result"
    }
   ],
   "source": [
    "variancia_local_b = df['Local B mm'].var()\n",
    "variancia_local_b"
   ]
  },
  {
   "cell_type": "markdown",
   "id": "adb63c79",
   "metadata": {},
   "source": [
    "Estatística do teste\n",
    "\n",
    "# $$F = \\frac{S_1^2}{S_2^2}$$\n",
    "\n",
    "onde S1 é a maior variância e S2 é a menor variância\n",
    "\n",
    "Portanto,"
   ]
  },
  {
   "cell_type": "code",
   "execution_count": 97,
   "id": "de603058",
   "metadata": {},
   "outputs": [
    {
     "data": {
      "text/plain": [
       "2.7611813463373815"
      ]
     },
     "execution_count": 97,
     "metadata": {},
     "output_type": "execute_result"
    }
   ],
   "source": [
    "estatistica_teste_f = variancia_local_a/variancia_local_b\n",
    "estatistica_teste_f"
   ]
  },
  {
   "cell_type": "code",
   "execution_count": 98,
   "id": "8961671c",
   "metadata": {},
   "outputs": [],
   "source": [
    "from scipy.stats import f"
   ]
  },
  {
   "cell_type": "code",
   "execution_count": 99,
   "id": "dca83aaf",
   "metadata": {},
   "outputs": [
    {
     "data": {
      "text/plain": [
       "14"
      ]
     },
     "execution_count": 99,
     "metadata": {},
     "output_type": "execute_result"
    }
   ],
   "source": [
    "n_numerador = df['Local A mm'].count()\n",
    "n_numerador"
   ]
  },
  {
   "cell_type": "code",
   "execution_count": 100,
   "id": "f10b6a30",
   "metadata": {},
   "outputs": [
    {
     "data": {
      "text/plain": [
       "14"
      ]
     },
     "execution_count": 100,
     "metadata": {},
     "output_type": "execute_result"
    }
   ],
   "source": [
    "n_denominador = df['Local B mm'].count()\n",
    "n_denominador"
   ]
  },
  {
   "cell_type": "markdown",
   "id": "1811dddb",
   "metadata": {},
   "source": [
    "Calculando o p-valor que nada mais é do que a probabilidade associada a estatística de teste calculada. Levando em conta n-1 graus de liberdade no numerador e n-1 graus de liberdade no denominador"
   ]
  },
  {
   "cell_type": "code",
   "execution_count": 101,
   "id": "1e7d2d49",
   "metadata": {},
   "outputs": [
    {
     "data": {
      "text/plain": [
       "0.03917205449902483"
      ]
     },
     "execution_count": 101,
     "metadata": {},
     "output_type": "execute_result"
    }
   ],
   "source": [
    "# fazemos 1 menos, pois mesmo sendo um teste bicaudal, na f pegamos a cauda à direita, pois quanto mais diferente\n",
    "# mais à direita ficará, dado que a distribuição f é assimétrica à direita\n",
    "\n",
    "p_valor = 1 - f.cdf(estatistica_teste_f, n_numerador-1, n_denominador-1)\n",
    "p_valor"
   ]
  },
  {
   "cell_type": "markdown",
   "id": "129c592a",
   "metadata": {},
   "source": [
    "Podemos usar, ao invés da cdf, a sf"
   ]
  },
  {
   "cell_type": "code",
   "execution_count": 102,
   "id": "5a7a7219",
   "metadata": {},
   "outputs": [
    {
     "data": {
      "text/plain": [
       "0.03917205449902489"
      ]
     },
     "execution_count": 102,
     "metadata": {},
     "output_type": "execute_result"
    }
   ],
   "source": [
    "f.sf(estatistica_teste_f, n_numerador-1, n_denominador-1)"
   ]
  },
  {
   "cell_type": "markdown",
   "id": "77e6a64a",
   "metadata": {},
   "source": [
    "Calculando o valor crítico da distribuição F para um nível de significância de 5%.\n",
    "\n",
    "Dado que temos a área de 5%, qual o valor crítico? Precisamos usar a inversa"
   ]
  },
  {
   "cell_type": "code",
   "execution_count": 103,
   "id": "6c8ab7ad",
   "metadata": {},
   "outputs": [
    {
     "data": {
      "text/plain": [
       "0.05"
      ]
     },
     "execution_count": 103,
     "metadata": {},
     "output_type": "execute_result"
    }
   ],
   "source": [
    "alpha5 = 0.05\n",
    "alpha5"
   ]
  },
  {
   "cell_type": "code",
   "execution_count": 104,
   "id": "a2ac1876",
   "metadata": {},
   "outputs": [
    {
     "data": {
      "text/plain": [
       "2.576927084472978"
      ]
     },
     "execution_count": 104,
     "metadata": {},
     "output_type": "execute_result"
    }
   ],
   "source": [
    "valor_critico_dist_f_5 = f.isf(alpha5, n_numerador-1, n_denominador-1)\n",
    "valor_critico_dist_f_5"
   ]
  },
  {
   "cell_type": "markdown",
   "id": "b404bf8d",
   "metadata": {},
   "source": [
    "Calculando o valor crítico da distribuição F para um nível de significância de 10%.\n",
    "\n",
    "Dado que temos a área de 10%, qual o valor crítico? Precisamos usar a inversa"
   ]
  },
  {
   "cell_type": "code",
   "execution_count": 105,
   "id": "7ffef652",
   "metadata": {},
   "outputs": [
    {
     "data": {
      "text/plain": [
       "0.1"
      ]
     },
     "execution_count": 105,
     "metadata": {},
     "output_type": "execute_result"
    }
   ],
   "source": [
    "alpha10 = 0.1\n",
    "alpha10"
   ]
  },
  {
   "cell_type": "code",
   "execution_count": 106,
   "id": "d4ce5063",
   "metadata": {},
   "outputs": [
    {
     "data": {
      "text/plain": [
       "2.080185087654393"
      ]
     },
     "execution_count": 106,
     "metadata": {},
     "output_type": "execute_result"
    }
   ],
   "source": [
    "valor_critico_dist_f_10 = f.isf(alpha10, n_numerador-1, n_denominador-1)\n",
    "valor_critico_dist_f_10"
   ]
  },
  {
   "cell_type": "markdown",
   "id": "22bccc2b",
   "metadata": {},
   "source": [
    "Calculando o valor crítico da distribuição F para um nível de significância de 1%.\n",
    "\n",
    "Dado que temos a área de 1%, qual o valor crítico? Precisamos usar a inversa"
   ]
  },
  {
   "cell_type": "code",
   "execution_count": 107,
   "id": "b18ed684",
   "metadata": {},
   "outputs": [
    {
     "data": {
      "text/plain": [
       "0.01"
      ]
     },
     "execution_count": 107,
     "metadata": {},
     "output_type": "execute_result"
    }
   ],
   "source": [
    "alpha1 = 0.01\n",
    "alpha1"
   ]
  },
  {
   "cell_type": "code",
   "execution_count": 108,
   "id": "1db7f3d7",
   "metadata": {},
   "outputs": [
    {
     "data": {
      "text/plain": [
       "3.9052043579347204"
      ]
     },
     "execution_count": 108,
     "metadata": {},
     "output_type": "execute_result"
    }
   ],
   "source": [
    "valor_critico_dist_f_1 = f.isf(alpha1, n_numerador-1, n_denominador-1)\n",
    "valor_critico_dist_f_1"
   ]
  },
  {
   "cell_type": "markdown",
   "id": "9b991765",
   "metadata": {},
   "source": [
    "**Conclusão:** Para os níveis de significância 5% e 10%, rejeitamos H0, pois estatística de teste é maior que o valor crítico para esses níveis de significância. Além disso, p_valor da estatística de teste é menor que esses níveis de significância. Ou seja, para os níveis de significância 5% e 10%, a variabilidade na quantidade de chuva é estatisticamente maior em A do que em B.\n",
    "\n",
    "Por outro lado, para o nível de significância de 1%, não rejeitamos H0, pois a estatístca de teste é menor que o valor crítico para esse nível de significância. Além disso, p_valor da estatística de teste é maior que 1%."
   ]
  },
  {
   "cell_type": "markdown",
   "id": "b40e75fa",
   "metadata": {},
   "source": [
    "-------------------------------------------------------------------------------------------------------------------------------"
   ]
  },
  {
   "cell_type": "markdown",
   "id": "e931cf96",
   "metadata": {},
   "source": [
    "**9)** (Fonte: Fávero e Belfiore, 2017, Cap. 7) Deseja-se comparar o tempo médio de espera\n",
    "para atendimento (min) em 2 hospitais. Para isso, coletou-se uma amostra com 20\n",
    "pacientes em cada hospital. Verifique se há diferenças entre os tempos médios de espera\n",
    "nos dois hospitais. Considere α = 1%.\n",
    "Adicionalmente, calcule os intervalos de confiança para o tempo médio de espera nos \n",
    "dois hospitais.\n",
    "\n",
    "Estamos frente a um teste t para comparação de médias para duas amostras independentes\n",
    "\n",
    "Queremos testar:\n",
    "\n",
    "H0: não há diferença entre os tempos médios de espera\n",
    "\n",
    "H1: há diferença entre os tempos médios de espera\n",
    "\n",
    "Logo, é um teste bicaudal"
   ]
  },
  {
   "cell_type": "code",
   "execution_count": 109,
   "id": "4e85dfa4",
   "metadata": {},
   "outputs": [
    {
     "data": {
      "text/html": [
       "<div>\n",
       "<style scoped>\n",
       "    .dataframe tbody tr th:only-of-type {\n",
       "        vertical-align: middle;\n",
       "    }\n",
       "\n",
       "    .dataframe tbody tr th {\n",
       "        vertical-align: top;\n",
       "    }\n",
       "\n",
       "    .dataframe thead th {\n",
       "        text-align: right;\n",
       "    }\n",
       "</style>\n",
       "<table border=\"1\" class=\"dataframe\">\n",
       "  <thead>\n",
       "    <tr style=\"text-align: right;\">\n",
       "      <th></th>\n",
       "      <th>Hospital 1</th>\n",
       "      <th>Hospital 2</th>\n",
       "    </tr>\n",
       "  </thead>\n",
       "  <tbody>\n",
       "    <tr>\n",
       "      <th>0</th>\n",
       "      <td>72</td>\n",
       "      <td>66</td>\n",
       "    </tr>\n",
       "    <tr>\n",
       "      <th>1</th>\n",
       "      <td>58</td>\n",
       "      <td>40</td>\n",
       "    </tr>\n",
       "    <tr>\n",
       "      <th>2</th>\n",
       "      <td>91</td>\n",
       "      <td>55</td>\n",
       "    </tr>\n",
       "    <tr>\n",
       "      <th>3</th>\n",
       "      <td>88</td>\n",
       "      <td>70</td>\n",
       "    </tr>\n",
       "    <tr>\n",
       "      <th>4</th>\n",
       "      <td>70</td>\n",
       "      <td>76</td>\n",
       "    </tr>\n",
       "    <tr>\n",
       "      <th>5</th>\n",
       "      <td>76</td>\n",
       "      <td>61</td>\n",
       "    </tr>\n",
       "    <tr>\n",
       "      <th>6</th>\n",
       "      <td>98</td>\n",
       "      <td>53</td>\n",
       "    </tr>\n",
       "    <tr>\n",
       "      <th>7</th>\n",
       "      <td>101</td>\n",
       "      <td>50</td>\n",
       "    </tr>\n",
       "    <tr>\n",
       "      <th>8</th>\n",
       "      <td>65</td>\n",
       "      <td>47</td>\n",
       "    </tr>\n",
       "    <tr>\n",
       "      <th>9</th>\n",
       "      <td>73</td>\n",
       "      <td>61</td>\n",
       "    </tr>\n",
       "    <tr>\n",
       "      <th>10</th>\n",
       "      <td>79</td>\n",
       "      <td>52</td>\n",
       "    </tr>\n",
       "    <tr>\n",
       "      <th>11</th>\n",
       "      <td>82</td>\n",
       "      <td>48</td>\n",
       "    </tr>\n",
       "    <tr>\n",
       "      <th>12</th>\n",
       "      <td>80</td>\n",
       "      <td>60</td>\n",
       "    </tr>\n",
       "    <tr>\n",
       "      <th>13</th>\n",
       "      <td>91</td>\n",
       "      <td>72</td>\n",
       "    </tr>\n",
       "    <tr>\n",
       "      <th>14</th>\n",
       "      <td>93</td>\n",
       "      <td>57</td>\n",
       "    </tr>\n",
       "    <tr>\n",
       "      <th>15</th>\n",
       "      <td>88</td>\n",
       "      <td>70</td>\n",
       "    </tr>\n",
       "    <tr>\n",
       "      <th>16</th>\n",
       "      <td>97</td>\n",
       "      <td>66</td>\n",
       "    </tr>\n",
       "    <tr>\n",
       "      <th>17</th>\n",
       "      <td>83</td>\n",
       "      <td>55</td>\n",
       "    </tr>\n",
       "    <tr>\n",
       "      <th>18</th>\n",
       "      <td>71</td>\n",
       "      <td>46</td>\n",
       "    </tr>\n",
       "    <tr>\n",
       "      <th>19</th>\n",
       "      <td>74</td>\n",
       "      <td>51</td>\n",
       "    </tr>\n",
       "  </tbody>\n",
       "</table>\n",
       "</div>"
      ],
      "text/plain": [
       "    Hospital 1  Hospital 2\n",
       "0           72          66\n",
       "1           58          40\n",
       "2           91          55\n",
       "3           88          70\n",
       "4           70          76\n",
       "5           76          61\n",
       "6           98          53\n",
       "7          101          50\n",
       "8           65          47\n",
       "9           73          61\n",
       "10          79          52\n",
       "11          82          48\n",
       "12          80          60\n",
       "13          91          72\n",
       "14          93          57\n",
       "15          88          70\n",
       "16          97          66\n",
       "17          83          55\n",
       "18          71          46\n",
       "19          74          51"
      ]
     },
     "execution_count": 109,
     "metadata": {},
     "output_type": "execute_result"
    }
   ],
   "source": [
    "df = pd.DataFrame({'Hospital 1': [72, 58, 91, 88, 70, 76, 98, 101, 65, 73, 79, 82, 80, 91, 93, 88, 97, 83, 71, 74],\n",
    "                   'Hospital 2': [66, 40, 55, 70, 76, 61, 53, 50, 47, 61, 52, 48, 60, 72, 57, 70, 66, 55, 46, 51]})\n",
    "df"
   ]
  },
  {
   "cell_type": "markdown",
   "id": "86ec575d",
   "metadata": {},
   "source": [
    "Para comparar as médias de duas amostras independentes de uma mesma população por meio do teste t, antes é necessário comparar as variâncias populacionais dos dois grupos, ou seja, fazemos um teste F para comparação das variâncias.\n",
    "\n",
    "Isso é necessário, pois o cálculo da estatística t e graus de liberdade para esse caso dependem se as variâncias populacionais são estatisticamente diferentes ou se são estatisticamente homogêneas.\n",
    "\n",
    "H0: as variâncias são estatisticamente homogêneas\n",
    "\n",
    "H1: as variâncias são estatisticamente diferentes"
   ]
  },
  {
   "cell_type": "markdown",
   "id": "d87a616a",
   "metadata": {},
   "source": [
    "Portanto, fazendo o teste F para comparação das variâncias primeiro"
   ]
  },
  {
   "cell_type": "markdown",
   "id": "e1cb9010",
   "metadata": {},
   "source": [
    "**Fazendo manualmente**"
   ]
  },
  {
   "cell_type": "code",
   "execution_count": 110,
   "id": "c7f82407",
   "metadata": {},
   "outputs": [
    {
     "data": {
      "text/plain": [
       "137.73684210526315"
      ]
     },
     "execution_count": 110,
     "metadata": {},
     "output_type": "execute_result"
    }
   ],
   "source": [
    "variancia_hospital_1 = df['Hospital 1'].var()\n",
    "variancia_hospital_1"
   ]
  },
  {
   "cell_type": "code",
   "execution_count": 111,
   "id": "b65d3505",
   "metadata": {},
   "outputs": [
    {
     "data": {
      "text/plain": [
       "96.8"
      ]
     },
     "execution_count": 111,
     "metadata": {},
     "output_type": "execute_result"
    }
   ],
   "source": [
    "variancia_hospital_2 = df['Hospital 2'].var()\n",
    "variancia_hospital_2"
   ]
  },
  {
   "cell_type": "code",
   "execution_count": 112,
   "id": "5b08d28d",
   "metadata": {},
   "outputs": [
    {
     "data": {
      "text/plain": [
       "1.4229012614180079"
      ]
     },
     "execution_count": 112,
     "metadata": {},
     "output_type": "execute_result"
    }
   ],
   "source": [
    "estatistica_teste_f = variancia_hospital_1/variancia_hospital_2\n",
    "estatistica_teste_f"
   ]
  },
  {
   "cell_type": "markdown",
   "id": "47fe37b1",
   "metadata": {},
   "source": [
    "Calculando o p-valor que nada mais é do que a probabilidade associada a estatística de teste calculada. Levando em conta n-1 graus de liberdade no numerador e n-1 graus de liberdade no denominador"
   ]
  },
  {
   "cell_type": "code",
   "execution_count": 113,
   "id": "c09b68f1",
   "metadata": {},
   "outputs": [
    {
     "data": {
      "text/plain": [
       "20"
      ]
     },
     "execution_count": 113,
     "metadata": {},
     "output_type": "execute_result"
    }
   ],
   "source": [
    "n_numerador = df['Hospital 1'].count()\n",
    "n_numerador"
   ]
  },
  {
   "cell_type": "code",
   "execution_count": 114,
   "id": "b443c3fd",
   "metadata": {},
   "outputs": [
    {
     "data": {
      "text/plain": [
       "20"
      ]
     },
     "execution_count": 114,
     "metadata": {},
     "output_type": "execute_result"
    }
   ],
   "source": [
    "n_denominador = df['Hospital 2'].count()\n",
    "n_denominador"
   ]
  },
  {
   "cell_type": "code",
   "execution_count": 115,
   "id": "829f734c",
   "metadata": {},
   "outputs": [
    {
     "data": {
      "text/plain": [
       "0.22460949688391607"
      ]
     },
     "execution_count": 115,
     "metadata": {},
     "output_type": "execute_result"
    }
   ],
   "source": [
    "p_valor = 1 - f.cdf(estatistica_teste_f, n_numerador-1, n_denominador-1)\n",
    "p_valor"
   ]
  },
  {
   "cell_type": "markdown",
   "id": "ec1998f8",
   "metadata": {},
   "source": [
    "Poderíamos usar, ao invés da cdf, a sf"
   ]
  },
  {
   "cell_type": "code",
   "execution_count": 116,
   "id": "97b29e21",
   "metadata": {},
   "outputs": [
    {
     "data": {
      "text/plain": [
       "0.2246094968839159"
      ]
     },
     "execution_count": 116,
     "metadata": {},
     "output_type": "execute_result"
    }
   ],
   "source": [
    "f.sf(estatistica_teste_f, n_numerador-1, n_denominador-1)"
   ]
  },
  {
   "cell_type": "markdown",
   "id": "2610e112",
   "metadata": {},
   "source": [
    "Calculando o valor crítico da distribuição F para um nível de significância de 1%.\n",
    "\n",
    "Dado que temos a área de 1%, qual o valor crítico? Precisamos usar a inversa"
   ]
  },
  {
   "cell_type": "code",
   "execution_count": 117,
   "id": "db3733bf",
   "metadata": {},
   "outputs": [
    {
     "data": {
      "text/plain": [
       "0.01"
      ]
     },
     "execution_count": 117,
     "metadata": {},
     "output_type": "execute_result"
    }
   ],
   "source": [
    "alpha = 0.01\n",
    "alpha"
   ]
  },
  {
   "cell_type": "code",
   "execution_count": 118,
   "id": "55d3b5bd",
   "metadata": {},
   "outputs": [
    {
     "data": {
      "text/plain": [
       "3.027357882541575"
      ]
     },
     "execution_count": 118,
     "metadata": {},
     "output_type": "execute_result"
    }
   ],
   "source": [
    "valor_critico_dist_f = f.isf(alpha, n_numerador-1, n_denominador-1)\n",
    "valor_critico_dist_f"
   ]
  },
  {
   "cell_type": "markdown",
   "id": "6053f4e9",
   "metadata": {},
   "source": [
    "**Conclusão:** Para um nível de significância de 1%, não rejeitamos a hipótese nula. Pois, estatística de teste é menor que o valor crítico e, além disso, podemos ver que o p-valor é maior que o alpha. Logo, a estatística de teste está na região de não rejeição. Portanto, de fato, não rejeitamos a hipótese nula. Ou seja, concluímos que as variâncias são estatísticamente homogêneas."
   ]
  },
  {
   "cell_type": "markdown",
   "id": "5a0c578d",
   "metadata": {},
   "source": [
    "Portanto, dado que as variâncias são estatisticamente homogêneas, a estatística t para comparação de médias em duas amostras independentes vem da fórmula:\n",
    "\n",
    "# $$T = \\frac{X_1-X_2}{S_p\\sqrt{{\\frac{1}{n_1}}+{\\frac{1}{n_2}}}}$$\n",
    "\n",
    "Em que, \n",
    "\n",
    "# $$S_p = \\sqrt{{\\frac{(n_1-1)S_1^2+(n_2-1)S_2^2}{n_1+n_2-2}}}$$\n",
    "\n",
    "e os graus de liberdade são\n",
    "# $$n_1+n_2-2$$\n",
    "\n",
    "https://docs.scipy.org/doc/scipy/reference/generated/scipy.stats.t.html#scipy.stats.t"
   ]
  },
  {
   "cell_type": "markdown",
   "id": "629712c6",
   "metadata": {},
   "source": [
    "Calculando a estatística t"
   ]
  },
  {
   "cell_type": "code",
   "execution_count": 119,
   "id": "904058ab",
   "metadata": {},
   "outputs": [
    {
     "data": {
      "text/plain": [
       "81.5"
      ]
     },
     "execution_count": 119,
     "metadata": {},
     "output_type": "execute_result"
    }
   ],
   "source": [
    "x1 = df['Hospital 1'].mean()\n",
    "x1"
   ]
  },
  {
   "cell_type": "code",
   "execution_count": 120,
   "id": "0825c842",
   "metadata": {},
   "outputs": [
    {
     "data": {
      "text/plain": [
       "57.8"
      ]
     },
     "execution_count": 120,
     "metadata": {},
     "output_type": "execute_result"
    }
   ],
   "source": [
    "x2 = df['Hospital 2'].mean()\n",
    "x2"
   ]
  },
  {
   "cell_type": "code",
   "execution_count": 121,
   "id": "ae404675",
   "metadata": {},
   "outputs": [
    {
     "data": {
      "text/plain": [
       "538491.8757894736"
      ]
     },
     "execution_count": 121,
     "metadata": {},
     "output_type": "execute_result"
    }
   ],
   "source": [
    "sp_numerador = (n_numerador-1)*(variancia_hospital_1**2) + (n_denominador-1)*(variancia_hospital_2**2)\n",
    "sp_numerador"
   ]
  },
  {
   "cell_type": "code",
   "execution_count": 122,
   "id": "b730a3fc",
   "metadata": {},
   "outputs": [
    {
     "data": {
      "text/plain": [
       "10.829054485624845"
      ]
     },
     "execution_count": 122,
     "metadata": {},
     "output_type": "execute_result"
    }
   ],
   "source": [
    "sp = math.sqrt((((n_numerador-1)*(variancia_hospital_1)) + ((n_denominador-1)*(variancia_hospital_2)))/(n_numerador + n_denominador -2))\n",
    "sp"
   ]
  },
  {
   "cell_type": "code",
   "execution_count": 123,
   "id": "45c3eb29",
   "metadata": {},
   "outputs": [
    {
     "data": {
      "text/plain": [
       "6.92082403366596"
      ]
     },
     "execution_count": 123,
     "metadata": {},
     "output_type": "execute_result"
    }
   ],
   "source": [
    "estatistica_teste_t_medias = (x1 - x2)/(sp*math.sqrt((1/n_numerador)+(1/n_denominador)))\n",
    "estatistica_teste_t_medias"
   ]
  },
  {
   "cell_type": "markdown",
   "id": "6d405297",
   "metadata": {},
   "source": [
    "Calculando o p-valor que nada mais é do que a probabilidade associada a estatística de teste calculada. Levando em conta n + n - 2 graus de liberadade\n",
    "\n",
    "Como é um teste bicaudal, essa probabilidade deve ser dobrada"
   ]
  },
  {
   "cell_type": "code",
   "execution_count": 124,
   "id": "e7150d0c",
   "metadata": {},
   "outputs": [],
   "source": [
    "from scipy.stats import t"
   ]
  },
  {
   "cell_type": "code",
   "execution_count": 125,
   "id": "ff9e0410",
   "metadata": {},
   "outputs": [
    {
     "data": {
      "text/plain": [
       "3.147827642990819e-08"
      ]
     },
     "execution_count": 125,
     "metadata": {},
     "output_type": "execute_result"
    }
   ],
   "source": [
    "p_valor = (1 - t.cdf(estatistica_teste_t_medias, n_numerador+n_denominador-2))*2\n",
    "p_valor"
   ]
  },
  {
   "cell_type": "markdown",
   "id": "0703f3fc",
   "metadata": {},
   "source": [
    "Calculando o valor crítico da distribuição t para um nível de significância 1%"
   ]
  },
  {
   "cell_type": "code",
   "execution_count": 126,
   "id": "8a87d93d",
   "metadata": {},
   "outputs": [
    {
     "data": {
      "text/plain": [
       "2.7115576019130625"
      ]
     },
     "execution_count": 126,
     "metadata": {},
     "output_type": "execute_result"
    }
   ],
   "source": [
    "# Como é um teste bicaudal, fica alpha/2 de um lado e alpha/2 de outro\n",
    "\n",
    "valor_critico_t_medias = t.isf(0.005, n_numerador+n_denominador-2)\n",
    "valor_critico_t_medias"
   ]
  },
  {
   "cell_type": "markdown",
   "id": "4769f96b",
   "metadata": {},
   "source": [
    "**Conclusão**: ao nível de significância de 1%, rejeitamos H0. Note que estatística de teste é maior que o valor crítico e, além disso, também, o p valor é menor que 1%. Portanto, podemos concluir que os tempos médios de espera são estatísticamente diferentes nos dois hospitais."
   ]
  },
  {
   "cell_type": "markdown",
   "id": "a70534a3",
   "metadata": {},
   "source": [
    "**Calculando o intervalo de confiança**"
   ]
  },
  {
   "cell_type": "markdown",
   "id": "4dddc101",
   "metadata": {},
   "source": [
    "Calculando o valor crítico para um nível de significância de 1%, usando a t de Student, com n-1 graus de liberdade.\n",
    "\n",
    "Lembrando que precisamos usar os valores bicaudais"
   ]
  },
  {
   "cell_type": "code",
   "execution_count": 127,
   "id": "61c3d438",
   "metadata": {},
   "outputs": [
    {
     "data": {
      "text/plain": [
       "2.860934606449914"
      ]
     },
     "execution_count": 127,
     "metadata": {},
     "output_type": "execute_result"
    }
   ],
   "source": [
    "valor_critico_t = t.isf(0.01/2, 20-1)\n",
    "valor_critico_t"
   ]
  },
  {
   "cell_type": "markdown",
   "id": "cbbc5f3a",
   "metadata": {},
   "source": [
    "Hospital 1"
   ]
  },
  {
   "cell_type": "code",
   "execution_count": 128,
   "id": "ba3ef261",
   "metadata": {},
   "outputs": [
    {
     "data": {
      "text/plain": [
       "11.736134035757395"
      ]
     },
     "execution_count": 128,
     "metadata": {},
     "output_type": "execute_result"
    }
   ],
   "source": [
    "desvio_padrao_hospital_1 = math.sqrt(variancia_hospital_1)\n",
    "desvio_padrao_hospital_1"
   ]
  },
  {
   "cell_type": "code",
   "execution_count": 129,
   "id": "402fc664",
   "metadata": {},
   "outputs": [
    {
     "data": {
      "text/plain": [
       "(73.99210839145069, 89.00789160854931)"
      ]
     },
     "execution_count": 129,
     "metadata": {},
     "output_type": "execute_result"
    }
   ],
   "source": [
    "limite_inf_hospital_1 = x1 - valor_critico_t*(desvio_padrao_hospital_1/(math.sqrt(n_numerador)))\n",
    "limite_sup_hospital_1 = x1 + valor_critico_t*(desvio_padrao_hospital_1/(math.sqrt(n_numerador)))\n",
    "\n",
    "ic_hospital_1 = (limite_inf_hospital_1, limite_sup_hospital_1)\n",
    "ic_hospital_1"
   ]
  },
  {
   "cell_type": "markdown",
   "id": "13244019",
   "metadata": {},
   "source": [
    "Hospital 2"
   ]
  },
  {
   "cell_type": "code",
   "execution_count": 130,
   "id": "ab7bf6e4",
   "metadata": {},
   "outputs": [
    {
     "data": {
      "text/plain": [
       "9.838699100999074"
      ]
     },
     "execution_count": 130,
     "metadata": {},
     "output_type": "execute_result"
    }
   ],
   "source": [
    "desvio_padrao_hospital_2 = math.sqrt(variancia_hospital_2)\n",
    "desvio_padrao_hospital_2"
   ]
  },
  {
   "cell_type": "code",
   "execution_count": 131,
   "id": "f85c4b0a",
   "metadata": {},
   "outputs": [
    {
     "data": {
      "text/plain": [
       "(51.50594386581019, 64.09405613418981)"
      ]
     },
     "execution_count": 131,
     "metadata": {},
     "output_type": "execute_result"
    }
   ],
   "source": [
    "limite_inf_hospital_2 = x2 - valor_critico_t*(desvio_padrao_hospital_2/(math.sqrt(n_denominador)))\n",
    "limite_sup_hospital_2 = x2 + valor_critico_t*(desvio_padrao_hospital_2/(math.sqrt(n_denominador)))\n",
    "\n",
    "ic_hospital_2 = (limite_inf_hospital_2, limite_sup_hospital_2)\n",
    "ic_hospital_2"
   ]
  },
  {
   "cell_type": "markdown",
   "id": "b5b4ecf3",
   "metadata": {},
   "source": [
    "-------------------------------------------------------------------------------------------------------------------------------"
   ]
  },
  {
   "cell_type": "markdown",
   "id": "17fa78ad",
   "metadata": {},
   "source": [
    "**10)** (Fonte: Fávero e Belfiore, 2017, Cap. 7) Um fabricante de iogurtes desnatados afirma\n",
    "que a quantidade de calorias em cada pote é 60 cal. Para verificar se essa informação\n",
    "procede, uma amostra aleatória com 36 potes é coletada, observando-se que a quantidade\n",
    "média de calorias é de 65 cal com desvio-padrão 3,5. Aplique o teste adequado e verifique\n",
    "se a afirmação do fabricante é verdadeira, considerando o nível de significância de 5%.\n",
    "\n",
    "Estamos frente a um teste t para médias de uma amostra, pois o desvio padrão populacional não é conhecido, apenas o desvio padrão amostral.\n",
    "\n",
    "Queremos testar:\n",
    "\n",
    "H0: a quantidade de calorias em cada pote é 60 cal\n",
    "\n",
    "H1: a quantidade de calorias em cada pote é diferente de 60 cal"
   ]
  },
  {
   "cell_type": "markdown",
   "id": "bcbde5b0",
   "metadata": {},
   "source": [
    "**Fazendo manualmente**"
   ]
  },
  {
   "cell_type": "markdown",
   "id": "667ad6ce",
   "metadata": {},
   "source": [
    "Calculando a estatística de teste"
   ]
  },
  {
   "cell_type": "code",
   "execution_count": 132,
   "id": "4d793590",
   "metadata": {},
   "outputs": [
    {
     "data": {
      "text/plain": [
       "8.571428571428571"
      ]
     },
     "execution_count": 132,
     "metadata": {},
     "output_type": "execute_result"
    }
   ],
   "source": [
    "estatistica_teste_t = (65-60)/(3.5/math.sqrt(36))\n",
    "estatistica_teste_t"
   ]
  },
  {
   "cell_type": "markdown",
   "id": "6d5f3f22",
   "metadata": {},
   "source": [
    "Calculando o p-valor que nada mais é do que a probabilidade associada a estatística de teste calculada. Levando em conta n - 1 graus de liberadade.\n",
    "\n",
    "Como é um teste bicaudal, esta probabilidade deve ser dobrada."
   ]
  },
  {
   "cell_type": "code",
   "execution_count": 133,
   "id": "c30db5a4",
   "metadata": {},
   "outputs": [
    {
     "data": {
      "text/plain": [
       "4.0671310763684687e-10"
      ]
     },
     "execution_count": 133,
     "metadata": {},
     "output_type": "execute_result"
    }
   ],
   "source": [
    "p_valor = (1 - t.cdf(estatistica_teste_t, 36-1))*2\n",
    "p_valor"
   ]
  },
  {
   "cell_type": "markdown",
   "id": "e74b15e3",
   "metadata": {},
   "source": [
    "Calculando o valor crítico para um nível de significância de 5%. Lembrando que estamos num teste bicaudal"
   ]
  },
  {
   "cell_type": "code",
   "execution_count": 134,
   "id": "bd45ec75",
   "metadata": {},
   "outputs": [
    {
     "data": {
      "text/plain": [
       "2.030107928250343"
      ]
     },
     "execution_count": 134,
     "metadata": {},
     "output_type": "execute_result"
    }
   ],
   "source": [
    "valor_critico_t = t.isf(0.05/2, 36-1)\n",
    "valor_critico_t"
   ]
  },
  {
   "cell_type": "markdown",
   "id": "41fb4e67",
   "metadata": {},
   "source": [
    "**Conclusão:** Para um nível de significância de 5%, rejeitamos a hipótese nula. Como a estatística de teste é maior que o valor crítico, está na região de rejeição, logo rejeitamos a hipótese nula. Além disso, outra forma de concluirmos isso é notando que o p-valor é menor que alpha. Portanto, podemos concluir que a quantidade de calorias em cada pote é estatisticamente diferente de 60 cal."
   ]
  },
  {
   "cell_type": "markdown",
   "id": "e8eaf373",
   "metadata": {},
   "source": [
    "-------------------------------------------------------------------------------------------------------------------------------"
   ]
  },
  {
   "cell_type": "markdown",
   "id": "2a8da54c",
   "metadata": {},
   "source": [
    "**11)** Em uma indústria alimentícia, para a preparação de certo produto, a quantidade padrão\n",
    "de sal são 8g com desvio padrão igual a 1g. Na análise de uma amostra de 85 produtos,\n",
    "foi observada uma quantidade média de sal de 8,25g. Avalie se a quantidade observada\n",
    "na amostra pode ser considerada estatisticamente maior, ao nível de significância de 5%.\n",
    "\n",
    "Estamos frente a um teste Z para médias de uma amostra, pois temos desvio padrão conhecido.\n",
    "\n",
    "https://docs.scipy.org/doc/scipy/reference/generated/scipy.stats.norm.html#scipy.stats.norm\n",
    "\n",
    "Queremos testar:\n",
    "\n",
    "H0: as médias de sal são iguais\n",
    "\n",
    "H1: a média de sal atual é maior que a média de sal anterior\n",
    "\n",
    "Teste unilateral à direita."
   ]
  },
  {
   "cell_type": "markdown",
   "id": "8042a963",
   "metadata": {},
   "source": [
    "**Fazendo manualmente**"
   ]
  },
  {
   "cell_type": "markdown",
   "id": "449408d1",
   "metadata": {},
   "source": [
    "Calculando a estatística de teste"
   ]
  },
  {
   "cell_type": "code",
   "execution_count": 135,
   "id": "f2d0a5cf",
   "metadata": {},
   "outputs": [
    {
     "data": {
      "text/plain": [
       "2.3048861143232218"
      ]
     },
     "execution_count": 135,
     "metadata": {},
     "output_type": "execute_result"
    }
   ],
   "source": [
    "estatistica_teste_z = (8.25-8)/(1/math.sqrt(85))\n",
    "estatistica_teste_z"
   ]
  },
  {
   "cell_type": "markdown",
   "id": "120d5e44",
   "metadata": {},
   "source": [
    "Calculando o p-valor que nada mais é do que a probabilidade associada a estatística de teste calculada"
   ]
  },
  {
   "cell_type": "code",
   "execution_count": 136,
   "id": "daf4b0eb",
   "metadata": {},
   "outputs": [],
   "source": [
    "from scipy.stats import norm"
   ]
  },
  {
   "cell_type": "code",
   "execution_count": 137,
   "id": "828d79e7",
   "metadata": {},
   "outputs": [
    {
     "data": {
      "text/plain": [
       "0.01058647624307385"
      ]
     },
     "execution_count": 137,
     "metadata": {},
     "output_type": "execute_result"
    }
   ],
   "source": [
    "p_valor = 1 - norm.cdf(estatistica_teste_z)\n",
    "p_valor"
   ]
  },
  {
   "cell_type": "markdown",
   "id": "596800fd",
   "metadata": {},
   "source": [
    "Calculando o valor crítico para um nível de significância de 5%"
   ]
  },
  {
   "cell_type": "code",
   "execution_count": 138,
   "id": "f7d47a39",
   "metadata": {},
   "outputs": [
    {
     "data": {
      "text/plain": [
       "1.6448536269514729"
      ]
     },
     "execution_count": 138,
     "metadata": {},
     "output_type": "execute_result"
    }
   ],
   "source": [
    "valor_critico_dist_z = norm.isf(0.05)\n",
    "valor_critico_dist_z"
   ]
  },
  {
   "cell_type": "markdown",
   "id": "d0f36ab1",
   "metadata": {},
   "source": [
    "**Conclusão:** ao nível de significância de 5%, rejeitamos a hipótese nula. Pois, a estatística de teste é maior que o valor crítico para o nível de significância de 5%. Além disso, outra forma de concluirmos isso é observando que o p-valor é menor que alpha. Portanto, concluímos que a média de sal atual é estatisticamente maior que a média anterior."
   ]
  },
  {
   "cell_type": "markdown",
   "id": "dab9898f",
   "metadata": {},
   "source": [
    "-------------------------------------------------------------------------------------------------------------------------------"
   ]
  },
  {
   "cell_type": "markdown",
   "id": "307d1032",
   "metadata": {},
   "source": [
    "**12)** Em uma amostra de 425 medições, observou-se que o peso médio dos produtos que\n",
    "foram medidos é 226g, com desvio padrão de 10g. Estabeleça o intervalo de confiança\n",
    "para esta média, sabendo que o desvio padrão observado é exatamente seu valor histórico.\n",
    "Considere um nível de confiança de 95%"
   ]
  },
  {
   "cell_type": "markdown",
   "id": "6a006c23",
   "metadata": {},
   "source": [
    "**Fazendo manualmente**"
   ]
  },
  {
   "cell_type": "markdown",
   "id": "af80f23d",
   "metadata": {},
   "source": [
    "Calculando o valor crítico para um nível de significância de 5%, usando a normal padrão.\n",
    "\n",
    "Lembrando que precisamos usar os valores bicaudais"
   ]
  },
  {
   "cell_type": "code",
   "execution_count": 139,
   "id": "10be6e2f",
   "metadata": {},
   "outputs": [
    {
     "data": {
      "text/plain": [
       "1.9599639845400545"
      ]
     },
     "execution_count": 139,
     "metadata": {},
     "output_type": "execute_result"
    }
   ],
   "source": [
    "valor_critico_dist_z = norm.isf(0.05/2)\n",
    "valor_critico_dist_z"
   ]
  },
  {
   "cell_type": "code",
   "execution_count": 140,
   "id": "9d78d996",
   "metadata": {},
   "outputs": [
    {
     "data": {
      "text/plain": [
       "0.48507125007266594"
      ]
     },
     "execution_count": 140,
     "metadata": {},
     "output_type": "execute_result"
    }
   ],
   "source": [
    "erro_padrao = 10/math.sqrt(425)\n",
    "erro_padrao"
   ]
  },
  {
   "cell_type": "code",
   "execution_count": 141,
   "id": "cb0982bd",
   "metadata": {},
   "outputs": [
    {
     "data": {
      "text/plain": [
       "(225.04927781992174, 226.95072218007826)"
      ]
     },
     "execution_count": 141,
     "metadata": {},
     "output_type": "execute_result"
    }
   ],
   "source": [
    "limite_inferior = 226 - valor_critico_dist_z*erro_padrao\n",
    "limite_superior = 226 + valor_critico_dist_z*erro_padrao\n",
    "\n",
    "ic = (limite_inferior, limite_superior)\n",
    "ic"
   ]
  },
  {
   "cell_type": "markdown",
   "id": "376e5d3a",
   "metadata": {},
   "source": [
    "-------------------------------------------------------------------------------------------------------------------------------"
   ]
  },
  {
   "cell_type": "markdown",
   "id": "6e1ee0a0",
   "metadata": {},
   "source": [
    "**13)** (Fonte: Fávero e Belfiore, 2017, Cap. 7) O tempo médio de processamento de determinada tarefa em uma \n",
    "máquina tem sido de 18 minutos. Foram introduzidos novos conceitos para \n",
    "reduzir o tempo médio de processamento. Desta forma, após certo período, \n",
    "coletou-se uma amostra de 25 elementos, obtendo-se o tempo médio de \n",
    "16,808 minutos com desvio-padrão de 2,733 minutos. Verifique se esse \n",
    "resultado evidencia uma melhora no tempo médio de processamento. \n",
    "Considere α = 1%.\n",
    "\n",
    "Estamos frente a um teste t para médias de uma amostra.\n",
    "\n",
    "Queremos testar:\n",
    "\n",
    "H0: o tempo médio de processamento atual é igual ao histórico\n",
    "\n",
    "H1: o tempo médio de processamento atual é menor do que do histórico\n",
    "\n",
    "Teste unilateral à esquerda."
   ]
  },
  {
   "cell_type": "markdown",
   "id": "82d3f420",
   "metadata": {},
   "source": [
    "Calculando a estatística de teste"
   ]
  },
  {
   "cell_type": "code",
   "execution_count": 142,
   "id": "838d3917",
   "metadata": {},
   "outputs": [
    {
     "data": {
      "text/plain": [
       "-2.1807537504573733"
      ]
     },
     "execution_count": 142,
     "metadata": {},
     "output_type": "execute_result"
    }
   ],
   "source": [
    "estatistica_teste_t = (16.808 - 18)/(2.733/math.sqrt(25))\n",
    "estatistica_teste_t"
   ]
  },
  {
   "cell_type": "markdown",
   "id": "67db79b6",
   "metadata": {},
   "source": [
    "Calculando o p-valor que nada mais é do que a probabilidade associada à estatística de teste calculada.\n",
    "\n",
    "Lembrando que estamos lidando com um teste unilateral à esquerda."
   ]
  },
  {
   "cell_type": "code",
   "execution_count": 143,
   "id": "c2bb45d3",
   "metadata": {},
   "outputs": [
    {
     "data": {
      "text/plain": [
       "0.01961718370694039"
      ]
     },
     "execution_count": 143,
     "metadata": {},
     "output_type": "execute_result"
    }
   ],
   "source": [
    "p_valor = t.cdf(estatistica_teste_t, 25-1)\n",
    "p_valor"
   ]
  },
  {
   "cell_type": "markdown",
   "id": "4970124c",
   "metadata": {},
   "source": [
    "Calculando o valor crítico para o nível de significância de 1%, lembrando que estamos lidando com um teste unilateral à esquerda.\n",
    "\n",
    "Como queremos o valor crítico cuja área à esquerda é 1%, usamos o inverso da cdf que é a ppf. "
   ]
  },
  {
   "cell_type": "code",
   "execution_count": 144,
   "id": "387b8b5e",
   "metadata": {},
   "outputs": [
    {
     "data": {
      "text/plain": [
       "-2.4921594731575762"
      ]
     },
     "execution_count": 144,
     "metadata": {},
     "output_type": "execute_result"
    }
   ],
   "source": [
    "valor_critico_dist_t = t.ppf(0.01, 24)\n",
    "valor_critico_dist_t"
   ]
  },
  {
   "cell_type": "markdown",
   "id": "9a783861",
   "metadata": {},
   "source": [
    "**Conclusão:** ao nível de significância de 1%, não rejeitamos H0, pois a estatística de teste não está na região de rejeição.\n",
    "\n",
    "Podemos concluir também pelo p-valor. Como o p-valor é maior do que o alpha, não rejeitamos H0. Logo, o tempo médio de processamento atual é estatisticamente igual ao tempo médio de processamento histórico."
   ]
  },
  {
   "cell_type": "markdown",
   "id": "fbdb5a98",
   "metadata": {},
   "source": [
    "--------------------------------------------------------------------------------------------------------------------------------"
   ]
  },
  {
   "cell_type": "markdown",
   "id": "b1084664",
   "metadata": {},
   "source": [
    "**14)** Um fabricante de caixas de papelão deseja verificar se a quantidade \n",
    "de papelão que está sendo utilizada em cada caixa do tipo 1 está de acordo \n",
    "com seu padrão histórico, pois existem indícios de que o consumo aumentou. \n",
    "Historicamente, são utilizados, em média, 100 g de papelão em cada caixa e o \n",
    "desvio padrão é de 12g. Coletou-se uma amostra para verificar se a média \n",
    "atual é maior do que a média histórica.\n",
    "\n",
    "Estamos frente a um teste z para médias de uma amostra\n",
    "\n",
    "Queremos testar:\n",
    "\n",
    "H0: a média de papelão usada atualmente é igual a usada historicamente\n",
    "\n",
    "H1: a média de papelão usada atualmente é maior que a usada historicamente\n",
    "\n",
    "Teste unicaudal à direita"
   ]
  },
  {
   "cell_type": "code",
   "execution_count": 145,
   "id": "08622fd9",
   "metadata": {},
   "outputs": [
    {
     "data": {
      "text/html": [
       "<div>\n",
       "<style scoped>\n",
       "    .dataframe tbody tr th:only-of-type {\n",
       "        vertical-align: middle;\n",
       "    }\n",
       "\n",
       "    .dataframe tbody tr th {\n",
       "        vertical-align: top;\n",
       "    }\n",
       "\n",
       "    .dataframe thead th {\n",
       "        text-align: right;\n",
       "    }\n",
       "</style>\n",
       "<table border=\"1\" class=\"dataframe\">\n",
       "  <thead>\n",
       "    <tr style=\"text-align: right;\">\n",
       "      <th></th>\n",
       "      <th>quantidade (g)</th>\n",
       "    </tr>\n",
       "  </thead>\n",
       "  <tbody>\n",
       "    <tr>\n",
       "      <th>0</th>\n",
       "      <td>102</td>\n",
       "    </tr>\n",
       "    <tr>\n",
       "      <th>1</th>\n",
       "      <td>107</td>\n",
       "    </tr>\n",
       "    <tr>\n",
       "      <th>2</th>\n",
       "      <td>100</td>\n",
       "    </tr>\n",
       "    <tr>\n",
       "      <th>3</th>\n",
       "      <td>101</td>\n",
       "    </tr>\n",
       "    <tr>\n",
       "      <th>4</th>\n",
       "      <td>106</td>\n",
       "    </tr>\n",
       "    <tr>\n",
       "      <th>5</th>\n",
       "      <td>100</td>\n",
       "    </tr>\n",
       "    <tr>\n",
       "      <th>6</th>\n",
       "      <td>105</td>\n",
       "    </tr>\n",
       "    <tr>\n",
       "      <th>7</th>\n",
       "      <td>106</td>\n",
       "    </tr>\n",
       "    <tr>\n",
       "      <th>8</th>\n",
       "      <td>99</td>\n",
       "    </tr>\n",
       "    <tr>\n",
       "      <th>9</th>\n",
       "      <td>108</td>\n",
       "    </tr>\n",
       "    <tr>\n",
       "      <th>10</th>\n",
       "      <td>110</td>\n",
       "    </tr>\n",
       "    <tr>\n",
       "      <th>11</th>\n",
       "      <td>109</td>\n",
       "    </tr>\n",
       "    <tr>\n",
       "      <th>12</th>\n",
       "      <td>101</td>\n",
       "    </tr>\n",
       "    <tr>\n",
       "      <th>13</th>\n",
       "      <td>104</td>\n",
       "    </tr>\n",
       "    <tr>\n",
       "      <th>14</th>\n",
       "      <td>105</td>\n",
       "    </tr>\n",
       "    <tr>\n",
       "      <th>15</th>\n",
       "      <td>97</td>\n",
       "    </tr>\n",
       "    <tr>\n",
       "      <th>16</th>\n",
       "      <td>101</td>\n",
       "    </tr>\n",
       "    <tr>\n",
       "      <th>17</th>\n",
       "      <td>100</td>\n",
       "    </tr>\n",
       "    <tr>\n",
       "      <th>18</th>\n",
       "      <td>99</td>\n",
       "    </tr>\n",
       "    <tr>\n",
       "      <th>19</th>\n",
       "      <td>106</td>\n",
       "    </tr>\n",
       "    <tr>\n",
       "      <th>20</th>\n",
       "      <td>107</td>\n",
       "    </tr>\n",
       "    <tr>\n",
       "      <th>21</th>\n",
       "      <td>102</td>\n",
       "    </tr>\n",
       "    <tr>\n",
       "      <th>22</th>\n",
       "      <td>108</td>\n",
       "    </tr>\n",
       "    <tr>\n",
       "      <th>23</th>\n",
       "      <td>100</td>\n",
       "    </tr>\n",
       "    <tr>\n",
       "      <th>24</th>\n",
       "      <td>109</td>\n",
       "    </tr>\n",
       "    <tr>\n",
       "      <th>25</th>\n",
       "      <td>114</td>\n",
       "    </tr>\n",
       "    <tr>\n",
       "      <th>26</th>\n",
       "      <td>106</td>\n",
       "    </tr>\n",
       "    <tr>\n",
       "      <th>27</th>\n",
       "      <td>99</td>\n",
       "    </tr>\n",
       "    <tr>\n",
       "      <th>28</th>\n",
       "      <td>102</td>\n",
       "    </tr>\n",
       "    <tr>\n",
       "      <th>29</th>\n",
       "      <td>107</td>\n",
       "    </tr>\n",
       "    <tr>\n",
       "      <th>30</th>\n",
       "      <td>115</td>\n",
       "    </tr>\n",
       "    <tr>\n",
       "      <th>31</th>\n",
       "      <td>103</td>\n",
       "    </tr>\n",
       "    <tr>\n",
       "      <th>32</th>\n",
       "      <td>107</td>\n",
       "    </tr>\n",
       "    <tr>\n",
       "      <th>33</th>\n",
       "      <td>110</td>\n",
       "    </tr>\n",
       "    <tr>\n",
       "      <th>34</th>\n",
       "      <td>100</td>\n",
       "    </tr>\n",
       "    <tr>\n",
       "      <th>35</th>\n",
       "      <td>102</td>\n",
       "    </tr>\n",
       "    <tr>\n",
       "      <th>36</th>\n",
       "      <td>103</td>\n",
       "    </tr>\n",
       "    <tr>\n",
       "      <th>37</th>\n",
       "      <td>100</td>\n",
       "    </tr>\n",
       "    <tr>\n",
       "      <th>38</th>\n",
       "      <td>99</td>\n",
       "    </tr>\n",
       "    <tr>\n",
       "      <th>39</th>\n",
       "      <td>104</td>\n",
       "    </tr>\n",
       "  </tbody>\n",
       "</table>\n",
       "</div>"
      ],
      "text/plain": [
       "    quantidade (g)\n",
       "0              102\n",
       "1              107\n",
       "2              100\n",
       "3              101\n",
       "4              106\n",
       "5              100\n",
       "6              105\n",
       "7              106\n",
       "8               99\n",
       "9              108\n",
       "10             110\n",
       "11             109\n",
       "12             101\n",
       "13             104\n",
       "14             105\n",
       "15              97\n",
       "16             101\n",
       "17             100\n",
       "18              99\n",
       "19             106\n",
       "20             107\n",
       "21             102\n",
       "22             108\n",
       "23             100\n",
       "24             109\n",
       "25             114\n",
       "26             106\n",
       "27              99\n",
       "28             102\n",
       "29             107\n",
       "30             115\n",
       "31             103\n",
       "32             107\n",
       "33             110\n",
       "34             100\n",
       "35             102\n",
       "36             103\n",
       "37             100\n",
       "38              99\n",
       "39             104"
      ]
     },
     "execution_count": 145,
     "metadata": {},
     "output_type": "execute_result"
    }
   ],
   "source": [
    "q = [102,107,100,101,106,100,105,106,99,108,110,109,101,104,105,97,101,100,99,106,\n",
    "     107,102,108,100,109,114,106,99,102,107,115,103,107,110,100,102,103,100,99,104]\n",
    "df = pd.DataFrame({'quantidade (g)': q})\n",
    "df"
   ]
  },
  {
   "cell_type": "markdown",
   "id": "8685e73e",
   "metadata": {},
   "source": [
    "Calculando a estatística de teste"
   ]
  },
  {
   "cell_type": "code",
   "execution_count": 146,
   "id": "d7a8a743",
   "metadata": {},
   "outputs": [
    {
     "data": {
      "text/plain": [
       "104.075"
      ]
     },
     "execution_count": 146,
     "metadata": {},
     "output_type": "execute_result"
    }
   ],
   "source": [
    "media_amostral = df['quantidade (g)'].mean()\n",
    "media_amostral"
   ]
  },
  {
   "cell_type": "code",
   "execution_count": 147,
   "id": "ad034064",
   "metadata": {},
   "outputs": [
    {
     "data": {
      "text/plain": [
       "100"
      ]
     },
     "execution_count": 147,
     "metadata": {},
     "output_type": "execute_result"
    }
   ],
   "source": [
    "media_populacional = 100\n",
    "media_populacional"
   ]
  },
  {
   "cell_type": "code",
   "execution_count": 148,
   "id": "0547f2dd",
   "metadata": {},
   "outputs": [
    {
     "data": {
      "text/plain": [
       "12"
      ]
     },
     "execution_count": 148,
     "metadata": {},
     "output_type": "execute_result"
    }
   ],
   "source": [
    "desvio_padrao = 12\n",
    "desvio_padrao"
   ]
  },
  {
   "cell_type": "code",
   "execution_count": 149,
   "id": "7d0e4a89",
   "metadata": {},
   "outputs": [
    {
     "data": {
      "text/plain": [
       "40"
      ]
     },
     "execution_count": 149,
     "metadata": {},
     "output_type": "execute_result"
    }
   ],
   "source": [
    "n = df['quantidade (g)'].count()\n",
    "n"
   ]
  },
  {
   "cell_type": "code",
   "execution_count": 150,
   "id": "207fe1c2",
   "metadata": {},
   "outputs": [
    {
     "data": {
      "text/plain": [
       "2.1477135775310257"
      ]
     },
     "execution_count": 150,
     "metadata": {},
     "output_type": "execute_result"
    }
   ],
   "source": [
    "estatistica_teste_z = (media_amostral - media_populacional)/(desvio_padrao/math.sqrt(n))\n",
    "estatistica_teste_z"
   ]
  },
  {
   "cell_type": "markdown",
   "id": "6efb65e7",
   "metadata": {},
   "source": [
    "Calculando o p-valor, que nada mais é que a probabilidade associada à estatística de teste calculada."
   ]
  },
  {
   "cell_type": "code",
   "execution_count": 151,
   "id": "a6f711f4",
   "metadata": {},
   "outputs": [
    {
     "data": {
      "text/plain": [
       "0.01586825804401104"
      ]
     },
     "execution_count": 151,
     "metadata": {},
     "output_type": "execute_result"
    }
   ],
   "source": [
    "p_valor = 1 - norm.cdf(estatistica_teste_z)\n",
    "p_valor"
   ]
  },
  {
   "cell_type": "markdown",
   "id": "fe4af697",
   "metadata": {},
   "source": [
    "Calculando o valor crítico para um nível de significância de 5%.\n",
    "\n",
    "Estamos num teste unilateral à direita."
   ]
  },
  {
   "cell_type": "code",
   "execution_count": 152,
   "id": "84988307",
   "metadata": {},
   "outputs": [
    {
     "data": {
      "text/plain": [
       "1.6448536269514729"
      ]
     },
     "execution_count": 152,
     "metadata": {},
     "output_type": "execute_result"
    }
   ],
   "source": [
    "valor_critico_dist_z = norm.isf(0.05)\n",
    "valor_critico_dist_z"
   ]
  },
  {
   "cell_type": "markdown",
   "id": "482844df",
   "metadata": {},
   "source": [
    "**Conclusão:** a um nível de significância de 5%, rejeitamos a hipótese nula, pois como a estatística de teste é maior que o valor crítico para o nível de significância de 5%, a estatística de teste está na região de rejeição. Além disso, podemos concluir isso também pelo fato do p-valor ser menor que o alpha.\n",
    "\n",
    "Logo, concluímos que a média de papelão usada atualmente é estatisticamente maior que a usada historicamente"
   ]
  },
  {
   "cell_type": "markdown",
   "id": "2d143cf6",
   "metadata": {},
   "source": [
    "-------------------------------------------------------------------------------------------------------------------------------"
   ]
  },
  {
   "cell_type": "markdown",
   "id": "ef33acf0",
   "metadata": {},
   "source": [
    "**15)** O coordenador de um curso deseja analisar se existe correlação \n",
    "entre as notas dos alunos em diferentes matérias. Para tanto, montou um \n",
    "banco de dados com as notas de 30 alunos para as disciplinas de matemática, \n",
    "física e literatura. Em seguida, deseja calcular os pares de correlações entre as \n",
    "notas de matemática – física, matemática – literatura e física – literatura. O objetivo é avaliar se as correlações obtidas para as amostras de notas são significantes. O coordenador utilizou o nível de significância de 5% para suas análises.\n",
    "\n",
    "Estamos frente a um teste t para correlações\n",
    "\n",
    "Precisamos testar se o coeficiente de correlação é estatisticamente diferente de zero. Teste bilateral.\n",
    "\n",
    "H0: a correlação é igual a zero\n",
    "\n",
    "H1: a correlação é diferente de zero"
   ]
  },
  {
   "cell_type": "code",
   "execution_count": 153,
   "id": "82f49cc3",
   "metadata": {},
   "outputs": [
    {
     "data": {
      "text/html": [
       "<div>\n",
       "<style scoped>\n",
       "    .dataframe tbody tr th:only-of-type {\n",
       "        vertical-align: middle;\n",
       "    }\n",
       "\n",
       "    .dataframe tbody tr th {\n",
       "        vertical-align: top;\n",
       "    }\n",
       "\n",
       "    .dataframe thead th {\n",
       "        text-align: right;\n",
       "    }\n",
       "</style>\n",
       "<table border=\"1\" class=\"dataframe\">\n",
       "  <thead>\n",
       "    <tr style=\"text-align: right;\">\n",
       "      <th></th>\n",
       "      <th>matematica</th>\n",
       "      <th>fisica</th>\n",
       "      <th>literatura</th>\n",
       "    </tr>\n",
       "  </thead>\n",
       "  <tbody>\n",
       "    <tr>\n",
       "      <th>0</th>\n",
       "      <td>5.50</td>\n",
       "      <td>7.5</td>\n",
       "      <td>9.0</td>\n",
       "    </tr>\n",
       "    <tr>\n",
       "      <th>1</th>\n",
       "      <td>9.00</td>\n",
       "      <td>8.5</td>\n",
       "      <td>5.5</td>\n",
       "    </tr>\n",
       "    <tr>\n",
       "      <th>2</th>\n",
       "      <td>4.50</td>\n",
       "      <td>5.0</td>\n",
       "      <td>6.5</td>\n",
       "    </tr>\n",
       "    <tr>\n",
       "      <th>3</th>\n",
       "      <td>6.50</td>\n",
       "      <td>8.0</td>\n",
       "      <td>6.5</td>\n",
       "    </tr>\n",
       "    <tr>\n",
       "      <th>4</th>\n",
       "      <td>7.50</td>\n",
       "      <td>6.0</td>\n",
       "      <td>5.0</td>\n",
       "    </tr>\n",
       "    <tr>\n",
       "      <th>5</th>\n",
       "      <td>3.00</td>\n",
       "      <td>6.0</td>\n",
       "      <td>10.0</td>\n",
       "    </tr>\n",
       "    <tr>\n",
       "      <th>6</th>\n",
       "      <td>10.00</td>\n",
       "      <td>8.0</td>\n",
       "      <td>5.5</td>\n",
       "    </tr>\n",
       "    <tr>\n",
       "      <th>7</th>\n",
       "      <td>9.00</td>\n",
       "      <td>8.0</td>\n",
       "      <td>6.5</td>\n",
       "    </tr>\n",
       "    <tr>\n",
       "      <th>8</th>\n",
       "      <td>4.50</td>\n",
       "      <td>5.5</td>\n",
       "      <td>8.0</td>\n",
       "    </tr>\n",
       "    <tr>\n",
       "      <th>9</th>\n",
       "      <td>5.00</td>\n",
       "      <td>5.0</td>\n",
       "      <td>5.5</td>\n",
       "    </tr>\n",
       "    <tr>\n",
       "      <th>10</th>\n",
       "      <td>3.50</td>\n",
       "      <td>5.0</td>\n",
       "      <td>7.5</td>\n",
       "    </tr>\n",
       "    <tr>\n",
       "      <th>11</th>\n",
       "      <td>7.50</td>\n",
       "      <td>9.0</td>\n",
       "      <td>4.5</td>\n",
       "    </tr>\n",
       "    <tr>\n",
       "      <th>12</th>\n",
       "      <td>6.50</td>\n",
       "      <td>7.5</td>\n",
       "      <td>8.5</td>\n",
       "    </tr>\n",
       "    <tr>\n",
       "      <th>13</th>\n",
       "      <td>8.00</td>\n",
       "      <td>9.0</td>\n",
       "      <td>5.0</td>\n",
       "    </tr>\n",
       "    <tr>\n",
       "      <th>14</th>\n",
       "      <td>4.00</td>\n",
       "      <td>5.0</td>\n",
       "      <td>6.5</td>\n",
       "    </tr>\n",
       "    <tr>\n",
       "      <th>15</th>\n",
       "      <td>7.00</td>\n",
       "      <td>6.0</td>\n",
       "      <td>8.5</td>\n",
       "    </tr>\n",
       "    <tr>\n",
       "      <th>16</th>\n",
       "      <td>7.50</td>\n",
       "      <td>7.5</td>\n",
       "      <td>6.0</td>\n",
       "    </tr>\n",
       "    <tr>\n",
       "      <th>17</th>\n",
       "      <td>6.00</td>\n",
       "      <td>9.0</td>\n",
       "      <td>3.0</td>\n",
       "    </tr>\n",
       "    <tr>\n",
       "      <th>18</th>\n",
       "      <td>10.00</td>\n",
       "      <td>7.5</td>\n",
       "      <td>5.0</td>\n",
       "    </tr>\n",
       "    <tr>\n",
       "      <th>19</th>\n",
       "      <td>9.00</td>\n",
       "      <td>10.0</td>\n",
       "      <td>5.5</td>\n",
       "    </tr>\n",
       "    <tr>\n",
       "      <th>20</th>\n",
       "      <td>8.00</td>\n",
       "      <td>9.0</td>\n",
       "      <td>9.0</td>\n",
       "    </tr>\n",
       "    <tr>\n",
       "      <th>21</th>\n",
       "      <td>5.00</td>\n",
       "      <td>5.0</td>\n",
       "      <td>5.0</td>\n",
       "    </tr>\n",
       "    <tr>\n",
       "      <th>22</th>\n",
       "      <td>4.00</td>\n",
       "      <td>3.0</td>\n",
       "      <td>7.5</td>\n",
       "    </tr>\n",
       "    <tr>\n",
       "      <th>23</th>\n",
       "      <td>9.50</td>\n",
       "      <td>8.0</td>\n",
       "      <td>8.5</td>\n",
       "    </tr>\n",
       "    <tr>\n",
       "      <th>24</th>\n",
       "      <td>6.50</td>\n",
       "      <td>7.0</td>\n",
       "      <td>4.5</td>\n",
       "    </tr>\n",
       "    <tr>\n",
       "      <th>25</th>\n",
       "      <td>7.00</td>\n",
       "      <td>7.5</td>\n",
       "      <td>8.0</td>\n",
       "    </tr>\n",
       "    <tr>\n",
       "      <th>26</th>\n",
       "      <td>5.00</td>\n",
       "      <td>4.5</td>\n",
       "      <td>9.0</td>\n",
       "    </tr>\n",
       "    <tr>\n",
       "      <th>27</th>\n",
       "      <td>6.50</td>\n",
       "      <td>8.0</td>\n",
       "      <td>5.0</td>\n",
       "    </tr>\n",
       "    <tr>\n",
       "      <th>28</th>\n",
       "      <td>8.50</td>\n",
       "      <td>6.0</td>\n",
       "      <td>6.0</td>\n",
       "    </tr>\n",
       "    <tr>\n",
       "      <th>29</th>\n",
       "      <td>9.75</td>\n",
       "      <td>5.0</td>\n",
       "      <td>6.5</td>\n",
       "    </tr>\n",
       "  </tbody>\n",
       "</table>\n",
       "</div>"
      ],
      "text/plain": [
       "    matematica  fisica  literatura\n",
       "0         5.50     7.5         9.0\n",
       "1         9.00     8.5         5.5\n",
       "2         4.50     5.0         6.5\n",
       "3         6.50     8.0         6.5\n",
       "4         7.50     6.0         5.0\n",
       "5         3.00     6.0        10.0\n",
       "6        10.00     8.0         5.5\n",
       "7         9.00     8.0         6.5\n",
       "8         4.50     5.5         8.0\n",
       "9         5.00     5.0         5.5\n",
       "10        3.50     5.0         7.5\n",
       "11        7.50     9.0         4.5\n",
       "12        6.50     7.5         8.5\n",
       "13        8.00     9.0         5.0\n",
       "14        4.00     5.0         6.5\n",
       "15        7.00     6.0         8.5\n",
       "16        7.50     7.5         6.0\n",
       "17        6.00     9.0         3.0\n",
       "18       10.00     7.5         5.0\n",
       "19        9.00    10.0         5.5\n",
       "20        8.00     9.0         9.0\n",
       "21        5.00     5.0         5.0\n",
       "22        4.00     3.0         7.5\n",
       "23        9.50     8.0         8.5\n",
       "24        6.50     7.0         4.5\n",
       "25        7.00     7.5         8.0\n",
       "26        5.00     4.5         9.0\n",
       "27        6.50     8.0         5.0\n",
       "28        8.50     6.0         6.0\n",
       "29        9.75     5.0         6.5"
      ]
     },
     "execution_count": 153,
     "metadata": {},
     "output_type": "execute_result"
    }
   ],
   "source": [
    "matematica = [5.50,9.00,4.50,6.50,7.50,3.00,10.00,9.00,4.50,5.00,3.50,7.50,6.50,8.00,4.00,\n",
    "              7.00,7.50,6.00,10.00,9.00,8.00,5.00,4.00,9.50,6.50,7.00,5.00,6.50,8.50,9.75]\n",
    "fisica = [7.50,8.50,5.00,8.00,6.00,6.00,8.00,8.00,5.50,5.00,5.00,9.00,7.50,9.00,5.00,6.00,\n",
    "          7.50,9.00,7.50,10.00,9.00,5.00,3.00,8.00,7.00,7.50,4.50,8.00,6.00,5.00]\n",
    "literatura = [9.00,5.50,6.50,6.50,5.00,10.00,5.50,6.50,8.00,5.50,7.50,4.50,8.50,5.00,6.50,\n",
    "              8.50,6.00,3.00,5.00,5.50,9.00,5.00,7.50,8.50,4.50,8.00,9.00,5.00,6.00,6.50]\n",
    "\n",
    "df = pd.DataFrame({'matematica': matematica,\n",
    "                   'fisica': fisica,\n",
    "                   'literatura': literatura})\n",
    "df"
   ]
  },
  {
   "cell_type": "markdown",
   "id": "d3f6f0f4",
   "metadata": {},
   "source": [
    "Estimando os coeficientes de correlação entre as variáveis"
   ]
  },
  {
   "cell_type": "code",
   "execution_count": 154,
   "id": "ee5e5c6b",
   "metadata": {},
   "outputs": [
    {
     "data": {
      "text/html": [
       "<div>\n",
       "<style scoped>\n",
       "    .dataframe tbody tr th:only-of-type {\n",
       "        vertical-align: middle;\n",
       "    }\n",
       "\n",
       "    .dataframe tbody tr th {\n",
       "        vertical-align: top;\n",
       "    }\n",
       "\n",
       "    .dataframe thead th {\n",
       "        text-align: right;\n",
       "    }\n",
       "</style>\n",
       "<table border=\"1\" class=\"dataframe\">\n",
       "  <thead>\n",
       "    <tr style=\"text-align: right;\">\n",
       "      <th></th>\n",
       "      <th>matematica</th>\n",
       "      <th>fisica</th>\n",
       "      <th>literatura</th>\n",
       "    </tr>\n",
       "  </thead>\n",
       "  <tbody>\n",
       "    <tr>\n",
       "      <th>matematica</th>\n",
       "      <td>1.000000</td>\n",
       "      <td>0.602532</td>\n",
       "      <td>-0.308783</td>\n",
       "    </tr>\n",
       "    <tr>\n",
       "      <th>fisica</th>\n",
       "      <td>0.602532</td>\n",
       "      <td>1.000000</td>\n",
       "      <td>-0.289561</td>\n",
       "    </tr>\n",
       "    <tr>\n",
       "      <th>literatura</th>\n",
       "      <td>-0.308783</td>\n",
       "      <td>-0.289561</td>\n",
       "      <td>1.000000</td>\n",
       "    </tr>\n",
       "  </tbody>\n",
       "</table>\n",
       "</div>"
      ],
      "text/plain": [
       "            matematica    fisica  literatura\n",
       "matematica    1.000000  0.602532   -0.308783\n",
       "fisica        0.602532  1.000000   -0.289561\n",
       "literatura   -0.308783 -0.289561    1.000000"
      ]
     },
     "execution_count": 154,
     "metadata": {},
     "output_type": "execute_result"
    }
   ],
   "source": [
    "corr_disciplinas = df.corr()\n",
    "corr_disciplinas"
   ]
  },
  {
   "cell_type": "code",
   "execution_count": 155,
   "id": "8183f8ff",
   "metadata": {},
   "outputs": [
    {
     "data": {
      "text/plain": [
       "30"
      ]
     },
     "execution_count": 155,
     "metadata": {},
     "output_type": "execute_result"
    }
   ],
   "source": [
    "n = df.shape[0]\n",
    "n"
   ]
  },
  {
   "cell_type": "markdown",
   "id": "0919c107",
   "metadata": {},
   "source": [
    "**Matemática e física**"
   ]
  },
  {
   "cell_type": "code",
   "execution_count": 156,
   "id": "ce7f42d7",
   "metadata": {},
   "outputs": [
    {
     "data": {
      "text/plain": [
       "0.6025321124160095"
      ]
     },
     "execution_count": 156,
     "metadata": {},
     "output_type": "execute_result"
    }
   ],
   "source": [
    "matematica_fisica = corr_disciplinas.unstack()['matematica']['fisica']\n",
    "matematica_fisica"
   ]
  },
  {
   "cell_type": "markdown",
   "id": "0723c925",
   "metadata": {},
   "source": [
    "Calculando a estatística de teste"
   ]
  },
  {
   "cell_type": "code",
   "execution_count": 157,
   "id": "570c11e4",
   "metadata": {},
   "outputs": [
    {
     "data": {
      "text/plain": [
       "3.9948899481293094"
      ]
     },
     "execution_count": 157,
     "metadata": {},
     "output_type": "execute_result"
    }
   ],
   "source": [
    "estatistica_teste_t_m_f = matematica_fisica/(math.sqrt((1-(matematica_fisica**2))/(n-2)))\n",
    "estatistica_teste_t_m_f"
   ]
  },
  {
   "cell_type": "markdown",
   "id": "fa9c8b41",
   "metadata": {},
   "source": [
    "Calculando o p-valor que nada mais é do que a probabilidade associada a estatística de teste calculada. Levando em conta n-2 graus de liberdade.\n",
    "\n",
    "Como estamos realizando um teste bicaudal, essa probabilidade deve ser dobrada."
   ]
  },
  {
   "cell_type": "code",
   "execution_count": 158,
   "id": "024a2c4c",
   "metadata": {},
   "outputs": [
    {
     "data": {
      "text/plain": [
       "0.0004260030729539288"
      ]
     },
     "execution_count": 158,
     "metadata": {},
     "output_type": "execute_result"
    }
   ],
   "source": [
    "p_valor = (1 - t.cdf(estatistica_teste_t_m_f, n-2))*2\n",
    "p_valor"
   ]
  },
  {
   "cell_type": "markdown",
   "id": "5fd83df9",
   "metadata": {},
   "source": [
    "Calculando o valor crítico da distribuição para um nível de significância de 5%. Lembrando que estatamos num teste bicaudal."
   ]
  },
  {
   "cell_type": "code",
   "execution_count": 159,
   "id": "a13855e2",
   "metadata": {},
   "outputs": [
    {
     "data": {
      "text/plain": [
       "2.048407141795244"
      ]
     },
     "execution_count": 159,
     "metadata": {},
     "output_type": "execute_result"
    }
   ],
   "source": [
    "valor_critico_dist_t_corr = t.isf(0.05/2, n-2)\n",
    "valor_critico_dist_t_corr"
   ]
  },
  {
   "cell_type": "markdown",
   "id": "98ff89c6",
   "metadata": {},
   "source": [
    "**Conclusão:** ao nível de significância de 5%, rejeitamos a hipótese nula. Pois a estatística de teste calculada é maior que o valor crítico da distribuição para esse nível de significância, ou seja, a estística de teste está na região de rejeição. Outra forma de concluirmos isso é pelo fato de o p-valor ser menor que o alpha.\n",
    "\n",
    "Logo, podemos concluir que a correlação entre as notas de matemática e física é estatisticamente diferente de zero."
   ]
  },
  {
   "cell_type": "markdown",
   "id": "22837ce5",
   "metadata": {},
   "source": [
    "**Matemática e literatura**"
   ]
  },
  {
   "cell_type": "code",
   "execution_count": 160,
   "id": "0b9e9817",
   "metadata": {},
   "outputs": [
    {
     "data": {
      "text/plain": [
       "-0.30878277832686235"
      ]
     },
     "execution_count": 160,
     "metadata": {},
     "output_type": "execute_result"
    }
   ],
   "source": [
    "matematica_literatura = corr_disciplinas.unstack()['matematica']['literatura']\n",
    "matematica_literatura"
   ]
  },
  {
   "cell_type": "markdown",
   "id": "88812c7f",
   "metadata": {},
   "source": [
    "Calculando a estatística de teste"
   ]
  },
  {
   "cell_type": "code",
   "execution_count": 161,
   "id": "ea1cf790",
   "metadata": {},
   "outputs": [
    {
     "data": {
      "text/plain": [
       "-1.7178728870656619"
      ]
     },
     "execution_count": 161,
     "metadata": {},
     "output_type": "execute_result"
    }
   ],
   "source": [
    "estatistica_teste_t_m_l = matematica_literatura/(math.sqrt((1-(matematica_literatura**2))/(n-2)))\n",
    "estatistica_teste_t_m_l"
   ]
  },
  {
   "cell_type": "markdown",
   "id": "2ef02e38",
   "metadata": {},
   "source": [
    "Calculando o p-valor que nada mais é do que a probabilidade associada a estatística de teste calculada. Levando em conta n-2 graus de liberdade.\n",
    "\n",
    "Como estamos realizando um teste bicaudal, essa probabilidade deve ser dobrada."
   ]
  },
  {
   "cell_type": "code",
   "execution_count": 162,
   "id": "506cadfd",
   "metadata": {},
   "outputs": [
    {
     "data": {
      "text/plain": [
       "0.09686159239066"
      ]
     },
     "execution_count": 162,
     "metadata": {},
     "output_type": "execute_result"
    }
   ],
   "source": [
    "p_valor = (t.cdf(estatistica_teste_t_m_l, n-2))*2\n",
    "p_valor"
   ]
  },
  {
   "cell_type": "markdown",
   "id": "ce8ec7fc",
   "metadata": {},
   "source": [
    "Calculando o valor crítico da distribuição para um nível de significância de 5%."
   ]
  },
  {
   "cell_type": "code",
   "execution_count": 163,
   "id": "b92c4557",
   "metadata": {},
   "outputs": [
    {
     "data": {
      "text/plain": [
       "-2.048407141795244"
      ]
     },
     "execution_count": 163,
     "metadata": {},
     "output_type": "execute_result"
    }
   ],
   "source": [
    "valor_critico_dist_t_corr = t.ppf(0.05/2, n-2)\n",
    "valor_critico_dist_t_corr"
   ]
  },
  {
   "cell_type": "markdown",
   "id": "b3ba4efa",
   "metadata": {},
   "source": [
    "**Conclusão:** ao nível de significância de 5%, não rejeitamos a hipótese nula. Pois, a estatística de teste calculada é menor que o valor crítico da distribuição a esse nível de significância, ou seja, a estatística de teste está na região de não rejeição. Outra forma de concluirmos isso é pelo fato de o p-valor ser maior que o alpha.\n",
    "\n",
    "Logo, podemos concluir que a correlação entre as notas de matemática e literatura é estatisticamente igual a zero."
   ]
  },
  {
   "cell_type": "markdown",
   "id": "6455b1cf",
   "metadata": {},
   "source": [
    "**Física e literatura**"
   ]
  },
  {
   "cell_type": "code",
   "execution_count": 164,
   "id": "d5567d34",
   "metadata": {},
   "outputs": [
    {
     "data": {
      "text/plain": [
       "-0.28956102521926386"
      ]
     },
     "execution_count": 164,
     "metadata": {},
     "output_type": "execute_result"
    }
   ],
   "source": [
    "fisica_literatura = corr_disciplinas.unstack()['fisica']['literatura']\n",
    "fisica_literatura"
   ]
  },
  {
   "cell_type": "markdown",
   "id": "5209595c",
   "metadata": {},
   "source": [
    "Calculando a estatística de teste"
   ]
  },
  {
   "cell_type": "code",
   "execution_count": 165,
   "id": "b4c82b83",
   "metadata": {},
   "outputs": [
    {
     "data": {
      "text/plain": [
       "-1.6007915473354715"
      ]
     },
     "execution_count": 165,
     "metadata": {},
     "output_type": "execute_result"
    }
   ],
   "source": [
    "estatistica_teste_t_f_l = fisica_literatura/(math.sqrt((1-(fisica_literatura**2))/(n-2)))\n",
    "estatistica_teste_t_f_l"
   ]
  },
  {
   "cell_type": "markdown",
   "id": "804d29f6",
   "metadata": {},
   "source": [
    "Calculando o p-valor que nada mais é do que a probabilidade associada a estatística de teste calculada. Levando em conta n-2 graus de liberdade.\n",
    "\n",
    "Como estamos realizando um teste bicaudal, essa probabilidade deve ser dobrada."
   ]
  },
  {
   "cell_type": "code",
   "execution_count": 166,
   "id": "87217056",
   "metadata": {},
   "outputs": [
    {
     "data": {
      "text/plain": [
       "0.12064697753111908"
      ]
     },
     "execution_count": 166,
     "metadata": {},
     "output_type": "execute_result"
    }
   ],
   "source": [
    "p_valor = (t.cdf(estatistica_teste_t_f_l, n-2))*2\n",
    "p_valor"
   ]
  },
  {
   "cell_type": "markdown",
   "id": "fad7aef4",
   "metadata": {},
   "source": [
    "Calculando o valor crítico da distribuição para um nível de significância de 5%."
   ]
  },
  {
   "cell_type": "code",
   "execution_count": 167,
   "id": "4b29acb8",
   "metadata": {},
   "outputs": [
    {
     "data": {
      "text/plain": [
       "-2.048407141795244"
      ]
     },
     "execution_count": 167,
     "metadata": {},
     "output_type": "execute_result"
    }
   ],
   "source": [
    "t.ppf(0.05/2, n-2)"
   ]
  },
  {
   "cell_type": "markdown",
   "id": "d163c844",
   "metadata": {},
   "source": [
    "**Conclusão:** ao nível de significância de 5%, não rejeitamos a hipótese nula. Pois, a estatística de teste calculada é menor que o valor crítico da distribuição a esse nível de significância, ou seja, a estatística de teste está na região de não rejeição. Outra forma de concluirmos isso é pelo fato de o p-valor ser maior que o alpha.\n",
    "\n",
    "Logo, podemos concluir que a correlação entre as notas de física e literatura é estatisticamente igual a zero."
   ]
  },
  {
   "cell_type": "markdown",
   "id": "93335c08",
   "metadata": {},
   "source": [
    "-------------------------------------------------------------------------------------------------------------------------------"
   ]
  },
  {
   "cell_type": "markdown",
   "id": "e3ea7f1f",
   "metadata": {},
   "source": [
    "**16)**  Uma loja deseja verificar se a quantidade vendida em cada dia da \n",
    "semana varia em função do dia da semana. Os dados para as vendas em cada \n",
    "dia de uma semana escolhida aleatoriamente foram tabulados. Neste caso, o \n",
    "objetivo é testar se a frequência observada e esperada são iguais ou se são \n",
    "diferentes. (Fonte: Fávero e Belfiore, 2017, Cap. 8)\n",
    "\n",
    "Estamos frente a um teste qui-quadrado para uma amostra"
   ]
  },
  {
   "cell_type": "code",
   "execution_count": 168,
   "id": "4a326a17",
   "metadata": {},
   "outputs": [
    {
     "data": {
      "text/plain": [
       "[35, 24, 27, 32, 25, 36, 31]"
      ]
     },
     "execution_count": 168,
     "metadata": {},
     "output_type": "execute_result"
    }
   ],
   "source": [
    "freq_observadas = [35, 24, 27, 32, 25, 36, 31]\n",
    "freq_observadas"
   ]
  },
  {
   "cell_type": "code",
   "execution_count": 169,
   "id": "8dede718",
   "metadata": {},
   "outputs": [
    {
     "data": {
      "text/html": [
       "<div>\n",
       "<style scoped>\n",
       "    .dataframe tbody tr th:only-of-type {\n",
       "        vertical-align: middle;\n",
       "    }\n",
       "\n",
       "    .dataframe tbody tr th {\n",
       "        vertical-align: top;\n",
       "    }\n",
       "\n",
       "    .dataframe thead th {\n",
       "        text-align: right;\n",
       "    }\n",
       "</style>\n",
       "<table border=\"1\" class=\"dataframe\">\n",
       "  <thead>\n",
       "    <tr style=\"text-align: right;\">\n",
       "      <th></th>\n",
       "      <th>dia</th>\n",
       "      <th>freq observadas</th>\n",
       "    </tr>\n",
       "  </thead>\n",
       "  <tbody>\n",
       "    <tr>\n",
       "      <th>0</th>\n",
       "      <td>dom</td>\n",
       "      <td>35</td>\n",
       "    </tr>\n",
       "    <tr>\n",
       "      <th>1</th>\n",
       "      <td>seg</td>\n",
       "      <td>24</td>\n",
       "    </tr>\n",
       "    <tr>\n",
       "      <th>2</th>\n",
       "      <td>ter</td>\n",
       "      <td>27</td>\n",
       "    </tr>\n",
       "    <tr>\n",
       "      <th>3</th>\n",
       "      <td>qua</td>\n",
       "      <td>32</td>\n",
       "    </tr>\n",
       "    <tr>\n",
       "      <th>4</th>\n",
       "      <td>qui</td>\n",
       "      <td>25</td>\n",
       "    </tr>\n",
       "    <tr>\n",
       "      <th>5</th>\n",
       "      <td>sex</td>\n",
       "      <td>36</td>\n",
       "    </tr>\n",
       "    <tr>\n",
       "      <th>6</th>\n",
       "      <td>sab</td>\n",
       "      <td>31</td>\n",
       "    </tr>\n",
       "  </tbody>\n",
       "</table>\n",
       "</div>"
      ],
      "text/plain": [
       "   dia  freq observadas\n",
       "0  dom               35\n",
       "1  seg               24\n",
       "2  ter               27\n",
       "3  qua               32\n",
       "4  qui               25\n",
       "5  sex               36\n",
       "6  sab               31"
      ]
     },
     "execution_count": 169,
     "metadata": {},
     "output_type": "execute_result"
    }
   ],
   "source": [
    "df = pd.DataFrame({'dia': ['dom', 'seg', 'ter', 'qua', 'qui', 'sex', 'sab'],\n",
    "                   'freq observadas': freq_observadas})\n",
    "df"
   ]
  },
  {
   "cell_type": "code",
   "execution_count": 170,
   "id": "a73d433f",
   "metadata": {},
   "outputs": [
    {
     "data": {
      "text/html": [
       "<div>\n",
       "<style scoped>\n",
       "    .dataframe tbody tr th:only-of-type {\n",
       "        vertical-align: middle;\n",
       "    }\n",
       "\n",
       "    .dataframe tbody tr th {\n",
       "        vertical-align: top;\n",
       "    }\n",
       "\n",
       "    .dataframe thead th {\n",
       "        text-align: right;\n",
       "    }\n",
       "</style>\n",
       "<table border=\"1\" class=\"dataframe\">\n",
       "  <thead>\n",
       "    <tr style=\"text-align: right;\">\n",
       "      <th></th>\n",
       "      <th>dia</th>\n",
       "      <th>freq observadas</th>\n",
       "      <th>freq esperadas</th>\n",
       "    </tr>\n",
       "  </thead>\n",
       "  <tbody>\n",
       "    <tr>\n",
       "      <th>0</th>\n",
       "      <td>dom</td>\n",
       "      <td>35</td>\n",
       "      <td>30</td>\n",
       "    </tr>\n",
       "    <tr>\n",
       "      <th>1</th>\n",
       "      <td>seg</td>\n",
       "      <td>24</td>\n",
       "      <td>30</td>\n",
       "    </tr>\n",
       "    <tr>\n",
       "      <th>2</th>\n",
       "      <td>ter</td>\n",
       "      <td>27</td>\n",
       "      <td>30</td>\n",
       "    </tr>\n",
       "    <tr>\n",
       "      <th>3</th>\n",
       "      <td>qua</td>\n",
       "      <td>32</td>\n",
       "      <td>30</td>\n",
       "    </tr>\n",
       "    <tr>\n",
       "      <th>4</th>\n",
       "      <td>qui</td>\n",
       "      <td>25</td>\n",
       "      <td>30</td>\n",
       "    </tr>\n",
       "    <tr>\n",
       "      <th>5</th>\n",
       "      <td>sex</td>\n",
       "      <td>36</td>\n",
       "      <td>30</td>\n",
       "    </tr>\n",
       "    <tr>\n",
       "      <th>6</th>\n",
       "      <td>sab</td>\n",
       "      <td>31</td>\n",
       "      <td>30</td>\n",
       "    </tr>\n",
       "  </tbody>\n",
       "</table>\n",
       "</div>"
      ],
      "text/plain": [
       "   dia  freq observadas  freq esperadas\n",
       "0  dom               35              30\n",
       "1  seg               24              30\n",
       "2  ter               27              30\n",
       "3  qua               32              30\n",
       "4  qui               25              30\n",
       "5  sex               36              30\n",
       "6  sab               31              30"
      ]
     },
     "execution_count": 170,
     "metadata": {},
     "output_type": "execute_result"
    }
   ],
   "source": [
    "df['freq esperadas'] = df.apply(lambda x: int(df['freq observadas'].sum()/df['dia'].count()), axis=1)\n",
    "df"
   ]
  },
  {
   "cell_type": "code",
   "execution_count": 171,
   "id": "545cb649",
   "metadata": {},
   "outputs": [
    {
     "data": {
      "text/html": [
       "<div>\n",
       "<style scoped>\n",
       "    .dataframe tbody tr th:only-of-type {\n",
       "        vertical-align: middle;\n",
       "    }\n",
       "\n",
       "    .dataframe tbody tr th {\n",
       "        vertical-align: top;\n",
       "    }\n",
       "\n",
       "    .dataframe thead th {\n",
       "        text-align: right;\n",
       "    }\n",
       "</style>\n",
       "<table border=\"1\" class=\"dataframe\">\n",
       "  <thead>\n",
       "    <tr style=\"text-align: right;\">\n",
       "      <th></th>\n",
       "      <th>dia</th>\n",
       "      <th>freq observadas</th>\n",
       "      <th>freq esperadas</th>\n",
       "      <th>estatistica teste</th>\n",
       "    </tr>\n",
       "  </thead>\n",
       "  <tbody>\n",
       "    <tr>\n",
       "      <th>0</th>\n",
       "      <td>dom</td>\n",
       "      <td>35</td>\n",
       "      <td>30</td>\n",
       "      <td>0.833333</td>\n",
       "    </tr>\n",
       "    <tr>\n",
       "      <th>1</th>\n",
       "      <td>seg</td>\n",
       "      <td>24</td>\n",
       "      <td>30</td>\n",
       "      <td>1.200000</td>\n",
       "    </tr>\n",
       "    <tr>\n",
       "      <th>2</th>\n",
       "      <td>ter</td>\n",
       "      <td>27</td>\n",
       "      <td>30</td>\n",
       "      <td>0.300000</td>\n",
       "    </tr>\n",
       "    <tr>\n",
       "      <th>3</th>\n",
       "      <td>qua</td>\n",
       "      <td>32</td>\n",
       "      <td>30</td>\n",
       "      <td>0.133333</td>\n",
       "    </tr>\n",
       "    <tr>\n",
       "      <th>4</th>\n",
       "      <td>qui</td>\n",
       "      <td>25</td>\n",
       "      <td>30</td>\n",
       "      <td>0.833333</td>\n",
       "    </tr>\n",
       "    <tr>\n",
       "      <th>5</th>\n",
       "      <td>sex</td>\n",
       "      <td>36</td>\n",
       "      <td>30</td>\n",
       "      <td>1.200000</td>\n",
       "    </tr>\n",
       "    <tr>\n",
       "      <th>6</th>\n",
       "      <td>sab</td>\n",
       "      <td>31</td>\n",
       "      <td>30</td>\n",
       "      <td>0.033333</td>\n",
       "    </tr>\n",
       "  </tbody>\n",
       "</table>\n",
       "</div>"
      ],
      "text/plain": [
       "   dia  freq observadas  freq esperadas  estatistica teste\n",
       "0  dom               35              30           0.833333\n",
       "1  seg               24              30           1.200000\n",
       "2  ter               27              30           0.300000\n",
       "3  qua               32              30           0.133333\n",
       "4  qui               25              30           0.833333\n",
       "5  sex               36              30           1.200000\n",
       "6  sab               31              30           0.033333"
      ]
     },
     "execution_count": 171,
     "metadata": {},
     "output_type": "execute_result"
    }
   ],
   "source": [
    "df['estatistica teste'] = df.apply(lambda x: ((x['freq observadas'] - x['freq esperadas'])**2)/x['freq esperadas'], axis=1)\n",
    "df"
   ]
  },
  {
   "cell_type": "markdown",
   "id": "d29ce306",
   "metadata": {},
   "source": [
    "Calculando a estatística teste"
   ]
  },
  {
   "cell_type": "code",
   "execution_count": 172,
   "id": "29d265e7",
   "metadata": {},
   "outputs": [
    {
     "data": {
      "text/plain": [
       "4.533333333333333"
      ]
     },
     "execution_count": 172,
     "metadata": {},
     "output_type": "execute_result"
    }
   ],
   "source": [
    "estatistica_teste_qui = df['estatistica teste'].sum()\n",
    "estatistica_teste_qui"
   ]
  },
  {
   "cell_type": "markdown",
   "id": "b608254e",
   "metadata": {},
   "source": [
    "Calculando o p-valor que nada mais é do que a probabilidade associada à estatística teste calculada. Levando em conta k-1 graus de liberdade, que aqui é 7-1=6"
   ]
  },
  {
   "cell_type": "code",
   "execution_count": 173,
   "id": "4b0441fe",
   "metadata": {},
   "outputs": [
    {
     "data": {
      "text/plain": [
       "7"
      ]
     },
     "execution_count": 173,
     "metadata": {},
     "output_type": "execute_result"
    }
   ],
   "source": [
    "k = df.shape[0]\n",
    "k"
   ]
  },
  {
   "cell_type": "code",
   "execution_count": 174,
   "id": "64ceac97",
   "metadata": {},
   "outputs": [
    {
     "data": {
      "text/plain": [
       "0.604896932741938"
      ]
     },
     "execution_count": 174,
     "metadata": {},
     "output_type": "execute_result"
    }
   ],
   "source": [
    "# mesmo sendo um teste bicaudal, na qui² pegamos a cauda à direita, pois quanto mais diferente\n",
    "# mais à direita ficará, dado que a distribuição qui² é assimétrica à direita\n",
    "\n",
    "p_valor = 1 - chi2.cdf(estatistica_teste_qui, k-1)\n",
    "p_valor"
   ]
  },
  {
   "cell_type": "markdown",
   "id": "56e853ae",
   "metadata": {},
   "source": [
    "Calculando o valor crítico para o nível de significância de 5%"
   ]
  },
  {
   "cell_type": "code",
   "execution_count": 175,
   "id": "105df17d",
   "metadata": {},
   "outputs": [
    {
     "data": {
      "text/plain": [
       "12.59158724374398"
      ]
     },
     "execution_count": 175,
     "metadata": {},
     "output_type": "execute_result"
    }
   ],
   "source": [
    "valor_critico_dist_qui = chi2.isf(0.05, k-1)\n",
    "valor_critico_dist_qui"
   ]
  },
  {
   "cell_type": "markdown",
   "id": "a0dac8dd",
   "metadata": {},
   "source": [
    "**Conclusão:** ao nível de significância 5%, não rejeitamos a hipótese nula, pois a estatística de teste calculada é menor que o valor crítico a esse nível de significância, ou seja, a estatística de teste está na região de não rejeição. Outra forma de verificar isso é pelo fato de o p-valor ser maior que o alpha.\n",
    "\n",
    "Logo, podemos concluir que a frequência esperada é estatisticamente igual a frequência observada."
   ]
  },
  {
   "cell_type": "markdown",
   "id": "348df8db",
   "metadata": {},
   "source": [
    "-------------------------------------------------------------------------------------------------------------------------------"
   ]
  },
  {
   "cell_type": "markdown",
   "id": "64b1ef7a",
   "metadata": {},
   "source": [
    "**17)** Uma empresa de logística está analisando qual entre duas rotas \n",
    "oferece a melhor previsibilidade para o horário de entrega ao seu maior \n",
    "cliente. Foram coletados dados sobre o tempo de entrega durante 35 dias \n",
    "para cada rota. O diretor de logística deseja testar a hipótese que a rota B tem \n",
    "maior variabilidade no tempo de entrega, comparativamente à rota A.\n",
    "\n",
    "Estamos frente a um teste F para comparação de variâncias\n",
    "\n",
    "Queremos testar:\n",
    "\n",
    "H0: a variabilidade no tempo de entrega da rota B é igual à da rota A\n",
    "\n",
    "H1: a variabilidade no tempo de entrega da rota B é maior que da rota A"
   ]
  },
  {
   "cell_type": "code",
   "execution_count": 176,
   "id": "be75dbfa",
   "metadata": {},
   "outputs": [
    {
     "data": {
      "text/html": [
       "<div>\n",
       "<style scoped>\n",
       "    .dataframe tbody tr th:only-of-type {\n",
       "        vertical-align: middle;\n",
       "    }\n",
       "\n",
       "    .dataframe tbody tr th {\n",
       "        vertical-align: top;\n",
       "    }\n",
       "\n",
       "    .dataframe thead th {\n",
       "        text-align: right;\n",
       "    }\n",
       "</style>\n",
       "<table border=\"1\" class=\"dataframe\">\n",
       "  <thead>\n",
       "    <tr style=\"text-align: right;\">\n",
       "      <th></th>\n",
       "      <th>rota a</th>\n",
       "      <th>rota b</th>\n",
       "    </tr>\n",
       "  </thead>\n",
       "  <tbody>\n",
       "    <tr>\n",
       "      <th>0</th>\n",
       "      <td>121</td>\n",
       "      <td>90</td>\n",
       "    </tr>\n",
       "    <tr>\n",
       "      <th>1</th>\n",
       "      <td>109</td>\n",
       "      <td>120</td>\n",
       "    </tr>\n",
       "    <tr>\n",
       "      <th>2</th>\n",
       "      <td>107</td>\n",
       "      <td>93</td>\n",
       "    </tr>\n",
       "    <tr>\n",
       "      <th>3</th>\n",
       "      <td>111</td>\n",
       "      <td>110</td>\n",
       "    </tr>\n",
       "    <tr>\n",
       "      <th>4</th>\n",
       "      <td>101</td>\n",
       "      <td>91</td>\n",
       "    </tr>\n",
       "    <tr>\n",
       "      <th>5</th>\n",
       "      <td>132</td>\n",
       "      <td>115</td>\n",
       "    </tr>\n",
       "    <tr>\n",
       "      <th>6</th>\n",
       "      <td>110</td>\n",
       "      <td>88</td>\n",
       "    </tr>\n",
       "    <tr>\n",
       "      <th>7</th>\n",
       "      <td>117</td>\n",
       "      <td>124</td>\n",
       "    </tr>\n",
       "    <tr>\n",
       "      <th>8</th>\n",
       "      <td>132</td>\n",
       "      <td>99</td>\n",
       "    </tr>\n",
       "    <tr>\n",
       "      <th>9</th>\n",
       "      <td>104</td>\n",
       "      <td>74</td>\n",
       "    </tr>\n",
       "    <tr>\n",
       "      <th>10</th>\n",
       "      <td>127</td>\n",
       "      <td>81</td>\n",
       "    </tr>\n",
       "    <tr>\n",
       "      <th>11</th>\n",
       "      <td>120</td>\n",
       "      <td>104</td>\n",
       "    </tr>\n",
       "    <tr>\n",
       "      <th>12</th>\n",
       "      <td>126</td>\n",
       "      <td>77</td>\n",
       "    </tr>\n",
       "    <tr>\n",
       "      <th>13</th>\n",
       "      <td>112</td>\n",
       "      <td>79</td>\n",
       "    </tr>\n",
       "    <tr>\n",
       "      <th>14</th>\n",
       "      <td>108</td>\n",
       "      <td>115</td>\n",
       "    </tr>\n",
       "    <tr>\n",
       "      <th>15</th>\n",
       "      <td>138</td>\n",
       "      <td>88</td>\n",
       "    </tr>\n",
       "    <tr>\n",
       "      <th>16</th>\n",
       "      <td>116</td>\n",
       "      <td>119</td>\n",
       "    </tr>\n",
       "    <tr>\n",
       "      <th>17</th>\n",
       "      <td>105</td>\n",
       "      <td>81</td>\n",
       "    </tr>\n",
       "    <tr>\n",
       "      <th>18</th>\n",
       "      <td>117</td>\n",
       "      <td>120</td>\n",
       "    </tr>\n",
       "    <tr>\n",
       "      <th>19</th>\n",
       "      <td>129</td>\n",
       "      <td>80</td>\n",
       "    </tr>\n",
       "    <tr>\n",
       "      <th>20</th>\n",
       "      <td>133</td>\n",
       "      <td>116</td>\n",
       "    </tr>\n",
       "    <tr>\n",
       "      <th>21</th>\n",
       "      <td>109</td>\n",
       "      <td>133</td>\n",
       "    </tr>\n",
       "    <tr>\n",
       "      <th>22</th>\n",
       "      <td>105</td>\n",
       "      <td>93</td>\n",
       "    </tr>\n",
       "    <tr>\n",
       "      <th>23</th>\n",
       "      <td>122</td>\n",
       "      <td>111</td>\n",
       "    </tr>\n",
       "    <tr>\n",
       "      <th>24</th>\n",
       "      <td>137</td>\n",
       "      <td>114</td>\n",
       "    </tr>\n",
       "    <tr>\n",
       "      <th>25</th>\n",
       "      <td>119</td>\n",
       "      <td>87</td>\n",
       "    </tr>\n",
       "    <tr>\n",
       "      <th>26</th>\n",
       "      <td>120</td>\n",
       "      <td>103</td>\n",
       "    </tr>\n",
       "    <tr>\n",
       "      <th>27</th>\n",
       "      <td>124</td>\n",
       "      <td>99</td>\n",
       "    </tr>\n",
       "    <tr>\n",
       "      <th>28</th>\n",
       "      <td>106</td>\n",
       "      <td>116</td>\n",
       "    </tr>\n",
       "    <tr>\n",
       "      <th>29</th>\n",
       "      <td>108</td>\n",
       "      <td>102</td>\n",
       "    </tr>\n",
       "    <tr>\n",
       "      <th>30</th>\n",
       "      <td>136</td>\n",
       "      <td>81</td>\n",
       "    </tr>\n",
       "    <tr>\n",
       "      <th>31</th>\n",
       "      <td>116</td>\n",
       "      <td>99</td>\n",
       "    </tr>\n",
       "    <tr>\n",
       "      <th>32</th>\n",
       "      <td>113</td>\n",
       "      <td>118</td>\n",
       "    </tr>\n",
       "    <tr>\n",
       "      <th>33</th>\n",
       "      <td>118</td>\n",
       "      <td>126</td>\n",
       "    </tr>\n",
       "    <tr>\n",
       "      <th>34</th>\n",
       "      <td>109</td>\n",
       "      <td>97</td>\n",
       "    </tr>\n",
       "  </tbody>\n",
       "</table>\n",
       "</div>"
      ],
      "text/plain": [
       "    rota a  rota b\n",
       "0      121      90\n",
       "1      109     120\n",
       "2      107      93\n",
       "3      111     110\n",
       "4      101      91\n",
       "5      132     115\n",
       "6      110      88\n",
       "7      117     124\n",
       "8      132      99\n",
       "9      104      74\n",
       "10     127      81\n",
       "11     120     104\n",
       "12     126      77\n",
       "13     112      79\n",
       "14     108     115\n",
       "15     138      88\n",
       "16     116     119\n",
       "17     105      81\n",
       "18     117     120\n",
       "19     129      80\n",
       "20     133     116\n",
       "21     109     133\n",
       "22     105      93\n",
       "23     122     111\n",
       "24     137     114\n",
       "25     119      87\n",
       "26     120     103\n",
       "27     124      99\n",
       "28     106     116\n",
       "29     108     102\n",
       "30     136      81\n",
       "31     116      99\n",
       "32     113     118\n",
       "33     118     126\n",
       "34     109      97"
      ]
     },
     "execution_count": 176,
     "metadata": {},
     "output_type": "execute_result"
    }
   ],
   "source": [
    "rota_a = [121,109,107,111,101,132,110,117,132,104,127,120,126,112,108,138,116,\n",
    "          105,117,129,133,109,105,122,137,119,120,124,106,108,136,116,113,118,109]\n",
    "rota_b = [90,120,93,110,91,115,88,124,99,74,81,104,77,79,115,88,119,81,120,80,116,\n",
    "          133,93,111,114,87,103,99,116,102,81,99,118,126,97]\n",
    "\n",
    "df = pd.DataFrame({'rota a': rota_a, 'rota b': rota_b})\n",
    "df"
   ]
  },
  {
   "cell_type": "markdown",
   "id": "937d5d35",
   "metadata": {},
   "source": [
    "Calculando a estatística de teste"
   ]
  },
  {
   "cell_type": "code",
   "execution_count": 177,
   "id": "cebb87a3",
   "metadata": {},
   "outputs": [
    {
     "data": {
      "text/plain": [
       "110.24033613445374"
      ]
     },
     "execution_count": 177,
     "metadata": {},
     "output_type": "execute_result"
    }
   ],
   "source": [
    "var_a = df['rota a'].var()\n",
    "var_a"
   ]
  },
  {
   "cell_type": "code",
   "execution_count": 178,
   "id": "edc56ee0",
   "metadata": {},
   "outputs": [
    {
     "data": {
      "text/plain": [
       "266.41680672268905"
      ]
     },
     "execution_count": 178,
     "metadata": {},
     "output_type": "execute_result"
    }
   ],
   "source": [
    "var_b = df['rota b'].var()\n",
    "var_b"
   ]
  },
  {
   "cell_type": "code",
   "execution_count": 179,
   "id": "7862df12",
   "metadata": {},
   "outputs": [
    {
     "data": {
      "text/plain": [
       "2.416690805421311"
      ]
     },
     "execution_count": 179,
     "metadata": {},
     "output_type": "execute_result"
    }
   ],
   "source": [
    "# como var_b é maior que var_a, a estatística de teste ficará como sendo var_b/var_a\n",
    "\n",
    "estatistica_teste_f = var_b/var_a\n",
    "estatistica_teste_f"
   ]
  },
  {
   "cell_type": "markdown",
   "id": "83ed93fa",
   "metadata": {},
   "source": [
    "Calculando o p-valor que nada mais é do que a probabilidade associada à estatística de teste calculada. Levando em conta n-1 graus de liberdade no numerador e n-1 graus de liberdade no denominador"
   ]
  },
  {
   "cell_type": "code",
   "execution_count": 180,
   "id": "64cb0128",
   "metadata": {},
   "outputs": [
    {
     "data": {
      "text/plain": [
       "35"
      ]
     },
     "execution_count": 180,
     "metadata": {},
     "output_type": "execute_result"
    }
   ],
   "source": [
    "n_numerador = df['rota b'].count()\n",
    "n_numerador"
   ]
  },
  {
   "cell_type": "code",
   "execution_count": 181,
   "id": "e49cc15b",
   "metadata": {},
   "outputs": [
    {
     "data": {
      "text/plain": [
       "35"
      ]
     },
     "execution_count": 181,
     "metadata": {},
     "output_type": "execute_result"
    }
   ],
   "source": [
    "n_denominador = df['rota a'].count()\n",
    "n_denominador"
   ]
  },
  {
   "cell_type": "code",
   "execution_count": 182,
   "id": "7d6c52c4",
   "metadata": {},
   "outputs": [
    {
     "data": {
      "text/plain": [
       "0.005962425871078425"
      ]
     },
     "execution_count": 182,
     "metadata": {},
     "output_type": "execute_result"
    }
   ],
   "source": [
    "p_valor = 1 - f.cdf(estatistica_teste_f, n_numerador-1, n_denominador-1)\n",
    "p_valor"
   ]
  },
  {
   "cell_type": "markdown",
   "id": "b07b5a4e",
   "metadata": {},
   "source": [
    "Calculando o valor crítico para um nível de significância de 5%"
   ]
  },
  {
   "cell_type": "code",
   "execution_count": 183,
   "id": "e7930e6a",
   "metadata": {},
   "outputs": [
    {
     "data": {
      "text/plain": [
       "1.772066477170576"
      ]
     },
     "execution_count": 183,
     "metadata": {},
     "output_type": "execute_result"
    }
   ],
   "source": [
    "valor_critico_dist_f = f.isf(0.05, n_numerador-1, n_denominador-1)\n",
    "valor_critico_dist_f"
   ]
  },
  {
   "cell_type": "markdown",
   "id": "ead5be09",
   "metadata": {},
   "source": [
    "**Conclusão:** ao nível de significância de 5%, rejeitamos a hipótese nula. Pois, a estatística de teste calculada é maior que o valor crítico da distribuição a esse nível de significância, ou sejam a estatística de teste calculada está na região de rejeição. Outra forma de verificarmos isso é pelo fato de o p-valor ser menor que o alpha.\n",
    "\n",
    "Logo, podemos concluir que a variabilidade no tempo de entrega da rota B é estatisticamente maior que da rota A"
   ]
  },
  {
   "cell_type": "markdown",
   "id": "bccf6fdd",
   "metadata": {},
   "source": [
    "-------------------------------------------------------------------------------------------------------------------------------"
   ]
  },
  {
   "cell_type": "markdown",
   "id": "a1b19be1",
   "metadata": {},
   "source": [
    "**18)** Um engenheiro coletou uma amostra de 25 peças saídas da linha de \n",
    "montagem e encontrou que o tamanho médio foi de 47cm e o desvio padrão \n",
    "foi 1cm. Qual é o intervalo de confiança com 95% para esta média estimada?"
   ]
  },
  {
   "cell_type": "code",
   "execution_count": 184,
   "id": "b23eacc3",
   "metadata": {},
   "outputs": [
    {
     "data": {
      "text/plain": [
       "25"
      ]
     },
     "execution_count": 184,
     "metadata": {},
     "output_type": "execute_result"
    }
   ],
   "source": [
    "n = 25\n",
    "n"
   ]
  },
  {
   "cell_type": "code",
   "execution_count": 185,
   "id": "c356d251",
   "metadata": {},
   "outputs": [
    {
     "data": {
      "text/plain": [
       "47"
      ]
     },
     "execution_count": 185,
     "metadata": {},
     "output_type": "execute_result"
    }
   ],
   "source": [
    "media = 47\n",
    "media"
   ]
  },
  {
   "cell_type": "code",
   "execution_count": 186,
   "id": "593f0e1b",
   "metadata": {},
   "outputs": [
    {
     "data": {
      "text/plain": [
       "1"
      ]
     },
     "execution_count": 186,
     "metadata": {},
     "output_type": "execute_result"
    }
   ],
   "source": [
    "desvio_padrao = 1\n",
    "desvio_padrao"
   ]
  },
  {
   "cell_type": "markdown",
   "id": "1707c011",
   "metadata": {},
   "source": [
    "Como temos o desvio padrão amostral, faremos o intervalo de confiança usando a t.\n",
    "\n",
    "Lembrando que usamos os valores bicaudais.\n",
    "\n",
    "E como vamos usar a t, temos n-1 graus de liberdade"
   ]
  },
  {
   "cell_type": "code",
   "execution_count": 187,
   "id": "3421099a",
   "metadata": {},
   "outputs": [
    {
     "data": {
      "text/plain": [
       "2.063898561628021"
      ]
     },
     "execution_count": 187,
     "metadata": {},
     "output_type": "execute_result"
    }
   ],
   "source": [
    "valor_critico_t = t.isf(0.05/2, n-1)\n",
    "valor_critico_t"
   ]
  },
  {
   "cell_type": "code",
   "execution_count": 188,
   "id": "fd6d8ef5",
   "metadata": {},
   "outputs": [
    {
     "data": {
      "text/plain": [
       "(46.5872202876744, 47.4127797123256)"
      ]
     },
     "execution_count": 188,
     "metadata": {},
     "output_type": "execute_result"
    }
   ],
   "source": [
    "lim_inf = media - (valor_critico_t*(desvio_padrao/math.sqrt(n)))\n",
    "lim_sup = media + (valor_critico_t*(desvio_padrao/math.sqrt(n)))\n",
    "\n",
    "ic = (lim_inf, lim_sup)\n",
    "ic"
   ]
  },
  {
   "cell_type": "markdown",
   "id": "3a63c7e8",
   "metadata": {},
   "source": [
    "-------------------------------------------------------------------------------------------------------------------------------"
   ]
  },
  {
   "cell_type": "markdown",
   "id": "18d767d5",
   "metadata": {},
   "source": [
    "**19)** Em uma indústria, o gerente de produção fez um levantamento com \n",
    "30 medições da temperatura (em °C) dos dois principais fornos da linha de \n",
    "produção que produzem os produtos do mesmo tipo. Destas, 15 medições \n",
    "foram do forno A e 15 medições foram para o forno B. O objetivo é verificar \n",
    "se a temperatura média está consideravelmente diferente entre os fornos.\n",
    "\n",
    "Estamos frente a um teste t para comparação de médias em duas amostras independentes.\n",
    "\n",
    "Queremos testar:\n",
    "\n",
    "H0: as médias são iguais\n",
    "\n",
    "H1: as médias são diferentes\n",
    "\n",
    "Teste bicaudal"
   ]
  },
  {
   "cell_type": "code",
   "execution_count": 189,
   "id": "4e84c7cb",
   "metadata": {},
   "outputs": [
    {
     "data": {
      "text/html": [
       "<div>\n",
       "<style scoped>\n",
       "    .dataframe tbody tr th:only-of-type {\n",
       "        vertical-align: middle;\n",
       "    }\n",
       "\n",
       "    .dataframe tbody tr th {\n",
       "        vertical-align: top;\n",
       "    }\n",
       "\n",
       "    .dataframe thead th {\n",
       "        text-align: right;\n",
       "    }\n",
       "</style>\n",
       "<table border=\"1\" class=\"dataframe\">\n",
       "  <thead>\n",
       "    <tr style=\"text-align: right;\">\n",
       "      <th></th>\n",
       "      <th>forno a</th>\n",
       "      <th>forno b</th>\n",
       "    </tr>\n",
       "  </thead>\n",
       "  <tbody>\n",
       "    <tr>\n",
       "      <th>0</th>\n",
       "      <td>197.5</td>\n",
       "      <td>189.3</td>\n",
       "    </tr>\n",
       "    <tr>\n",
       "      <th>1</th>\n",
       "      <td>190.9</td>\n",
       "      <td>188.3</td>\n",
       "    </tr>\n",
       "    <tr>\n",
       "      <th>2</th>\n",
       "      <td>188.3</td>\n",
       "      <td>196.0</td>\n",
       "    </tr>\n",
       "    <tr>\n",
       "      <th>3</th>\n",
       "      <td>192.6</td>\n",
       "      <td>188.8</td>\n",
       "    </tr>\n",
       "    <tr>\n",
       "      <th>4</th>\n",
       "      <td>199.2</td>\n",
       "      <td>190.7</td>\n",
       "    </tr>\n",
       "    <tr>\n",
       "      <th>5</th>\n",
       "      <td>196.9</td>\n",
       "      <td>194.9</td>\n",
       "    </tr>\n",
       "    <tr>\n",
       "      <th>6</th>\n",
       "      <td>196.9</td>\n",
       "      <td>186.9</td>\n",
       "    </tr>\n",
       "    <tr>\n",
       "      <th>7</th>\n",
       "      <td>198.6</td>\n",
       "      <td>190.0</td>\n",
       "    </tr>\n",
       "    <tr>\n",
       "      <th>8</th>\n",
       "      <td>192.0</td>\n",
       "      <td>191.7</td>\n",
       "    </tr>\n",
       "    <tr>\n",
       "      <th>9</th>\n",
       "      <td>197.5</td>\n",
       "      <td>189.2</td>\n",
       "    </tr>\n",
       "    <tr>\n",
       "      <th>10</th>\n",
       "      <td>195.0</td>\n",
       "      <td>190.3</td>\n",
       "    </tr>\n",
       "    <tr>\n",
       "      <th>11</th>\n",
       "      <td>193.9</td>\n",
       "      <td>191.1</td>\n",
       "    </tr>\n",
       "    <tr>\n",
       "      <th>12</th>\n",
       "      <td>197.7</td>\n",
       "      <td>189.6</td>\n",
       "    </tr>\n",
       "    <tr>\n",
       "      <th>13</th>\n",
       "      <td>195.5</td>\n",
       "      <td>194.7</td>\n",
       "    </tr>\n",
       "    <tr>\n",
       "      <th>14</th>\n",
       "      <td>193.2</td>\n",
       "      <td>190.3</td>\n",
       "    </tr>\n",
       "  </tbody>\n",
       "</table>\n",
       "</div>"
      ],
      "text/plain": [
       "    forno a  forno b\n",
       "0     197.5    189.3\n",
       "1     190.9    188.3\n",
       "2     188.3    196.0\n",
       "3     192.6    188.8\n",
       "4     199.2    190.7\n",
       "5     196.9    194.9\n",
       "6     196.9    186.9\n",
       "7     198.6    190.0\n",
       "8     192.0    191.7\n",
       "9     197.5    189.2\n",
       "10    195.0    190.3\n",
       "11    193.9    191.1\n",
       "12    197.7    189.6\n",
       "13    195.5    194.7\n",
       "14    193.2    190.3"
      ]
     },
     "execution_count": 189,
     "metadata": {},
     "output_type": "execute_result"
    }
   ],
   "source": [
    "forno_a = [197.50,190.90,188.30,192.60,199.20,196.90,196.90,198.60,192.00,197.50,195.00,193.90,197.70,195.50,193.20]\n",
    "forno_b = [189.30,188.30,196.00,188.80,190.70,194.90,186.90,190.00,191.70,189.20,190.30,191.10,189.60,194.70,190.30]\n",
    "\n",
    "df = pd.DataFrame({'forno a': forno_a, 'forno b': forno_b})\n",
    "df"
   ]
  },
  {
   "cell_type": "markdown",
   "id": "a97c2034",
   "metadata": {},
   "source": [
    "Para comparar as médias de duas amostras independentes de uma mesma população por meio do teste t, antes é necessário comparar as varâncias populacionais dos dois grupos usando o teste F para comparação de variâncias. Isso deve ser feito, pois dependendo do resultado do teste F, usamos uma ou outra fórmula para calcular a estatística de teste t."
   ]
  },
  {
   "cell_type": "markdown",
   "id": "db2c0ca7",
   "metadata": {},
   "source": [
    "Portanto, realizando o teste F para comparação de variâncias."
   ]
  },
  {
   "cell_type": "markdown",
   "id": "708d3c57",
   "metadata": {},
   "source": [
    "H0: as variâncias são iguais\n",
    "\n",
    "H1: as variâncias são diferentes"
   ]
  },
  {
   "cell_type": "markdown",
   "id": "e970da85",
   "metadata": {},
   "source": [
    "Calculando a estatística de teste"
   ]
  },
  {
   "cell_type": "code",
   "execution_count": 190,
   "id": "a888245d",
   "metadata": {},
   "outputs": [
    {
     "data": {
      "text/plain": [
       "9.909809523809503"
      ]
     },
     "execution_count": 190,
     "metadata": {},
     "output_type": "execute_result"
    }
   ],
   "source": [
    "var_a = df['forno a'].var()\n",
    "var_a"
   ]
  },
  {
   "cell_type": "code",
   "execution_count": 191,
   "id": "42e2dd1f",
   "metadata": {},
   "outputs": [
    {
     "data": {
      "text/plain": [
       "6.629809523809508"
      ]
     },
     "execution_count": 191,
     "metadata": {},
     "output_type": "execute_result"
    }
   ],
   "source": [
    "var_b = df['forno b'].var()\n",
    "var_b"
   ]
  },
  {
   "cell_type": "code",
   "execution_count": 192,
   "id": "69921b5a",
   "metadata": {},
   "outputs": [
    {
     "data": {
      "text/plain": [
       "1.4947351787740801"
      ]
     },
     "execution_count": 192,
     "metadata": {},
     "output_type": "execute_result"
    }
   ],
   "source": [
    "# como var_a > var_b, f = var_a/var_b\n",
    "\n",
    "estatistica_teste_f = var_a/var_b\n",
    "estatistica_teste_f"
   ]
  },
  {
   "cell_type": "markdown",
   "id": "523d16fe",
   "metadata": {},
   "source": [
    "Calculando o p-valor que nada mais é do que a probabilidade associada à estatística de teste calculada"
   ]
  },
  {
   "cell_type": "code",
   "execution_count": 193,
   "id": "9a30c3a0",
   "metadata": {},
   "outputs": [
    {
     "data": {
      "text/plain": [
       "15"
      ]
     },
     "execution_count": 193,
     "metadata": {},
     "output_type": "execute_result"
    }
   ],
   "source": [
    "n_numerador = df['forno a'].count()\n",
    "n_numerador"
   ]
  },
  {
   "cell_type": "code",
   "execution_count": 194,
   "id": "fe878d78",
   "metadata": {},
   "outputs": [
    {
     "data": {
      "text/plain": [
       "15"
      ]
     },
     "execution_count": 194,
     "metadata": {},
     "output_type": "execute_result"
    }
   ],
   "source": [
    "n_denominador = df['forno b'].count()\n",
    "n_denominador"
   ]
  },
  {
   "cell_type": "code",
   "execution_count": 195,
   "id": "ec6489d6",
   "metadata": {},
   "outputs": [
    {
     "data": {
      "text/plain": [
       "0.23078580393960157"
      ]
     },
     "execution_count": 195,
     "metadata": {},
     "output_type": "execute_result"
    }
   ],
   "source": [
    "# mesmo sendo um teste bicaudal, na f pegamos a cauda à direita, pois quanto mais diferente\n",
    "# mais à direita ficará, dado que a distribuição f é assimétrica à direita\n",
    "\n",
    "p_valor = 1 - f.cdf(estatistica_teste_f, n_numerador-1, n_denominador-1)\n",
    "p_valor"
   ]
  },
  {
   "cell_type": "markdown",
   "id": "cac1ee3f",
   "metadata": {},
   "source": [
    "Calculando o valor crítico da distribuição para um nível de significância de 5%"
   ]
  },
  {
   "cell_type": "code",
   "execution_count": 196,
   "id": "072018a9",
   "metadata": {},
   "outputs": [
    {
     "data": {
      "text/plain": [
       "2.483725741128222"
      ]
     },
     "execution_count": 196,
     "metadata": {},
     "output_type": "execute_result"
    }
   ],
   "source": [
    "valor_critico_dist_f = f.isf(0.05, n_numerador-1, n_denominador-1)\n",
    "valor_critico_dist_f"
   ]
  },
  {
   "cell_type": "markdown",
   "id": "c7356f8d",
   "metadata": {},
   "source": [
    "**Conclusão:** ao nível de significância de 5%, não rejeitamos a hipótese nula, pois a estatística de teste calculada é menor que o valor crítico a esse nível de significância, ou seja, a estatística de teste está na região de rejeição. Outra forma de verificarmos isso é pelo fato de o p-valor ser maior que o alpha.\n",
    "\n",
    "Logo, concluímos que as variâncias são estatisticamente iguais."
   ]
  },
  {
   "cell_type": "markdown",
   "id": "96835b89",
   "metadata": {},
   "source": [
    "Portanto, dado que as variâncias são estatisticamente homogêneas, a estatística t para comparação de médias em duas amostras independentes vem da fórmula:\n",
    "\n",
    "# $$T = \\frac{X_1-X_2}{S_p\\sqrt{{\\frac{1}{n_1}}+{\\frac{1}{n_2}}}}$$\n",
    "\n",
    "Em que, \n",
    "\n",
    "# $$S_p = \\sqrt{{\\frac{(n_1-1)S_1^2+(n_2-1)S_2^2}{n_1+n_2-2}}}$$\n",
    "\n",
    "e os graus de liberdade são\n",
    "# $$n_1+n_2-2$$"
   ]
  },
  {
   "cell_type": "markdown",
   "id": "6545969e",
   "metadata": {},
   "source": [
    "Calculando a estatística de teste"
   ]
  },
  {
   "cell_type": "code",
   "execution_count": 197,
   "id": "2d3b9849",
   "metadata": {},
   "outputs": [
    {
     "data": {
      "text/plain": [
       "195.04666666666665"
      ]
     },
     "execution_count": 197,
     "metadata": {},
     "output_type": "execute_result"
    }
   ],
   "source": [
    "x1 = df['forno a'].mean()\n",
    "x1"
   ]
  },
  {
   "cell_type": "code",
   "execution_count": 198,
   "id": "5dca5afb",
   "metadata": {},
   "outputs": [
    {
     "data": {
      "text/plain": [
       "190.7866666666667"
      ]
     },
     "execution_count": 198,
     "metadata": {},
     "output_type": "execute_result"
    }
   ],
   "source": [
    "x2 = df['forno b'].mean()\n",
    "x2"
   ]
  },
  {
   "cell_type": "code",
   "execution_count": 199,
   "id": "9c99252e",
   "metadata": {},
   "outputs": [
    {
     "data": {
      "text/plain": [
       "2.8757276511883916"
      ]
     },
     "execution_count": 199,
     "metadata": {},
     "output_type": "execute_result"
    }
   ],
   "source": [
    "sp = math.sqrt(((n_numerador-1)*var_a + (n_denominador-1)*var_b)/(n_numerador+n_denominador-2))\n",
    "sp"
   ]
  },
  {
   "cell_type": "code",
   "execution_count": 200,
   "id": "ec724792",
   "metadata": {},
   "outputs": [
    {
     "data": {
      "text/plain": [
       "4.056882949273298"
      ]
     },
     "execution_count": 200,
     "metadata": {},
     "output_type": "execute_result"
    }
   ],
   "source": [
    "estatistica_teste_t_medias = (x1-x2)/(sp*math.sqrt((1/n_numerador) + (1/n_denominador)))\n",
    "estatistica_teste_t_medias"
   ]
  },
  {
   "cell_type": "markdown",
   "id": "b78a56fa",
   "metadata": {},
   "source": [
    "Calculando o p-valor que nada mais é do que a probabilidade associada à estatística de teste calculada. Levando em conta que são n_numerador + n_denominador - 2 graus de liberdade.\n",
    "\n",
    "Como é um teste bicaudal, essa probabilidade deve ser dobrada"
   ]
  },
  {
   "cell_type": "code",
   "execution_count": 201,
   "id": "2561a870",
   "metadata": {},
   "outputs": [
    {
     "data": {
      "text/plain": [
       "0.0003606988170754555"
      ]
     },
     "execution_count": 201,
     "metadata": {},
     "output_type": "execute_result"
    }
   ],
   "source": [
    "p_valor = (1 - t.cdf(estatistica_teste_t_medias, n_numerador+n_denominador-2))*2\n",
    "p_valor"
   ]
  },
  {
   "cell_type": "markdown",
   "id": "0e546ef4",
   "metadata": {},
   "source": [
    "Calculando o valor crítico para esse nível de significância. Lembrando que é um teste bicaudal."
   ]
  },
  {
   "cell_type": "code",
   "execution_count": 202,
   "id": "9fd3ef32",
   "metadata": {},
   "outputs": [
    {
     "data": {
      "text/plain": [
       "2.048407141795244"
      ]
     },
     "execution_count": 202,
     "metadata": {},
     "output_type": "execute_result"
    }
   ],
   "source": [
    "valor_critico_dist_t = t.isf(0.05/2, n_numerador+n_denominador-2)\n",
    "valor_critico_dist_t"
   ]
  },
  {
   "cell_type": "markdown",
   "id": "747e1750",
   "metadata": {},
   "source": [
    "**Conclusão:** ao nível de significância de 5%, rejeitamos a hipótese nula, pois a estatística de teste calculada é maior que o valor crítico a esse nível de significância, ou seja, a estatística de teste está na região de rejeição. Outra forma de verificar isso é pelo fato de o p-valor ser menor que alpha.\n",
    "\n",
    "Logo, podemos concluir que as médias dos fornos são estatisticamente diferentes."
   ]
  },
  {
   "cell_type": "markdown",
   "id": "d2735eb5",
   "metadata": {},
   "source": [
    "-------------------------------------------------------------------------------------------------------------------------------"
   ]
  },
  {
   "cell_type": "markdown",
   "id": "b91021ee",
   "metadata": {},
   "source": [
    "**20)** Um pesquisador em botânica identificou que um teste estatístico \n",
    "de seu estudo deve ser avaliado com base na distribuição qui-quadrado, \n",
    "sendo 7 graus de liberdade em seu teste. Neste contexto, avalie o seguinte:\n",
    "\n",
    "https://docs.scipy.org/doc/scipy/reference/generated/scipy.stats.chi2.html#scipy.stats.chi2"
   ]
  },
  {
   "cell_type": "markdown",
   "id": "4b12a14b",
   "metadata": {},
   "source": [
    "a) A probabilidade de que encontre um valor X>6.\n",
    "\n",
    "P(X>6) = 1 - P(X<6)"
   ]
  },
  {
   "cell_type": "code",
   "execution_count": 205,
   "id": "26233c56",
   "metadata": {},
   "outputs": [
    {
     "data": {
      "text/plain": [
       "0.539749350395557"
      ]
     },
     "execution_count": 205,
     "metadata": {},
     "output_type": "execute_result"
    }
   ],
   "source": [
    "1 - chi2.cdf(6, 7)"
   ]
  },
  {
   "cell_type": "markdown",
   "id": "110e1c82",
   "metadata": {},
   "source": [
    "b) A probabilidade de que encontre um valor X<8."
   ]
  },
  {
   "cell_type": "code",
   "execution_count": 206,
   "id": "2ccd7319",
   "metadata": {},
   "outputs": [
    {
     "data": {
      "text/plain": [
       "0.6674060974006919"
      ]
     },
     "execution_count": 206,
     "metadata": {},
     "output_type": "execute_result"
    }
   ],
   "source": [
    "chi2.cdf(8, 7)"
   ]
  },
  {
   "cell_type": "markdown",
   "id": "e3dc318a",
   "metadata": {},
   "source": [
    "c) O valor de X que faz com que a P(X>x) seja 5%."
   ]
  },
  {
   "cell_type": "code",
   "execution_count": 208,
   "id": "41cf213e",
   "metadata": {},
   "outputs": [
    {
     "data": {
      "text/plain": [
       "14.067140449340167"
      ]
     },
     "execution_count": 208,
     "metadata": {},
     "output_type": "execute_result"
    }
   ],
   "source": [
    "chi2.isf(0.05, 7)"
   ]
  },
  {
   "cell_type": "markdown",
   "id": "575259fe",
   "metadata": {},
   "source": [
    "d) O valor de X que faz com que a P(X<x) seja 90%."
   ]
  },
  {
   "cell_type": "code",
   "execution_count": 209,
   "id": "3b7662ef",
   "metadata": {},
   "outputs": [
    {
     "data": {
      "text/plain": [
       "12.017036623780532"
      ]
     },
     "execution_count": 209,
     "metadata": {},
     "output_type": "execute_result"
    }
   ],
   "source": [
    "chi2.ppf(0.9, 7)"
   ]
  }
 ],
 "metadata": {
  "kernelspec": {
   "display_name": "Python 3 (ipykernel)",
   "language": "python",
   "name": "python3"
  },
  "language_info": {
   "codemirror_mode": {
    "name": "ipython",
    "version": 3
   },
   "file_extension": ".py",
   "mimetype": "text/x-python",
   "name": "python",
   "nbconvert_exporter": "python",
   "pygments_lexer": "ipython3",
   "version": "3.10.9"
  }
 },
 "nbformat": 4,
 "nbformat_minor": 5
}
